{
  "nbformat": 4,
  "nbformat_minor": 0,
  "metadata": {
    "colab": {
      "name": "Train_set_latest.ipynb",
      "provenance": [],
      "collapsed_sections": [
        "JsdYqntnoBzL",
        "bFjn24QEzjJ5",
        "hg6YEjB7JBKG"
      ]
    },
    "kernelspec": {
      "display_name": "Python 3",
      "language": "python",
      "name": "python3"
    },
    "language_info": {
      "codemirror_mode": {
        "name": "ipython",
        "version": 3
      },
      "file_extension": ".py",
      "mimetype": "text/x-python",
      "name": "python",
      "nbconvert_exporter": "python",
      "pygments_lexer": "ipython3",
      "version": "3.8.3"
    }
  },
  "cells": [
    {
      "cell_type": "markdown",
      "metadata": {
        "id": "JD7Gf67aog-8"
      },
      "source": [
        "<h2><b>Predicting weekly sales forecast - WALMART</b></h2>"
      ]
    },
    {
      "cell_type": "markdown",
      "metadata": {
        "id": "fEoV9IcXoqpK"
      },
      "source": [
        "<i><b>Mounting google drive to google colab<b></i>"
      ]
    },
    {
      "cell_type": "code",
      "metadata": {
        "colab": {
          "base_uri": "https://localhost:8080/"
        },
        "id": "06o-w3iWrj51",
        "outputId": "11f76ab5-2275-4651-e3c6-6005ca589b2b"
      },
      "source": [
        "from google.colab import drive \n",
        "drive.mount('/content/drive')"
      ],
      "execution_count": null,
      "outputs": [
        {
          "output_type": "stream",
          "text": [
            "Drive already mounted at /content/drive; to attempt to forcibly remount, call drive.mount(\"/content/drive\", force_remount=True).\n"
          ],
          "name": "stdout"
        }
      ]
    },
    {
      "cell_type": "markdown",
      "metadata": {
        "id": "Sqr4t1-Q-o8M"
      },
      "source": [
        "<h2>About the dataset</h2>\n",
        "\n",
        "This is the historical training data, which covers to **2010-02-05 to 2012-11-01**. Within this file you will find the following fields:\n",
        "\n",
        "**Store** - the store number<br>\n",
        "**Dept** - the department number<br>\n",
        "**Date** - the week<br>\n",
        "**Weekly_Sales** -  sales for the given department in the given store<br>\n",
        "**IsHoliday** - whether the week is a special holiday week"
      ]
    },
    {
      "cell_type": "markdown",
      "metadata": {
        "id": "wXNQ4RjQvsyU"
      },
      "source": [
        "<i>**Loading the data from drive and reading it with pandas**</i>"
      ]
    },
    {
      "cell_type": "code",
      "metadata": {
        "id": "MwXGoMkrsZ2B"
      },
      "source": [
        "from pandas import read_csv\n",
        "import pandas as pd\n",
        "data_load = '/content/drive/My Drive/Data Mining Assignment/train.csv';"
      ],
      "execution_count": null,
      "outputs": []
    },
    {
      "cell_type": "code",
      "metadata": {
        "id": "h_L4GzbhAkA6"
      },
      "source": [
        "import numpy as np\n",
        "import pandas as pd\n",
        "import matplotlib.pyplot as plt\n",
        "import seaborn as sns\n",
        "import warnings"
      ],
      "execution_count": null,
      "outputs": []
    },
    {
      "cell_type": "code",
      "metadata": {
        "colab": {
          "base_uri": "https://localhost:8080/",
          "height": 202
        },
        "id": "nRogmsn2ytTU",
        "outputId": "2890c348-5c02-4f0b-dbb1-386f3c30fe57"
      },
      "source": [
        "df_features = pd.read_csv('/content/drive/My Drive/Data Mining Assignment/features.csv', sep=',')\n",
        "df_stores = pd.read_csv('/content/drive/My Drive/Data Mining Assignment/stores.csv', sep=',')\n",
        "\n",
        "df_features_stores = df_features.merge(df_stores, how='inner', on='Store')\n",
        "df_features_stores.head()"
      ],
      "execution_count": null,
      "outputs": [
        {
          "output_type": "execute_result",
          "data": {
            "text/html": [
              "<div>\n",
              "<style scoped>\n",
              "    .dataframe tbody tr th:only-of-type {\n",
              "        vertical-align: middle;\n",
              "    }\n",
              "\n",
              "    .dataframe tbody tr th {\n",
              "        vertical-align: top;\n",
              "    }\n",
              "\n",
              "    .dataframe thead th {\n",
              "        text-align: right;\n",
              "    }\n",
              "</style>\n",
              "<table border=\"1\" class=\"dataframe\">\n",
              "  <thead>\n",
              "    <tr style=\"text-align: right;\">\n",
              "      <th></th>\n",
              "      <th>Store</th>\n",
              "      <th>Date</th>\n",
              "      <th>Temperature</th>\n",
              "      <th>Fuel_Price</th>\n",
              "      <th>MarkDown1</th>\n",
              "      <th>MarkDown2</th>\n",
              "      <th>MarkDown3</th>\n",
              "      <th>MarkDown4</th>\n",
              "      <th>MarkDown5</th>\n",
              "      <th>CPI</th>\n",
              "      <th>Unemployment</th>\n",
              "      <th>IsHoliday</th>\n",
              "      <th>Type</th>\n",
              "      <th>Size</th>\n",
              "    </tr>\n",
              "  </thead>\n",
              "  <tbody>\n",
              "    <tr>\n",
              "      <th>0</th>\n",
              "      <td>1</td>\n",
              "      <td>2010-02-05</td>\n",
              "      <td>42.31</td>\n",
              "      <td>2.572</td>\n",
              "      <td>NaN</td>\n",
              "      <td>NaN</td>\n",
              "      <td>NaN</td>\n",
              "      <td>NaN</td>\n",
              "      <td>NaN</td>\n",
              "      <td>211.096358</td>\n",
              "      <td>8.106</td>\n",
              "      <td>False</td>\n",
              "      <td>A</td>\n",
              "      <td>151315</td>\n",
              "    </tr>\n",
              "    <tr>\n",
              "      <th>1</th>\n",
              "      <td>1</td>\n",
              "      <td>2010-02-12</td>\n",
              "      <td>38.51</td>\n",
              "      <td>2.548</td>\n",
              "      <td>NaN</td>\n",
              "      <td>NaN</td>\n",
              "      <td>NaN</td>\n",
              "      <td>NaN</td>\n",
              "      <td>NaN</td>\n",
              "      <td>211.242170</td>\n",
              "      <td>8.106</td>\n",
              "      <td>True</td>\n",
              "      <td>A</td>\n",
              "      <td>151315</td>\n",
              "    </tr>\n",
              "    <tr>\n",
              "      <th>2</th>\n",
              "      <td>1</td>\n",
              "      <td>2010-02-19</td>\n",
              "      <td>39.93</td>\n",
              "      <td>2.514</td>\n",
              "      <td>NaN</td>\n",
              "      <td>NaN</td>\n",
              "      <td>NaN</td>\n",
              "      <td>NaN</td>\n",
              "      <td>NaN</td>\n",
              "      <td>211.289143</td>\n",
              "      <td>8.106</td>\n",
              "      <td>False</td>\n",
              "      <td>A</td>\n",
              "      <td>151315</td>\n",
              "    </tr>\n",
              "    <tr>\n",
              "      <th>3</th>\n",
              "      <td>1</td>\n",
              "      <td>2010-02-26</td>\n",
              "      <td>46.63</td>\n",
              "      <td>2.561</td>\n",
              "      <td>NaN</td>\n",
              "      <td>NaN</td>\n",
              "      <td>NaN</td>\n",
              "      <td>NaN</td>\n",
              "      <td>NaN</td>\n",
              "      <td>211.319643</td>\n",
              "      <td>8.106</td>\n",
              "      <td>False</td>\n",
              "      <td>A</td>\n",
              "      <td>151315</td>\n",
              "    </tr>\n",
              "    <tr>\n",
              "      <th>4</th>\n",
              "      <td>1</td>\n",
              "      <td>2010-03-05</td>\n",
              "      <td>46.50</td>\n",
              "      <td>2.625</td>\n",
              "      <td>NaN</td>\n",
              "      <td>NaN</td>\n",
              "      <td>NaN</td>\n",
              "      <td>NaN</td>\n",
              "      <td>NaN</td>\n",
              "      <td>211.350143</td>\n",
              "      <td>8.106</td>\n",
              "      <td>False</td>\n",
              "      <td>A</td>\n",
              "      <td>151315</td>\n",
              "    </tr>\n",
              "  </tbody>\n",
              "</table>\n",
              "</div>"
            ],
            "text/plain": [
              "   Store        Date  Temperature  ...  IsHoliday  Type    Size\n",
              "0      1  2010-02-05        42.31  ...      False     A  151315\n",
              "1      1  2010-02-12        38.51  ...       True     A  151315\n",
              "2      1  2010-02-19        39.93  ...      False     A  151315\n",
              "3      1  2010-02-26        46.63  ...      False     A  151315\n",
              "4      1  2010-03-05        46.50  ...      False     A  151315\n",
              "\n",
              "[5 rows x 14 columns]"
            ]
          },
          "metadata": {
            "tags": []
          },
          "execution_count": 73
        }
      ]
    },
    {
      "cell_type": "code",
      "metadata": {
        "colab": {
          "base_uri": "https://localhost:8080/",
          "height": 309
        },
        "id": "UspE72c8_b6k",
        "outputId": "ad8b330d-6a2c-43fc-eb76-8ef0f4e2672a"
      },
      "source": [
        "df_train = pd.read_csv('/content/drive/My Drive/Data Mining Assignment/train.csv', sep=',')\n",
        "train = df_train.merge(df_features_stores, how='inner', on=['Store','Date','IsHoliday'])\n",
        "train.head()"
      ],
      "execution_count": null,
      "outputs": [
        {
          "output_type": "execute_result",
          "data": {
            "text/html": [
              "<div>\n",
              "<style scoped>\n",
              "    .dataframe tbody tr th:only-of-type {\n",
              "        vertical-align: middle;\n",
              "    }\n",
              "\n",
              "    .dataframe tbody tr th {\n",
              "        vertical-align: top;\n",
              "    }\n",
              "\n",
              "    .dataframe thead th {\n",
              "        text-align: right;\n",
              "    }\n",
              "</style>\n",
              "<table border=\"1\" class=\"dataframe\">\n",
              "  <thead>\n",
              "    <tr style=\"text-align: right;\">\n",
              "      <th></th>\n",
              "      <th>Store</th>\n",
              "      <th>Dept</th>\n",
              "      <th>Date</th>\n",
              "      <th>Weekly_Sales</th>\n",
              "      <th>IsHoliday</th>\n",
              "      <th>Temperature</th>\n",
              "      <th>Fuel_Price</th>\n",
              "      <th>MarkDown1</th>\n",
              "      <th>MarkDown2</th>\n",
              "      <th>MarkDown3</th>\n",
              "      <th>MarkDown4</th>\n",
              "      <th>MarkDown5</th>\n",
              "      <th>CPI</th>\n",
              "      <th>Unemployment</th>\n",
              "      <th>Type</th>\n",
              "      <th>Size</th>\n",
              "    </tr>\n",
              "  </thead>\n",
              "  <tbody>\n",
              "    <tr>\n",
              "      <th>0</th>\n",
              "      <td>1</td>\n",
              "      <td>1</td>\n",
              "      <td>2010-02-05</td>\n",
              "      <td>24924.50</td>\n",
              "      <td>False</td>\n",
              "      <td>42.31</td>\n",
              "      <td>2.572</td>\n",
              "      <td>NaN</td>\n",
              "      <td>NaN</td>\n",
              "      <td>NaN</td>\n",
              "      <td>NaN</td>\n",
              "      <td>NaN</td>\n",
              "      <td>211.096358</td>\n",
              "      <td>8.106</td>\n",
              "      <td>A</td>\n",
              "      <td>151315</td>\n",
              "    </tr>\n",
              "    <tr>\n",
              "      <th>1</th>\n",
              "      <td>1</td>\n",
              "      <td>2</td>\n",
              "      <td>2010-02-05</td>\n",
              "      <td>50605.27</td>\n",
              "      <td>False</td>\n",
              "      <td>42.31</td>\n",
              "      <td>2.572</td>\n",
              "      <td>NaN</td>\n",
              "      <td>NaN</td>\n",
              "      <td>NaN</td>\n",
              "      <td>NaN</td>\n",
              "      <td>NaN</td>\n",
              "      <td>211.096358</td>\n",
              "      <td>8.106</td>\n",
              "      <td>A</td>\n",
              "      <td>151315</td>\n",
              "    </tr>\n",
              "    <tr>\n",
              "      <th>2</th>\n",
              "      <td>1</td>\n",
              "      <td>3</td>\n",
              "      <td>2010-02-05</td>\n",
              "      <td>13740.12</td>\n",
              "      <td>False</td>\n",
              "      <td>42.31</td>\n",
              "      <td>2.572</td>\n",
              "      <td>NaN</td>\n",
              "      <td>NaN</td>\n",
              "      <td>NaN</td>\n",
              "      <td>NaN</td>\n",
              "      <td>NaN</td>\n",
              "      <td>211.096358</td>\n",
              "      <td>8.106</td>\n",
              "      <td>A</td>\n",
              "      <td>151315</td>\n",
              "    </tr>\n",
              "    <tr>\n",
              "      <th>3</th>\n",
              "      <td>1</td>\n",
              "      <td>4</td>\n",
              "      <td>2010-02-05</td>\n",
              "      <td>39954.04</td>\n",
              "      <td>False</td>\n",
              "      <td>42.31</td>\n",
              "      <td>2.572</td>\n",
              "      <td>NaN</td>\n",
              "      <td>NaN</td>\n",
              "      <td>NaN</td>\n",
              "      <td>NaN</td>\n",
              "      <td>NaN</td>\n",
              "      <td>211.096358</td>\n",
              "      <td>8.106</td>\n",
              "      <td>A</td>\n",
              "      <td>151315</td>\n",
              "    </tr>\n",
              "    <tr>\n",
              "      <th>4</th>\n",
              "      <td>1</td>\n",
              "      <td>5</td>\n",
              "      <td>2010-02-05</td>\n",
              "      <td>32229.38</td>\n",
              "      <td>False</td>\n",
              "      <td>42.31</td>\n",
              "      <td>2.572</td>\n",
              "      <td>NaN</td>\n",
              "      <td>NaN</td>\n",
              "      <td>NaN</td>\n",
              "      <td>NaN</td>\n",
              "      <td>NaN</td>\n",
              "      <td>211.096358</td>\n",
              "      <td>8.106</td>\n",
              "      <td>A</td>\n",
              "      <td>151315</td>\n",
              "    </tr>\n",
              "  </tbody>\n",
              "</table>\n",
              "</div>"
            ],
            "text/plain": [
              "   Store  Dept        Date  Weekly_Sales  ...         CPI  Unemployment  Type    Size\n",
              "0      1     1  2010-02-05      24924.50  ...  211.096358         8.106     A  151315\n",
              "1      1     2  2010-02-05      50605.27  ...  211.096358         8.106     A  151315\n",
              "2      1     3  2010-02-05      13740.12  ...  211.096358         8.106     A  151315\n",
              "3      1     4  2010-02-05      39954.04  ...  211.096358         8.106     A  151315\n",
              "4      1     5  2010-02-05      32229.38  ...  211.096358         8.106     A  151315\n",
              "\n",
              "[5 rows x 16 columns]"
            ]
          },
          "metadata": {
            "tags": []
          },
          "execution_count": 74
        }
      ]
    },
    {
      "cell_type": "code",
      "metadata": {
        "colab": {
          "base_uri": "https://localhost:8080/",
          "height": 309
        },
        "id": "BmjNGtjeRqxj",
        "outputId": "a5421fce-0c42-44b7-e352-907b5328bcec"
      },
      "source": [
        "df_test = pd.read_csv('/content/drive/My Drive/Data Mining Assignment/test.csv', sep=',')\n",
        "test = df_test.merge(df_features_stores, how='inner', on=['Store','Date','IsHoliday'])\n",
        "test.head()"
      ],
      "execution_count": null,
      "outputs": [
        {
          "output_type": "execute_result",
          "data": {
            "text/html": [
              "<div>\n",
              "<style scoped>\n",
              "    .dataframe tbody tr th:only-of-type {\n",
              "        vertical-align: middle;\n",
              "    }\n",
              "\n",
              "    .dataframe tbody tr th {\n",
              "        vertical-align: top;\n",
              "    }\n",
              "\n",
              "    .dataframe thead th {\n",
              "        text-align: right;\n",
              "    }\n",
              "</style>\n",
              "<table border=\"1\" class=\"dataframe\">\n",
              "  <thead>\n",
              "    <tr style=\"text-align: right;\">\n",
              "      <th></th>\n",
              "      <th>Store</th>\n",
              "      <th>Dept</th>\n",
              "      <th>Date</th>\n",
              "      <th>IsHoliday</th>\n",
              "      <th>Temperature</th>\n",
              "      <th>Fuel_Price</th>\n",
              "      <th>MarkDown1</th>\n",
              "      <th>MarkDown2</th>\n",
              "      <th>MarkDown3</th>\n",
              "      <th>MarkDown4</th>\n",
              "      <th>MarkDown5</th>\n",
              "      <th>CPI</th>\n",
              "      <th>Unemployment</th>\n",
              "      <th>Type</th>\n",
              "      <th>Size</th>\n",
              "    </tr>\n",
              "  </thead>\n",
              "  <tbody>\n",
              "    <tr>\n",
              "      <th>0</th>\n",
              "      <td>1</td>\n",
              "      <td>1</td>\n",
              "      <td>2012-11-02</td>\n",
              "      <td>False</td>\n",
              "      <td>55.32</td>\n",
              "      <td>3.386</td>\n",
              "      <td>6766.44</td>\n",
              "      <td>5147.7</td>\n",
              "      <td>50.82</td>\n",
              "      <td>3639.9</td>\n",
              "      <td>2737.42</td>\n",
              "      <td>223.462779</td>\n",
              "      <td>6.573</td>\n",
              "      <td>A</td>\n",
              "      <td>151315</td>\n",
              "    </tr>\n",
              "    <tr>\n",
              "      <th>1</th>\n",
              "      <td>1</td>\n",
              "      <td>2</td>\n",
              "      <td>2012-11-02</td>\n",
              "      <td>False</td>\n",
              "      <td>55.32</td>\n",
              "      <td>3.386</td>\n",
              "      <td>6766.44</td>\n",
              "      <td>5147.7</td>\n",
              "      <td>50.82</td>\n",
              "      <td>3639.9</td>\n",
              "      <td>2737.42</td>\n",
              "      <td>223.462779</td>\n",
              "      <td>6.573</td>\n",
              "      <td>A</td>\n",
              "      <td>151315</td>\n",
              "    </tr>\n",
              "    <tr>\n",
              "      <th>2</th>\n",
              "      <td>1</td>\n",
              "      <td>3</td>\n",
              "      <td>2012-11-02</td>\n",
              "      <td>False</td>\n",
              "      <td>55.32</td>\n",
              "      <td>3.386</td>\n",
              "      <td>6766.44</td>\n",
              "      <td>5147.7</td>\n",
              "      <td>50.82</td>\n",
              "      <td>3639.9</td>\n",
              "      <td>2737.42</td>\n",
              "      <td>223.462779</td>\n",
              "      <td>6.573</td>\n",
              "      <td>A</td>\n",
              "      <td>151315</td>\n",
              "    </tr>\n",
              "    <tr>\n",
              "      <th>3</th>\n",
              "      <td>1</td>\n",
              "      <td>4</td>\n",
              "      <td>2012-11-02</td>\n",
              "      <td>False</td>\n",
              "      <td>55.32</td>\n",
              "      <td>3.386</td>\n",
              "      <td>6766.44</td>\n",
              "      <td>5147.7</td>\n",
              "      <td>50.82</td>\n",
              "      <td>3639.9</td>\n",
              "      <td>2737.42</td>\n",
              "      <td>223.462779</td>\n",
              "      <td>6.573</td>\n",
              "      <td>A</td>\n",
              "      <td>151315</td>\n",
              "    </tr>\n",
              "    <tr>\n",
              "      <th>4</th>\n",
              "      <td>1</td>\n",
              "      <td>5</td>\n",
              "      <td>2012-11-02</td>\n",
              "      <td>False</td>\n",
              "      <td>55.32</td>\n",
              "      <td>3.386</td>\n",
              "      <td>6766.44</td>\n",
              "      <td>5147.7</td>\n",
              "      <td>50.82</td>\n",
              "      <td>3639.9</td>\n",
              "      <td>2737.42</td>\n",
              "      <td>223.462779</td>\n",
              "      <td>6.573</td>\n",
              "      <td>A</td>\n",
              "      <td>151315</td>\n",
              "    </tr>\n",
              "  </tbody>\n",
              "</table>\n",
              "</div>"
            ],
            "text/plain": [
              "   Store  Dept        Date  IsHoliday  ...         CPI  Unemployment  Type    Size\n",
              "0      1     1  2012-11-02      False  ...  223.462779         6.573     A  151315\n",
              "1      1     2  2012-11-02      False  ...  223.462779         6.573     A  151315\n",
              "2      1     3  2012-11-02      False  ...  223.462779         6.573     A  151315\n",
              "3      1     4  2012-11-02      False  ...  223.462779         6.573     A  151315\n",
              "4      1     5  2012-11-02      False  ...  223.462779         6.573     A  151315\n",
              "\n",
              "[5 rows x 15 columns]"
            ]
          },
          "metadata": {
            "tags": []
          },
          "execution_count": 75
        }
      ]
    },
    {
      "cell_type": "code",
      "metadata": {
        "colab": {
          "base_uri": "https://localhost:8080/"
        },
        "id": "KTHcE8l8jh6q",
        "outputId": "6d53f802-b5b6-4ab6-a22a-d88d9f1bc3c1"
      },
      "source": [
        "print(\"Min date value in train set: \", train['Date'].min())\n",
        "print(\"Max date value in train set:\", train['Date'].max())\n",
        "\n",
        "print(\"Min date value in test set: \", test['Date'].min())\n",
        "print(\"Max date value in test set:\", test['Date'].max())"
      ],
      "execution_count": null,
      "outputs": [
        {
          "output_type": "stream",
          "text": [
            "Min date value in train set:  2010-02-05\n",
            "Max date value in train set: 2012-10-26\n",
            "Min date value in test set:  2012-11-02\n",
            "Max date value in test set: 2013-07-26\n"
          ],
          "name": "stdout"
        }
      ]
    },
    {
      "cell_type": "markdown",
      "metadata": {
        "id": "SZRj2GTDlNN3"
      },
      "source": [
        "Since the records are weekly, the \"date\" variable is converted to week of the year and year, as two new variables."
      ]
    },
    {
      "cell_type": "markdown",
      "metadata": {
        "id": "JsdYqntnoBzL"
      },
      "source": [
        "#Checking for number of stores and departments"
      ]
    },
    {
      "cell_type": "code",
      "metadata": {
        "id": "1U8Rb2Rams7k"
      },
      "source": [
        "train['Date'] = pd.to_datetime(train['Date'])\n",
        "test['Date'] = pd.to_datetime(test['Date'])\n",
        "\n",
        "train['Week'] = train['Date'].dt.isocalendar().week\n",
        "test['Week'] = test['Date'].dt.isocalendar().week\n",
        "\n",
        "train['Month'] = pd.to_datetime(train['Date']).dt.month\n",
        "test['Month'] = pd.to_datetime(test['Date']).dt.month\n",
        "\n",
        "train['Year'] = train['Date'].dt.isocalendar().year\n",
        "test['Year'] = test['Date'].dt.isocalendar().year\n"
      ],
      "execution_count": null,
      "outputs": []
    },
    {
      "cell_type": "code",
      "metadata": {
        "colab": {
          "base_uri": "https://localhost:8080/",
          "height": 309
        },
        "id": "_wCqGiUapjRj",
        "outputId": "17f8f94c-089b-4ad8-9338-ddf264cc60ed"
      },
      "source": [
        "train.head()\n"
      ],
      "execution_count": null,
      "outputs": [
        {
          "output_type": "execute_result",
          "data": {
            "text/html": [
              "<div>\n",
              "<style scoped>\n",
              "    .dataframe tbody tr th:only-of-type {\n",
              "        vertical-align: middle;\n",
              "    }\n",
              "\n",
              "    .dataframe tbody tr th {\n",
              "        vertical-align: top;\n",
              "    }\n",
              "\n",
              "    .dataframe thead th {\n",
              "        text-align: right;\n",
              "    }\n",
              "</style>\n",
              "<table border=\"1\" class=\"dataframe\">\n",
              "  <thead>\n",
              "    <tr style=\"text-align: right;\">\n",
              "      <th></th>\n",
              "      <th>Store</th>\n",
              "      <th>Dept</th>\n",
              "      <th>Date</th>\n",
              "      <th>Weekly_Sales</th>\n",
              "      <th>IsHoliday</th>\n",
              "      <th>Temperature</th>\n",
              "      <th>Fuel_Price</th>\n",
              "      <th>MarkDown1</th>\n",
              "      <th>MarkDown2</th>\n",
              "      <th>MarkDown3</th>\n",
              "      <th>MarkDown4</th>\n",
              "      <th>MarkDown5</th>\n",
              "      <th>CPI</th>\n",
              "      <th>Unemployment</th>\n",
              "      <th>Type</th>\n",
              "      <th>Size</th>\n",
              "      <th>Week</th>\n",
              "      <th>Month</th>\n",
              "      <th>Year</th>\n",
              "    </tr>\n",
              "  </thead>\n",
              "  <tbody>\n",
              "    <tr>\n",
              "      <th>0</th>\n",
              "      <td>1</td>\n",
              "      <td>1</td>\n",
              "      <td>2010-02-05</td>\n",
              "      <td>24924.50</td>\n",
              "      <td>False</td>\n",
              "      <td>42.31</td>\n",
              "      <td>2.572</td>\n",
              "      <td>NaN</td>\n",
              "      <td>NaN</td>\n",
              "      <td>NaN</td>\n",
              "      <td>NaN</td>\n",
              "      <td>NaN</td>\n",
              "      <td>211.096358</td>\n",
              "      <td>8.106</td>\n",
              "      <td>A</td>\n",
              "      <td>151315</td>\n",
              "      <td>5</td>\n",
              "      <td>2</td>\n",
              "      <td>2010</td>\n",
              "    </tr>\n",
              "    <tr>\n",
              "      <th>1</th>\n",
              "      <td>1</td>\n",
              "      <td>2</td>\n",
              "      <td>2010-02-05</td>\n",
              "      <td>50605.27</td>\n",
              "      <td>False</td>\n",
              "      <td>42.31</td>\n",
              "      <td>2.572</td>\n",
              "      <td>NaN</td>\n",
              "      <td>NaN</td>\n",
              "      <td>NaN</td>\n",
              "      <td>NaN</td>\n",
              "      <td>NaN</td>\n",
              "      <td>211.096358</td>\n",
              "      <td>8.106</td>\n",
              "      <td>A</td>\n",
              "      <td>151315</td>\n",
              "      <td>5</td>\n",
              "      <td>2</td>\n",
              "      <td>2010</td>\n",
              "    </tr>\n",
              "    <tr>\n",
              "      <th>2</th>\n",
              "      <td>1</td>\n",
              "      <td>3</td>\n",
              "      <td>2010-02-05</td>\n",
              "      <td>13740.12</td>\n",
              "      <td>False</td>\n",
              "      <td>42.31</td>\n",
              "      <td>2.572</td>\n",
              "      <td>NaN</td>\n",
              "      <td>NaN</td>\n",
              "      <td>NaN</td>\n",
              "      <td>NaN</td>\n",
              "      <td>NaN</td>\n",
              "      <td>211.096358</td>\n",
              "      <td>8.106</td>\n",
              "      <td>A</td>\n",
              "      <td>151315</td>\n",
              "      <td>5</td>\n",
              "      <td>2</td>\n",
              "      <td>2010</td>\n",
              "    </tr>\n",
              "    <tr>\n",
              "      <th>3</th>\n",
              "      <td>1</td>\n",
              "      <td>4</td>\n",
              "      <td>2010-02-05</td>\n",
              "      <td>39954.04</td>\n",
              "      <td>False</td>\n",
              "      <td>42.31</td>\n",
              "      <td>2.572</td>\n",
              "      <td>NaN</td>\n",
              "      <td>NaN</td>\n",
              "      <td>NaN</td>\n",
              "      <td>NaN</td>\n",
              "      <td>NaN</td>\n",
              "      <td>211.096358</td>\n",
              "      <td>8.106</td>\n",
              "      <td>A</td>\n",
              "      <td>151315</td>\n",
              "      <td>5</td>\n",
              "      <td>2</td>\n",
              "      <td>2010</td>\n",
              "    </tr>\n",
              "    <tr>\n",
              "      <th>4</th>\n",
              "      <td>1</td>\n",
              "      <td>5</td>\n",
              "      <td>2010-02-05</td>\n",
              "      <td>32229.38</td>\n",
              "      <td>False</td>\n",
              "      <td>42.31</td>\n",
              "      <td>2.572</td>\n",
              "      <td>NaN</td>\n",
              "      <td>NaN</td>\n",
              "      <td>NaN</td>\n",
              "      <td>NaN</td>\n",
              "      <td>NaN</td>\n",
              "      <td>211.096358</td>\n",
              "      <td>8.106</td>\n",
              "      <td>A</td>\n",
              "      <td>151315</td>\n",
              "      <td>5</td>\n",
              "      <td>2</td>\n",
              "      <td>2010</td>\n",
              "    </tr>\n",
              "  </tbody>\n",
              "</table>\n",
              "</div>"
            ],
            "text/plain": [
              "   Store  Dept       Date  Weekly_Sales  ...    Size  Week  Month  Year\n",
              "0      1     1 2010-02-05      24924.50  ...  151315     5      2  2010\n",
              "1      1     2 2010-02-05      50605.27  ...  151315     5      2  2010\n",
              "2      1     3 2010-02-05      13740.12  ...  151315     5      2  2010\n",
              "3      1     4 2010-02-05      39954.04  ...  151315     5      2  2010\n",
              "4      1     5 2010-02-05      32229.38  ...  151315     5      2  2010\n",
              "\n",
              "[5 rows x 19 columns]"
            ]
          },
          "metadata": {
            "tags": []
          },
          "execution_count": 78
        }
      ]
    },
    {
      "cell_type": "code",
      "metadata": {
        "colab": {
          "base_uri": "https://localhost:8080/",
          "height": 314
        },
        "id": "5xCwbYHE_LdT",
        "outputId": "11b74c0f-6ca2-4469-8909-4f593a3733d9"
      },
      "source": [
        "test.describe()"
      ],
      "execution_count": null,
      "outputs": [
        {
          "output_type": "execute_result",
          "data": {
            "text/html": [
              "<div>\n",
              "<style scoped>\n",
              "    .dataframe tbody tr th:only-of-type {\n",
              "        vertical-align: middle;\n",
              "    }\n",
              "\n",
              "    .dataframe tbody tr th {\n",
              "        vertical-align: top;\n",
              "    }\n",
              "\n",
              "    .dataframe thead th {\n",
              "        text-align: right;\n",
              "    }\n",
              "</style>\n",
              "<table border=\"1\" class=\"dataframe\">\n",
              "  <thead>\n",
              "    <tr style=\"text-align: right;\">\n",
              "      <th></th>\n",
              "      <th>Store</th>\n",
              "      <th>Dept</th>\n",
              "      <th>Temperature</th>\n",
              "      <th>Fuel_Price</th>\n",
              "      <th>MarkDown1</th>\n",
              "      <th>MarkDown2</th>\n",
              "      <th>MarkDown3</th>\n",
              "      <th>MarkDown4</th>\n",
              "      <th>MarkDown5</th>\n",
              "      <th>CPI</th>\n",
              "      <th>Unemployment</th>\n",
              "      <th>Size</th>\n",
              "      <th>Week</th>\n",
              "      <th>Month</th>\n",
              "      <th>Year</th>\n",
              "    </tr>\n",
              "  </thead>\n",
              "  <tbody>\n",
              "    <tr>\n",
              "      <th>count</th>\n",
              "      <td>115064.000000</td>\n",
              "      <td>115064.000000</td>\n",
              "      <td>115064.000000</td>\n",
              "      <td>115064.000000</td>\n",
              "      <td>114915.000000</td>\n",
              "      <td>86437.000000</td>\n",
              "      <td>105235.000000</td>\n",
              "      <td>102176.000000</td>\n",
              "      <td>115064.000000</td>\n",
              "      <td>76902.000000</td>\n",
              "      <td>76902.000000</td>\n",
              "      <td>115064.000000</td>\n",
              "      <td>115064.000000</td>\n",
              "      <td>115064.000000</td>\n",
              "      <td>115064.000000</td>\n",
              "    </tr>\n",
              "    <tr>\n",
              "      <th>mean</th>\n",
              "      <td>22.238207</td>\n",
              "      <td>44.339524</td>\n",
              "      <td>53.941804</td>\n",
              "      <td>3.581546</td>\n",
              "      <td>7689.216439</td>\n",
              "      <td>3734.051729</td>\n",
              "      <td>2403.088666</td>\n",
              "      <td>3356.219071</td>\n",
              "      <td>3922.681189</td>\n",
              "      <td>176.961347</td>\n",
              "      <td>6.868733</td>\n",
              "      <td>136497.688921</td>\n",
              "      <td>23.050963</td>\n",
              "      <td>5.729855</td>\n",
              "      <td>2012.767182</td>\n",
              "    </tr>\n",
              "    <tr>\n",
              "      <th>std</th>\n",
              "      <td>12.809930</td>\n",
              "      <td>30.656410</td>\n",
              "      <td>18.724153</td>\n",
              "      <td>0.239442</td>\n",
              "      <td>10698.760716</td>\n",
              "      <td>8323.495014</td>\n",
              "      <td>13767.939313</td>\n",
              "      <td>7570.501545</td>\n",
              "      <td>19445.150745</td>\n",
              "      <td>41.239967</td>\n",
              "      <td>1.583427</td>\n",
              "      <td>61106.926438</td>\n",
              "      <td>15.750407</td>\n",
              "      <td>3.590331</td>\n",
              "      <td>0.422629</td>\n",
              "    </tr>\n",
              "    <tr>\n",
              "      <th>min</th>\n",
              "      <td>1.000000</td>\n",
              "      <td>1.000000</td>\n",
              "      <td>-7.290000</td>\n",
              "      <td>2.872000</td>\n",
              "      <td>-2781.450000</td>\n",
              "      <td>-35.740000</td>\n",
              "      <td>-179.260000</td>\n",
              "      <td>0.220000</td>\n",
              "      <td>-185.170000</td>\n",
              "      <td>131.236226</td>\n",
              "      <td>3.684000</td>\n",
              "      <td>34875.000000</td>\n",
              "      <td>1.000000</td>\n",
              "      <td>1.000000</td>\n",
              "      <td>2012.000000</td>\n",
              "    </tr>\n",
              "    <tr>\n",
              "      <th>25%</th>\n",
              "      <td>11.000000</td>\n",
              "      <td>18.000000</td>\n",
              "      <td>39.820000</td>\n",
              "      <td>3.431000</td>\n",
              "      <td>1966.460000</td>\n",
              "      <td>180.350000</td>\n",
              "      <td>15.100000</td>\n",
              "      <td>155.460000</td>\n",
              "      <td>1309.300000</td>\n",
              "      <td>138.402033</td>\n",
              "      <td>5.771000</td>\n",
              "      <td>93638.000000</td>\n",
              "      <td>10.000000</td>\n",
              "      <td>3.000000</td>\n",
              "      <td>2013.000000</td>\n",
              "    </tr>\n",
              "    <tr>\n",
              "      <th>50%</th>\n",
              "      <td>22.000000</td>\n",
              "      <td>37.000000</td>\n",
              "      <td>54.470000</td>\n",
              "      <td>3.606000</td>\n",
              "      <td>4842.290000</td>\n",
              "      <td>742.590000</td>\n",
              "      <td>78.260000</td>\n",
              "      <td>840.940000</td>\n",
              "      <td>2390.430000</td>\n",
              "      <td>192.304445</td>\n",
              "      <td>6.806000</td>\n",
              "      <td>140167.000000</td>\n",
              "      <td>20.000000</td>\n",
              "      <td>5.000000</td>\n",
              "      <td>2013.000000</td>\n",
              "    </tr>\n",
              "    <tr>\n",
              "      <th>75%</th>\n",
              "      <td>33.000000</td>\n",
              "      <td>74.000000</td>\n",
              "      <td>67.350000</td>\n",
              "      <td>3.766000</td>\n",
              "      <td>9439.140000</td>\n",
              "      <td>2735.670000</td>\n",
              "      <td>272.580000</td>\n",
              "      <td>3096.920000</td>\n",
              "      <td>4227.270000</td>\n",
              "      <td>223.244532</td>\n",
              "      <td>8.036000</td>\n",
              "      <td>202505.000000</td>\n",
              "      <td>30.000000</td>\n",
              "      <td>7.000000</td>\n",
              "      <td>2013.000000</td>\n",
              "    </tr>\n",
              "    <tr>\n",
              "      <th>max</th>\n",
              "      <td>45.000000</td>\n",
              "      <td>99.000000</td>\n",
              "      <td>101.950000</td>\n",
              "      <td>4.125000</td>\n",
              "      <td>103184.980000</td>\n",
              "      <td>71074.170000</td>\n",
              "      <td>149483.310000</td>\n",
              "      <td>65344.640000</td>\n",
              "      <td>771448.100000</td>\n",
              "      <td>228.976456</td>\n",
              "      <td>10.199000</td>\n",
              "      <td>219622.000000</td>\n",
              "      <td>52.000000</td>\n",
              "      <td>12.000000</td>\n",
              "      <td>2013.000000</td>\n",
              "    </tr>\n",
              "  </tbody>\n",
              "</table>\n",
              "</div>"
            ],
            "text/plain": [
              "               Store           Dept  ...          Month           Year\n",
              "count  115064.000000  115064.000000  ...  115064.000000  115064.000000\n",
              "mean       22.238207      44.339524  ...       5.729855    2012.767182\n",
              "std        12.809930      30.656410  ...       3.590331       0.422629\n",
              "min         1.000000       1.000000  ...       1.000000    2012.000000\n",
              "25%        11.000000      18.000000  ...       3.000000    2013.000000\n",
              "50%        22.000000      37.000000  ...       5.000000    2013.000000\n",
              "75%        33.000000      74.000000  ...       7.000000    2013.000000\n",
              "max        45.000000      99.000000  ...      12.000000    2013.000000\n",
              "\n",
              "[8 rows x 15 columns]"
            ]
          },
          "metadata": {
            "tags": []
          },
          "execution_count": 79
        }
      ]
    },
    {
      "cell_type": "markdown",
      "metadata": {
        "id": "CfRV1VP9GXhc"
      },
      "source": [
        "There's a lot of similarity between the test and training dataset"
      ]
    },
    {
      "cell_type": "markdown",
      "metadata": {
        "id": "bFjn24QEzjJ5"
      },
      "source": [
        "# Understanding the datasets"
      ]
    },
    {
      "cell_type": "markdown",
      "metadata": {
        "id": "4v4b0ImIz7c9"
      },
      "source": [
        "Data types present in training data"
      ]
    },
    {
      "cell_type": "code",
      "metadata": {
        "colab": {
          "base_uri": "https://localhost:8080/"
        },
        "id": "5-RT8UVG0Tay",
        "outputId": "d3351353-a311-4cda-be1a-7056a2de8c99"
      },
      "source": [
        "train.dtypes"
      ],
      "execution_count": null,
      "outputs": [
        {
          "output_type": "execute_result",
          "data": {
            "text/plain": [
              "Store                    int64\n",
              "Dept                     int64\n",
              "Date            datetime64[ns]\n",
              "Weekly_Sales           float64\n",
              "IsHoliday                 bool\n",
              "Temperature            float64\n",
              "Fuel_Price             float64\n",
              "MarkDown1              float64\n",
              "MarkDown2              float64\n",
              "MarkDown3              float64\n",
              "MarkDown4              float64\n",
              "MarkDown5              float64\n",
              "CPI                    float64\n",
              "Unemployment           float64\n",
              "Type                    object\n",
              "Size                     int64\n",
              "Week                    UInt32\n",
              "Month                    int64\n",
              "Year                    UInt32\n",
              "dtype: object"
            ]
          },
          "metadata": {
            "tags": []
          },
          "execution_count": 80
        }
      ]
    },
    {
      "cell_type": "code",
      "metadata": {
        "colab": {
          "base_uri": "https://localhost:8080/"
        },
        "id": "GkVmctTy1b9I",
        "outputId": "546936a8-9692-4930-8434-3014345c3550"
      },
      "source": [
        "train['Type'].unique()"
      ],
      "execution_count": null,
      "outputs": [
        {
          "output_type": "execute_result",
          "data": {
            "text/plain": [
              "array(['A', 'B', 'C'], dtype=object)"
            ]
          },
          "metadata": {
            "tags": []
          },
          "execution_count": 81
        }
      ]
    },
    {
      "cell_type": "markdown",
      "metadata": {
        "id": "SAv23j912IgC"
      },
      "source": [
        "Converting the Type and IsHoliday value to integer for easy processing"
      ]
    },
    {
      "cell_type": "code",
      "metadata": {
        "id": "eQGxx_h01hV_"
      },
      "source": [
        "#for train set\n",
        "train['Date'] = pd.to_datetime(train['Date'])\n",
        "train['Type'] = train['Type'] .apply(lambda x: 3 if x == 'A' else(2 if x == 'B' else 1))\n",
        "train['IsHoliday'] = train['IsHoliday'].apply(lambda x: 1 if x == True else 0)\n",
        "\n",
        "cols = train.columns.drop(['Date'])\n",
        "train[cols] = train[cols].apply(pd.to_numeric, errors='coerce')\n",
        "\n",
        "#for test set\n",
        "test['Date'] = pd.to_datetime(test['Date'])\n",
        "test['Type'] = test['Type'].apply(lambda x: 3 if x == 'A' else(2 if x == 'B' else 1))\n",
        "test['IsHoliday'] = test['IsHoliday'].apply(lambda x: 1 if x == True else 0)\n",
        "\n",
        "cols = test.columns.drop(['Date'])\n",
        "test[cols] = test[cols].apply(pd.to_numeric, errors='coerce')"
      ],
      "execution_count": null,
      "outputs": []
    },
    {
      "cell_type": "markdown",
      "metadata": {
        "id": "Kre6njys5Ihk"
      },
      "source": [
        "<h3><b>HOLIDAYS</b></h3>\n",
        "\n",
        "From the data provided by the challenge, it is possible to identify what these holidays are.\n",
        "\n",
        "Super Bowl: 12-Feb-10, 11-Feb-11, 10-Feb-12, 8-Feb-13 --> WEEK 6\n",
        "Labor Day: 10-Sep-10, 9-Sep-11, 7-Sep-12, 6-Sep-13 --> WEEK 36\n",
        "Thanksgiving: 26-Nov-10, 25-Nov-11, 23-Nov-12, 29-Nov-13 --> WEEK 47\n",
        "Christmas: 31-Dec-10, 30-Dec-11, 28-Dec-12, 27-Dec-13 --> WEEK 52\n",
        "\n",
        "We should note that there are no sales records on the laborday holiday at the test dataset, since the holiday is in September and the test runs until July."
      ]
    },
    {
      "cell_type": "code",
      "metadata": {
        "colab": {
          "base_uri": "https://localhost:8080/",
          "height": 447
        },
        "id": "an57ch3p5qAc",
        "outputId": "e54e566c-d05b-42e4-d639-5867eb21b7bd"
      },
      "source": [
        "holiday_train = train[['Date','Week','Year','IsHoliday']]\n",
        "#removing the rows where isHoliday is False (Meaning not a holiday week)\n",
        "holiday_train = holiday_train.loc[holiday_train['IsHoliday']==True].drop_duplicates()\n",
        "\n",
        "holiday_test = test[['Date','Week','Year','IsHoliday']]\n",
        "holiday_test = holiday_test.loc[holiday_test['IsHoliday']==True].drop_duplicates()\n",
        "\n",
        "holidays = pd.concat([holiday_train, holiday_test])\n",
        "holidays"
      ],
      "execution_count": null,
      "outputs": [
        {
          "output_type": "execute_result",
          "data": {
            "text/html": [
              "<div>\n",
              "<style scoped>\n",
              "    .dataframe tbody tr th:only-of-type {\n",
              "        vertical-align: middle;\n",
              "    }\n",
              "\n",
              "    .dataframe tbody tr th {\n",
              "        vertical-align: top;\n",
              "    }\n",
              "\n",
              "    .dataframe thead th {\n",
              "        text-align: right;\n",
              "    }\n",
              "</style>\n",
              "<table border=\"1\" class=\"dataframe\">\n",
              "  <thead>\n",
              "    <tr style=\"text-align: right;\">\n",
              "      <th></th>\n",
              "      <th>Date</th>\n",
              "      <th>Week</th>\n",
              "      <th>Year</th>\n",
              "      <th>IsHoliday</th>\n",
              "    </tr>\n",
              "  </thead>\n",
              "  <tbody>\n",
              "    <tr>\n",
              "      <th>73</th>\n",
              "      <td>2010-02-12</td>\n",
              "      <td>6</td>\n",
              "      <td>2010</td>\n",
              "      <td>1</td>\n",
              "    </tr>\n",
              "    <tr>\n",
              "      <th>2218</th>\n",
              "      <td>2010-09-10</td>\n",
              "      <td>36</td>\n",
              "      <td>2010</td>\n",
              "      <td>1</td>\n",
              "    </tr>\n",
              "    <tr>\n",
              "      <th>3014</th>\n",
              "      <td>2010-11-26</td>\n",
              "      <td>47</td>\n",
              "      <td>2010</td>\n",
              "      <td>1</td>\n",
              "    </tr>\n",
              "    <tr>\n",
              "      <th>3372</th>\n",
              "      <td>2010-12-31</td>\n",
              "      <td>52</td>\n",
              "      <td>2010</td>\n",
              "      <td>1</td>\n",
              "    </tr>\n",
              "    <tr>\n",
              "      <th>3800</th>\n",
              "      <td>2011-02-11</td>\n",
              "      <td>6</td>\n",
              "      <td>2011</td>\n",
              "      <td>1</td>\n",
              "    </tr>\n",
              "    <tr>\n",
              "      <th>5940</th>\n",
              "      <td>2011-09-09</td>\n",
              "      <td>36</td>\n",
              "      <td>2011</td>\n",
              "      <td>1</td>\n",
              "    </tr>\n",
              "    <tr>\n",
              "      <th>6731</th>\n",
              "      <td>2011-11-25</td>\n",
              "      <td>47</td>\n",
              "      <td>2011</td>\n",
              "      <td>1</td>\n",
              "    </tr>\n",
              "    <tr>\n",
              "      <th>7096</th>\n",
              "      <td>2011-12-30</td>\n",
              "      <td>52</td>\n",
              "      <td>2011</td>\n",
              "      <td>1</td>\n",
              "    </tr>\n",
              "    <tr>\n",
              "      <th>7527</th>\n",
              "      <td>2012-02-10</td>\n",
              "      <td>6</td>\n",
              "      <td>2012</td>\n",
              "      <td>1</td>\n",
              "    </tr>\n",
              "    <tr>\n",
              "      <th>9667</th>\n",
              "      <td>2012-09-07</td>\n",
              "      <td>36</td>\n",
              "      <td>2012</td>\n",
              "      <td>1</td>\n",
              "    </tr>\n",
              "    <tr>\n",
              "      <th>213</th>\n",
              "      <td>2012-11-23</td>\n",
              "      <td>47</td>\n",
              "      <td>2012</td>\n",
              "      <td>1</td>\n",
              "    </tr>\n",
              "    <tr>\n",
              "      <th>576</th>\n",
              "      <td>2012-12-28</td>\n",
              "      <td>52</td>\n",
              "      <td>2012</td>\n",
              "      <td>1</td>\n",
              "    </tr>\n",
              "    <tr>\n",
              "      <th>1006</th>\n",
              "      <td>2013-02-08</td>\n",
              "      <td>6</td>\n",
              "      <td>2013</td>\n",
              "      <td>1</td>\n",
              "    </tr>\n",
              "  </tbody>\n",
              "</table>\n",
              "</div>"
            ],
            "text/plain": [
              "           Date  Week  Year  IsHoliday\n",
              "73   2010-02-12     6  2010          1\n",
              "2218 2010-09-10    36  2010          1\n",
              "3014 2010-11-26    47  2010          1\n",
              "3372 2010-12-31    52  2010          1\n",
              "3800 2011-02-11     6  2011          1\n",
              "5940 2011-09-09    36  2011          1\n",
              "6731 2011-11-25    47  2011          1\n",
              "7096 2011-12-30    52  2011          1\n",
              "7527 2012-02-10     6  2012          1\n",
              "9667 2012-09-07    36  2012          1\n",
              "213  2012-11-23    47  2012          1\n",
              "576  2012-12-28    52  2012          1\n",
              "1006 2013-02-08     6  2013          1"
            ]
          },
          "metadata": {
            "tags": []
          },
          "execution_count": 83
        }
      ]
    },
    {
      "cell_type": "markdown",
      "metadata": {
        "id": "pDGhlD3B8SGt"
      },
      "source": [
        "In order to have a clear picture about which holiday had what impact on the sales, we assign different numerical values to each of them<br>\n",
        "0 - if it is not a holiday<br>\n",
        "1 - if the holiday is SuperBowl<br>\n",
        "2 - if the holiday is LaborDay<br>\n",
        "3 - if the holiday is Thanksgiving<br>\n",
        "4 - if the holiday is Christmas"
      ]
    },
    {
      "cell_type": "code",
      "metadata": {
        "id": "musz6bRq9fv4"
      },
      "source": [
        "def holiday_type(x):\n",
        "    if   (x['IsHoliday']== 1) & (x['Week']==6):\n",
        "       return 1 #SuperBowl\n",
        "    elif (x['IsHoliday']== 1) & (x['Week']==36):\n",
        "       return 2 #LaborDay\n",
        "    elif (x['IsHoliday']== 1) & (x['Week']==47):\n",
        "       return 3 #Thanksgiving\n",
        "    elif (x['IsHoliday']== 1) & (x['Week']==52):\n",
        "       return 4 #Christmas\n",
        "    else:\n",
        "       return 0"
      ],
      "execution_count": null,
      "outputs": []
    },
    {
      "cell_type": "code",
      "metadata": {
        "colab": {
          "base_uri": "https://localhost:8080/"
        },
        "id": "47luAam59pGU",
        "outputId": "3ddf6d61-b5d9-4976-deb4-35f0d9700699"
      },
      "source": [
        "train['IsHoliday'] = train.apply(holiday_type, axis=1)\n",
        "train['IsHoliday'].unique()\n"
      ],
      "execution_count": null,
      "outputs": [
        {
          "output_type": "execute_result",
          "data": {
            "text/plain": [
              "array([0, 1, 2, 3, 4])"
            ]
          },
          "metadata": {
            "tags": []
          },
          "execution_count": 85
        }
      ]
    },
    {
      "cell_type": "code",
      "metadata": {
        "colab": {
          "base_uri": "https://localhost:8080/"
        },
        "id": "C7xXTTfX9uos",
        "outputId": "195d8672-98ff-4626-ec5c-d585eae0c4e7"
      },
      "source": [
        "test['IsHoliday'] = test.apply(holiday_type, axis=1)\n",
        "test['IsHoliday'].unique()"
      ],
      "execution_count": null,
      "outputs": [
        {
          "output_type": "execute_result",
          "data": {
            "text/plain": [
              "array([0, 3, 4, 1])"
            ]
          },
          "metadata": {
            "tags": []
          },
          "execution_count": 86
        }
      ]
    },
    {
      "cell_type": "markdown",
      "metadata": {
        "id": "cbhBO73Q91Sg"
      },
      "source": [
        "#Null values and Correlations - Exploratory Analysis\n",
        "\n"
      ]
    },
    {
      "cell_type": "markdown",
      "metadata": {
        "id": "rqKB8fhL-NPF"
      },
      "source": [
        "Let us take a look at the number of null values and compare it with the total number of values present in the dataset to identify how much of the data is missing."
      ]
    },
    {
      "cell_type": "code",
      "metadata": {
        "colab": {
          "base_uri": "https://localhost:8080/"
        },
        "id": "ZeLj2KGJ-By2",
        "outputId": "ee959ce9-5a9c-4a11-8a04-c4064bd6f1a3"
      },
      "source": [
        "train.info()"
      ],
      "execution_count": null,
      "outputs": [
        {
          "output_type": "stream",
          "text": [
            "<class 'pandas.core.frame.DataFrame'>\n",
            "Int64Index: 421570 entries, 0 to 421569\n",
            "Data columns (total 19 columns):\n",
            " #   Column        Non-Null Count   Dtype         \n",
            "---  ------        --------------   -----         \n",
            " 0   Store         421570 non-null  int64         \n",
            " 1   Dept          421570 non-null  int64         \n",
            " 2   Date          421570 non-null  datetime64[ns]\n",
            " 3   Weekly_Sales  421570 non-null  float64       \n",
            " 4   IsHoliday     421570 non-null  int64         \n",
            " 5   Temperature   421570 non-null  float64       \n",
            " 6   Fuel_Price    421570 non-null  float64       \n",
            " 7   MarkDown1     150681 non-null  float64       \n",
            " 8   MarkDown2     111248 non-null  float64       \n",
            " 9   MarkDown3     137091 non-null  float64       \n",
            " 10  MarkDown4     134967 non-null  float64       \n",
            " 11  MarkDown5     151432 non-null  float64       \n",
            " 12  CPI           421570 non-null  float64       \n",
            " 13  Unemployment  421570 non-null  float64       \n",
            " 14  Type          421570 non-null  int64         \n",
            " 15  Size          421570 non-null  int64         \n",
            " 16  Week          421570 non-null  UInt32        \n",
            " 17  Month         421570 non-null  int64         \n",
            " 18  Year          421570 non-null  UInt32        \n",
            "dtypes: UInt32(2), datetime64[ns](1), float64(10), int64(6)\n",
            "memory usage: 61.9 MB\n"
          ],
          "name": "stdout"
        }
      ]
    },
    {
      "cell_type": "code",
      "metadata": {
        "colab": {
          "base_uri": "https://localhost:8080/"
        },
        "id": "tattKrhS3yq3",
        "outputId": "96103f6c-5d5f-4546-b1d8-783d23170ae6"
      },
      "source": [
        "test[[\"CPI\"]] = test[[\"CPI\"]].fillna(test[[\"CPI\"]].mean())\n",
        "test[[\"Unemployment\"]] = test[[\"Unemployment\"]].fillna(test[[\"Unemployment\"]].mean())\n",
        "test.isnull().sum()"
      ],
      "execution_count": null,
      "outputs": [
        {
          "output_type": "execute_result",
          "data": {
            "text/plain": [
              "Store               0\n",
              "Dept                0\n",
              "Date                0\n",
              "IsHoliday           0\n",
              "Temperature         0\n",
              "Fuel_Price          0\n",
              "MarkDown1         149\n",
              "MarkDown2       28627\n",
              "MarkDown3        9829\n",
              "MarkDown4       12888\n",
              "MarkDown5           0\n",
              "CPI                 0\n",
              "Unemployment        0\n",
              "Type                0\n",
              "Size                0\n",
              "Week                0\n",
              "Month               0\n",
              "Year                0\n",
              "dtype: int64"
            ]
          },
          "metadata": {
            "tags": []
          },
          "execution_count": 88
        }
      ]
    },
    {
      "cell_type": "markdown",
      "metadata": {
        "id": "1Atf1GB3vFGj"
      },
      "source": [
        "It is observed that MarkDowns 1 to 5 have more than 64% of data missing in the dataset. Ideally, since more than 50% data is missing in these features it is recommended to eliminate them but the MarkDown values identify certain reduction in sales and imputing values for these features would be the prefered solution. \n",
        "\n",
        "We shall now take a look at the correlations between different features of the dataset to identify how related each feature is to each other using a correlation matrix. This can help us avoid multicollinearity. "
      ]
    },
    {
      "cell_type": "code",
      "metadata": {
        "colab": {
          "base_uri": "https://localhost:8080/",
          "height": 411
        },
        "id": "jjoZmLCz464y",
        "outputId": "edd29235-6ae3-471c-aced-f5f6fc45dd0b"
      },
      "source": [
        "corr = train[['Store', 'Dept', 'Date', 'Weekly_Sales', 'IsHoliday', 'Temperature', 'Fuel_Price', 'MarkDown1', 'MarkDown2', 'MarkDown3', 'MarkDown4', 'MarkDown5', 'CPI', 'Unemployment', 'Type', 'Size', 'Week', 'Year']].corr()\n",
        "corr.style.background_gradient(cmap='coolwarm')"
      ],
      "execution_count": null,
      "outputs": [
        {
          "output_type": "execute_result",
          "data": {
            "text/html": [
              "<style  type=\"text/css\" >\n",
              "#T_b4b0ee42_9f82_11eb_b733_0242ac1c0002row0_col0,#T_b4b0ee42_9f82_11eb_b733_0242ac1c0002row1_col1,#T_b4b0ee42_9f82_11eb_b733_0242ac1c0002row2_col2,#T_b4b0ee42_9f82_11eb_b733_0242ac1c0002row3_col3,#T_b4b0ee42_9f82_11eb_b733_0242ac1c0002row4_col4,#T_b4b0ee42_9f82_11eb_b733_0242ac1c0002row5_col5,#T_b4b0ee42_9f82_11eb_b733_0242ac1c0002row6_col6,#T_b4b0ee42_9f82_11eb_b733_0242ac1c0002row7_col7,#T_b4b0ee42_9f82_11eb_b733_0242ac1c0002row8_col8,#T_b4b0ee42_9f82_11eb_b733_0242ac1c0002row9_col9,#T_b4b0ee42_9f82_11eb_b733_0242ac1c0002row10_col10,#T_b4b0ee42_9f82_11eb_b733_0242ac1c0002row11_col11,#T_b4b0ee42_9f82_11eb_b733_0242ac1c0002row12_col12,#T_b4b0ee42_9f82_11eb_b733_0242ac1c0002row13_col13,#T_b4b0ee42_9f82_11eb_b733_0242ac1c0002row14_col14,#T_b4b0ee42_9f82_11eb_b733_0242ac1c0002row15_col15,#T_b4b0ee42_9f82_11eb_b733_0242ac1c0002row16_col16{\n",
              "            background-color:  #b40426;\n",
              "            color:  #f1f1f1;\n",
              "        }#T_b4b0ee42_9f82_11eb_b733_0242ac1c0002row0_col1,#T_b4b0ee42_9f82_11eb_b733_0242ac1c0002row16_col15{\n",
              "            background-color:  #4358cb;\n",
              "            color:  #f1f1f1;\n",
              "        }#T_b4b0ee42_9f82_11eb_b733_0242ac1c0002row0_col2,#T_b4b0ee42_9f82_11eb_b733_0242ac1c0002row0_col13,#T_b4b0ee42_9f82_11eb_b733_0242ac1c0002row0_col14,#T_b4b0ee42_9f82_11eb_b733_0242ac1c0002row4_col3,#T_b4b0ee42_9f82_11eb_b733_0242ac1c0002row4_col7,#T_b4b0ee42_9f82_11eb_b733_0242ac1c0002row5_col10,#T_b4b0ee42_9f82_11eb_b733_0242ac1c0002row7_col4,#T_b4b0ee42_9f82_11eb_b733_0242ac1c0002row7_col5,#T_b4b0ee42_9f82_11eb_b733_0242ac1c0002row8_col16,#T_b4b0ee42_9f82_11eb_b733_0242ac1c0002row9_col15,#T_b4b0ee42_9f82_11eb_b733_0242ac1c0002row11_col1,#T_b4b0ee42_9f82_11eb_b733_0242ac1c0002row11_col12,#T_b4b0ee42_9f82_11eb_b733_0242ac1c0002row12_col11,#T_b4b0ee42_9f82_11eb_b733_0242ac1c0002row13_col0,#T_b4b0ee42_9f82_11eb_b733_0242ac1c0002row13_col1,#T_b4b0ee42_9f82_11eb_b733_0242ac1c0002row15_col6,#T_b4b0ee42_9f82_11eb_b733_0242ac1c0002row15_col9,#T_b4b0ee42_9f82_11eb_b733_0242ac1c0002row16_col8,#T_b4b0ee42_9f82_11eb_b733_0242ac1c0002row16_col10{\n",
              "            background-color:  #3b4cc0;\n",
              "            color:  #f1f1f1;\n",
              "        }#T_b4b0ee42_9f82_11eb_b733_0242ac1c0002row0_col3,#T_b4b0ee42_9f82_11eb_b733_0242ac1c0002row1_col3,#T_b4b0ee42_9f82_11eb_b733_0242ac1c0002row4_col9,#T_b4b0ee42_9f82_11eb_b733_0242ac1c0002row11_col3,#T_b4b0ee42_9f82_11eb_b733_0242ac1c0002row13_col3,#T_b4b0ee42_9f82_11eb_b733_0242ac1c0002row14_col3{\n",
              "            background-color:  #6282ea;\n",
              "            color:  #000000;\n",
              "        }#T_b4b0ee42_9f82_11eb_b733_0242ac1c0002row0_col4,#T_b4b0ee42_9f82_11eb_b733_0242ac1c0002row1_col0,#T_b4b0ee42_9f82_11eb_b733_0242ac1c0002row5_col12,#T_b4b0ee42_9f82_11eb_b733_0242ac1c0002row7_col8,#T_b4b0ee42_9f82_11eb_b733_0242ac1c0002row8_col7{\n",
              "            background-color:  #7da0f9;\n",
              "            color:  #000000;\n",
              "        }#T_b4b0ee42_9f82_11eb_b733_0242ac1c0002row0_col5,#T_b4b0ee42_9f82_11eb_b733_0242ac1c0002row1_col12,#T_b4b0ee42_9f82_11eb_b733_0242ac1c0002row2_col6,#T_b4b0ee42_9f82_11eb_b733_0242ac1c0002row5_col0,#T_b4b0ee42_9f82_11eb_b733_0242ac1c0002row11_col13,#T_b4b0ee42_9f82_11eb_b733_0242ac1c0002row14_col16,#T_b4b0ee42_9f82_11eb_b733_0242ac1c0002row15_col11{\n",
              "            background-color:  #88abfd;\n",
              "            color:  #000000;\n",
              "        }#T_b4b0ee42_9f82_11eb_b733_0242ac1c0002row0_col6,#T_b4b0ee42_9f82_11eb_b733_0242ac1c0002row5_col3,#T_b4b0ee42_9f82_11eb_b733_0242ac1c0002row12_col13{\n",
              "            background-color:  #4e68d8;\n",
              "            color:  #000000;\n",
              "        }#T_b4b0ee42_9f82_11eb_b733_0242ac1c0002row0_col7,#T_b4b0ee42_9f82_11eb_b733_0242ac1c0002row0_col8,#T_b4b0ee42_9f82_11eb_b733_0242ac1c0002row1_col2,#T_b4b0ee42_9f82_11eb_b733_0242ac1c0002row2_col9,#T_b4b0ee42_9f82_11eb_b733_0242ac1c0002row5_col6,#T_b4b0ee42_9f82_11eb_b733_0242ac1c0002row8_col13{\n",
              "            background-color:  #81a4fb;\n",
              "            color:  #000000;\n",
              "        }#T_b4b0ee42_9f82_11eb_b733_0242ac1c0002row0_col9,#T_b4b0ee42_9f82_11eb_b733_0242ac1c0002row4_col8,#T_b4b0ee42_9f82_11eb_b733_0242ac1c0002row8_col4{\n",
              "            background-color:  #7093f3;\n",
              "            color:  #000000;\n",
              "        }#T_b4b0ee42_9f82_11eb_b733_0242ac1c0002row0_col10,#T_b4b0ee42_9f82_11eb_b733_0242ac1c0002row3_col2,#T_b4b0ee42_9f82_11eb_b733_0242ac1c0002row8_col10{\n",
              "            background-color:  #5673e0;\n",
              "            color:  #000000;\n",
              "        }#T_b4b0ee42_9f82_11eb_b733_0242ac1c0002row0_col11,#T_b4b0ee42_9f82_11eb_b733_0242ac1c0002row9_col3,#T_b4b0ee42_9f82_11eb_b733_0242ac1c0002row16_col2{\n",
              "            background-color:  #4f69d9;\n",
              "            color:  #000000;\n",
              "        }#T_b4b0ee42_9f82_11eb_b733_0242ac1c0002row0_col12,#T_b4b0ee42_9f82_11eb_b733_0242ac1c0002row6_col13,#T_b4b0ee42_9f82_11eb_b733_0242ac1c0002row15_col8{\n",
              "            background-color:  #bed2f6;\n",
              "            color:  #000000;\n",
              "        }#T_b4b0ee42_9f82_11eb_b733_0242ac1c0002row0_col15,#T_b4b0ee42_9f82_11eb_b733_0242ac1c0002row1_col9,#T_b4b0ee42_9f82_11eb_b733_0242ac1c0002row1_col13,#T_b4b0ee42_9f82_11eb_b733_0242ac1c0002row1_col15,#T_b4b0ee42_9f82_11eb_b733_0242ac1c0002row2_col5,#T_b4b0ee42_9f82_11eb_b733_0242ac1c0002row16_col13{\n",
              "            background-color:  #7597f6;\n",
              "            color:  #000000;\n",
              "        }#T_b4b0ee42_9f82_11eb_b733_0242ac1c0002row0_col16,#T_b4b0ee42_9f82_11eb_b733_0242ac1c0002row1_col7,#T_b4b0ee42_9f82_11eb_b733_0242ac1c0002row1_col8,#T_b4b0ee42_9f82_11eb_b733_0242ac1c0002row1_col16,#T_b4b0ee42_9f82_11eb_b733_0242ac1c0002row2_col4,#T_b4b0ee42_9f82_11eb_b733_0242ac1c0002row15_col7{\n",
              "            background-color:  #8badfd;\n",
              "            color:  #000000;\n",
              "        }#T_b4b0ee42_9f82_11eb_b733_0242ac1c0002row1_col4,#T_b4b0ee42_9f82_11eb_b733_0242ac1c0002row7_col12,#T_b4b0ee42_9f82_11eb_b733_0242ac1c0002row7_col14,#T_b4b0ee42_9f82_11eb_b733_0242ac1c0002row9_col12,#T_b4b0ee42_9f82_11eb_b733_0242ac1c0002row10_col15,#T_b4b0ee42_9f82_11eb_b733_0242ac1c0002row13_col2{\n",
              "            background-color:  #8caffe;\n",
              "            color:  #000000;\n",
              "        }#T_b4b0ee42_9f82_11eb_b733_0242ac1c0002row1_col5,#T_b4b0ee42_9f82_11eb_b733_0242ac1c0002row3_col0,#T_b4b0ee42_9f82_11eb_b733_0242ac1c0002row3_col13,#T_b4b0ee42_9f82_11eb_b733_0242ac1c0002row7_col6,#T_b4b0ee42_9f82_11eb_b733_0242ac1c0002row11_col15,#T_b4b0ee42_9f82_11eb_b733_0242ac1c0002row14_col5,#T_b4b0ee42_9f82_11eb_b733_0242ac1c0002row15_col0,#T_b4b0ee42_9f82_11eb_b733_0242ac1c0002row15_col13,#T_b4b0ee42_9f82_11eb_b733_0242ac1c0002row16_col0{\n",
              "            background-color:  #7699f6;\n",
              "            color:  #000000;\n",
              "        }#T_b4b0ee42_9f82_11eb_b733_0242ac1c0002row1_col6,#T_b4b0ee42_9f82_11eb_b733_0242ac1c0002row5_col13,#T_b4b0ee42_9f82_11eb_b733_0242ac1c0002row10_col0,#T_b4b0ee42_9f82_11eb_b733_0242ac1c0002row10_col2{\n",
              "            background-color:  #6e90f2;\n",
              "            color:  #000000;\n",
              "        }#T_b4b0ee42_9f82_11eb_b733_0242ac1c0002row1_col10,#T_b4b0ee42_9f82_11eb_b733_0242ac1c0002row2_col0,#T_b4b0ee42_9f82_11eb_b733_0242ac1c0002row13_col12{\n",
              "            background-color:  #5e7de7;\n",
              "            color:  #000000;\n",
              "        }#T_b4b0ee42_9f82_11eb_b733_0242ac1c0002row1_col11,#T_b4b0ee42_9f82_11eb_b733_0242ac1c0002row11_col8{\n",
              "            background-color:  #84a7fc;\n",
              "            color:  #000000;\n",
              "        }#T_b4b0ee42_9f82_11eb_b733_0242ac1c0002row1_col14,#T_b4b0ee42_9f82_11eb_b733_0242ac1c0002row4_col13,#T_b4b0ee42_9f82_11eb_b733_0242ac1c0002row11_col14,#T_b4b0ee42_9f82_11eb_b733_0242ac1c0002row16_col14{\n",
              "            background-color:  #6a8bef;\n",
              "            color:  #000000;\n",
              "        }#T_b4b0ee42_9f82_11eb_b733_0242ac1c0002row2_col1,#T_b4b0ee42_9f82_11eb_b733_0242ac1c0002row3_col14,#T_b4b0ee42_9f82_11eb_b733_0242ac1c0002row5_col15,#T_b4b0ee42_9f82_11eb_b733_0242ac1c0002row7_col0,#T_b4b0ee42_9f82_11eb_b733_0242ac1c0002row12_col5,#T_b4b0ee42_9f82_11eb_b733_0242ac1c0002row15_col5,#T_b4b0ee42_9f82_11eb_b733_0242ac1c0002row15_col14{\n",
              "            background-color:  #6b8df0;\n",
              "            color:  #000000;\n",
              "        }#T_b4b0ee42_9f82_11eb_b733_0242ac1c0002row2_col3,#T_b4b0ee42_9f82_11eb_b733_0242ac1c0002row11_col9{\n",
              "            background-color:  #6687ed;\n",
              "            color:  #000000;\n",
              "        }#T_b4b0ee42_9f82_11eb_b733_0242ac1c0002row2_col7,#T_b4b0ee42_9f82_11eb_b733_0242ac1c0002row6_col7{\n",
              "            background-color:  #92b4fe;\n",
              "            color:  #000000;\n",
              "        }#T_b4b0ee42_9f82_11eb_b733_0242ac1c0002row2_col8,#T_b4b0ee42_9f82_11eb_b733_0242ac1c0002row16_col11{\n",
              "            background-color:  #9abbff;\n",
              "            color:  #000000;\n",
              "        }#T_b4b0ee42_9f82_11eb_b733_0242ac1c0002row2_col10,#T_b4b0ee42_9f82_11eb_b733_0242ac1c0002row9_col11{\n",
              "            background-color:  #799cf8;\n",
              "            color:  #000000;\n",
              "        }#T_b4b0ee42_9f82_11eb_b733_0242ac1c0002row2_col11,#T_b4b0ee42_9f82_11eb_b733_0242ac1c0002row6_col4,#T_b4b0ee42_9f82_11eb_b733_0242ac1c0002row8_col11,#T_b4b0ee42_9f82_11eb_b733_0242ac1c0002row11_col7,#T_b4b0ee42_9f82_11eb_b733_0242ac1c0002row13_col4{\n",
              "            background-color:  #80a3fa;\n",
              "            color:  #000000;\n",
              "        }#T_b4b0ee42_9f82_11eb_b733_0242ac1c0002row2_col12,#T_b4b0ee42_9f82_11eb_b733_0242ac1c0002row9_col10,#T_b4b0ee42_9f82_11eb_b733_0242ac1c0002row12_col6{\n",
              "            background-color:  #7ea1fa;\n",
              "            color:  #000000;\n",
              "        }#T_b4b0ee42_9f82_11eb_b733_0242ac1c0002row2_col13{\n",
              "            background-color:  #aac7fd;\n",
              "            color:  #000000;\n",
              "        }#T_b4b0ee42_9f82_11eb_b733_0242ac1c0002row2_col14{\n",
              "            background-color:  #b3cdfb;\n",
              "            color:  #000000;\n",
              "        }#T_b4b0ee42_9f82_11eb_b733_0242ac1c0002row2_col15,#T_b4b0ee42_9f82_11eb_b733_0242ac1c0002row7_col11,#T_b4b0ee42_9f82_11eb_b733_0242ac1c0002row12_col9,#T_b4b0ee42_9f82_11eb_b733_0242ac1c0002row14_col4{\n",
              "            background-color:  #7b9ff9;\n",
              "            color:  #000000;\n",
              "        }#T_b4b0ee42_9f82_11eb_b733_0242ac1c0002row2_col16,#T_b4b0ee42_9f82_11eb_b733_0242ac1c0002row6_col5,#T_b4b0ee42_9f82_11eb_b733_0242ac1c0002row10_col4{\n",
              "            background-color:  #86a9fc;\n",
              "            color:  #000000;\n",
              "        }#T_b4b0ee42_9f82_11eb_b733_0242ac1c0002row3_col1,#T_b4b0ee42_9f82_11eb_b733_0242ac1c0002row5_col1,#T_b4b0ee42_9f82_11eb_b733_0242ac1c0002row8_col1,#T_b4b0ee42_9f82_11eb_b733_0242ac1c0002row9_col1,#T_b4b0ee42_9f82_11eb_b733_0242ac1c0002row15_col1,#T_b4b0ee42_9f82_11eb_b733_0242ac1c0002row16_col1{\n",
              "            background-color:  #3d50c3;\n",
              "            color:  #f1f1f1;\n",
              "        }#T_b4b0ee42_9f82_11eb_b733_0242ac1c0002row3_col4,#T_b4b0ee42_9f82_11eb_b733_0242ac1c0002row8_col2,#T_b4b0ee42_9f82_11eb_b733_0242ac1c0002row12_col3{\n",
              "            background-color:  #6485ec;\n",
              "            color:  #000000;\n",
              "        }#T_b4b0ee42_9f82_11eb_b733_0242ac1c0002row3_col5,#T_b4b0ee42_9f82_11eb_b733_0242ac1c0002row3_col9{\n",
              "            background-color:  #6180e9;\n",
              "            color:  #000000;\n",
              "        }#T_b4b0ee42_9f82_11eb_b733_0242ac1c0002row3_col6,#T_b4b0ee42_9f82_11eb_b733_0242ac1c0002row4_col10,#T_b4b0ee42_9f82_11eb_b733_0242ac1c0002row7_col2{\n",
              "            background-color:  #5977e3;\n",
              "            color:  #000000;\n",
              "        }#T_b4b0ee42_9f82_11eb_b733_0242ac1c0002row3_col7{\n",
              "            background-color:  #f3c7b1;\n",
              "            color:  #000000;\n",
              "        }#T_b4b0ee42_9f82_11eb_b733_0242ac1c0002row3_col8{\n",
              "            background-color:  #f2c9b4;\n",
              "            color:  #000000;\n",
              "        }#T_b4b0ee42_9f82_11eb_b733_0242ac1c0002row3_col10,#T_b4b0ee42_9f82_11eb_b733_0242ac1c0002row16_col12{\n",
              "            background-color:  #4961d2;\n",
              "            color:  #f1f1f1;\n",
              "        }#T_b4b0ee42_9f82_11eb_b733_0242ac1c0002row3_col11,#T_b4b0ee42_9f82_11eb_b733_0242ac1c0002row10_col12,#T_b4b0ee42_9f82_11eb_b733_0242ac1c0002row14_col11{\n",
              "            background-color:  #85a8fc;\n",
              "            color:  #000000;\n",
              "        }#T_b4b0ee42_9f82_11eb_b733_0242ac1c0002row3_col12,#T_b4b0ee42_9f82_11eb_b733_0242ac1c0002row7_col13,#T_b4b0ee42_9f82_11eb_b733_0242ac1c0002row8_col12,#T_b4b0ee42_9f82_11eb_b733_0242ac1c0002row9_col7,#T_b4b0ee42_9f82_11eb_b733_0242ac1c0002row10_col7,#T_b4b0ee42_9f82_11eb_b733_0242ac1c0002row13_col16{\n",
              "            background-color:  #89acfd;\n",
              "            color:  #000000;\n",
              "        }#T_b4b0ee42_9f82_11eb_b733_0242ac1c0002row3_col15{\n",
              "            background-color:  #bcd2f7;\n",
              "            color:  #000000;\n",
              "        }#T_b4b0ee42_9f82_11eb_b733_0242ac1c0002row3_col16,#T_b4b0ee42_9f82_11eb_b733_0242ac1c0002row7_col15,#T_b4b0ee42_9f82_11eb_b733_0242ac1c0002row9_col0,#T_b4b0ee42_9f82_11eb_b733_0242ac1c0002row13_col15,#T_b4b0ee42_9f82_11eb_b733_0242ac1c0002row14_col12,#T_b4b0ee42_9f82_11eb_b733_0242ac1c0002row14_col15{\n",
              "            background-color:  #7396f5;\n",
              "            color:  #000000;\n",
              "        }#T_b4b0ee42_9f82_11eb_b733_0242ac1c0002row4_col0,#T_b4b0ee42_9f82_11eb_b733_0242ac1c0002row5_col9,#T_b4b0ee42_9f82_11eb_b733_0242ac1c0002row9_col5{\n",
              "            background-color:  #6788ee;\n",
              "            color:  #000000;\n",
              "        }#T_b4b0ee42_9f82_11eb_b733_0242ac1c0002row4_col1,#T_b4b0ee42_9f82_11eb_b733_0242ac1c0002row11_col0,#T_b4b0ee42_9f82_11eb_b733_0242ac1c0002row12_col1{\n",
              "            background-color:  #3e51c5;\n",
              "            color:  #f1f1f1;\n",
              "        }#T_b4b0ee42_9f82_11eb_b733_0242ac1c0002row4_col2,#T_b4b0ee42_9f82_11eb_b733_0242ac1c0002row5_col7,#T_b4b0ee42_9f82_11eb_b733_0242ac1c0002row8_col6,#T_b4b0ee42_9f82_11eb_b733_0242ac1c0002row10_col5,#T_b4b0ee42_9f82_11eb_b733_0242ac1c0002row16_col7{\n",
              "            background-color:  #516ddb;\n",
              "            color:  #000000;\n",
              "        }#T_b4b0ee42_9f82_11eb_b733_0242ac1c0002row4_col5,#T_b4b0ee42_9f82_11eb_b733_0242ac1c0002row10_col6,#T_b4b0ee42_9f82_11eb_b733_0242ac1c0002row11_col16{\n",
              "            background-color:  #9ebeff;\n",
              "            color:  #000000;\n",
              "        }#T_b4b0ee42_9f82_11eb_b733_0242ac1c0002row4_col6{\n",
              "            background-color:  #6384eb;\n",
              "            color:  #000000;\n",
              "        }#T_b4b0ee42_9f82_11eb_b733_0242ac1c0002row4_col11{\n",
              "            background-color:  #b6cefa;\n",
              "            color:  #000000;\n",
              "        }#T_b4b0ee42_9f82_11eb_b733_0242ac1c0002row4_col12{\n",
              "            background-color:  #a1c0ff;\n",
              "            color:  #000000;\n",
              "        }#T_b4b0ee42_9f82_11eb_b733_0242ac1c0002row4_col14,#T_b4b0ee42_9f82_11eb_b733_0242ac1c0002row5_col11,#T_b4b0ee42_9f82_11eb_b733_0242ac1c0002row15_col2,#T_b4b0ee42_9f82_11eb_b733_0242ac1c0002row15_col16{\n",
              "            background-color:  #5a78e4;\n",
              "            color:  #000000;\n",
              "        }#T_b4b0ee42_9f82_11eb_b733_0242ac1c0002row4_col15{\n",
              "            background-color:  #b7cff9;\n",
              "            color:  #000000;\n",
              "        }#T_b4b0ee42_9f82_11eb_b733_0242ac1c0002row4_col16{\n",
              "            background-color:  #9bbcff;\n",
              "            color:  #000000;\n",
              "        }#T_b4b0ee42_9f82_11eb_b733_0242ac1c0002row5_col2{\n",
              "            background-color:  #536edd;\n",
              "            color:  #000000;\n",
              "        }#T_b4b0ee42_9f82_11eb_b733_0242ac1c0002row5_col4,#T_b4b0ee42_9f82_11eb_b733_0242ac1c0002row12_col0{\n",
              "            background-color:  #b1cbfc;\n",
              "            color:  #000000;\n",
              "        }#T_b4b0ee42_9f82_11eb_b733_0242ac1c0002row5_col8,#T_b4b0ee42_9f82_11eb_b733_0242ac1c0002row11_col10,#T_b4b0ee42_9f82_11eb_b733_0242ac1c0002row12_col15{\n",
              "            background-color:  #6f92f3;\n",
              "            color:  #000000;\n",
              "        }#T_b4b0ee42_9f82_11eb_b733_0242ac1c0002row5_col14,#T_b4b0ee42_9f82_11eb_b733_0242ac1c0002row6_col2,#T_b4b0ee42_9f82_11eb_b733_0242ac1c0002row6_col8,#T_b4b0ee42_9f82_11eb_b733_0242ac1c0002row8_col0,#T_b4b0ee42_9f82_11eb_b733_0242ac1c0002row13_col5{\n",
              "            background-color:  #6c8ff1;\n",
              "            color:  #000000;\n",
              "        }#T_b4b0ee42_9f82_11eb_b733_0242ac1c0002row5_col16{\n",
              "            background-color:  #e7745b;\n",
              "            color:  #000000;\n",
              "        }#T_b4b0ee42_9f82_11eb_b733_0242ac1c0002row6_col0{\n",
              "            background-color:  #5572df;\n",
              "            color:  #000000;\n",
              "        }#T_b4b0ee42_9f82_11eb_b733_0242ac1c0002row6_col1,#T_b4b0ee42_9f82_11eb_b733_0242ac1c0002row7_col1,#T_b4b0ee42_9f82_11eb_b733_0242ac1c0002row10_col1,#T_b4b0ee42_9f82_11eb_b733_0242ac1c0002row14_col1{\n",
              "            background-color:  #3c4ec2;\n",
              "            color:  #f1f1f1;\n",
              "        }#T_b4b0ee42_9f82_11eb_b733_0242ac1c0002row6_col3{\n",
              "            background-color:  #4b64d5;\n",
              "            color:  #f1f1f1;\n",
              "        }#T_b4b0ee42_9f82_11eb_b733_0242ac1c0002row6_col9{\n",
              "            background-color:  #e36b54;\n",
              "            color:  #000000;\n",
              "        }#T_b4b0ee42_9f82_11eb_b733_0242ac1c0002row6_col10{\n",
              "            background-color:  #8fb1fe;\n",
              "            color:  #000000;\n",
              "        }#T_b4b0ee42_9f82_11eb_b733_0242ac1c0002row6_col11,#T_b4b0ee42_9f82_11eb_b733_0242ac1c0002row9_col8,#T_b4b0ee42_9f82_11eb_b733_0242ac1c0002row15_col10{\n",
              "            background-color:  #779af7;\n",
              "            color:  #000000;\n",
              "        }#T_b4b0ee42_9f82_11eb_b733_0242ac1c0002row6_col12,#T_b4b0ee42_9f82_11eb_b733_0242ac1c0002row10_col9,#T_b4b0ee42_9f82_11eb_b733_0242ac1c0002row13_col9{\n",
              "            background-color:  #93b5fe;\n",
              "            color:  #000000;\n",
              "        }#T_b4b0ee42_9f82_11eb_b733_0242ac1c0002row6_col14{\n",
              "            background-color:  #cedaeb;\n",
              "            color:  #000000;\n",
              "        }#T_b4b0ee42_9f82_11eb_b733_0242ac1c0002row6_col15{\n",
              "            background-color:  #3f53c6;\n",
              "            color:  #f1f1f1;\n",
              "        }#T_b4b0ee42_9f82_11eb_b733_0242ac1c0002row6_col16,#T_b4b0ee42_9f82_11eb_b733_0242ac1c0002row15_col3{\n",
              "            background-color:  #afcafc;\n",
              "            color:  #000000;\n",
              "        }#T_b4b0ee42_9f82_11eb_b733_0242ac1c0002row7_col3{\n",
              "            background-color:  #ead4c8;\n",
              "            color:  #000000;\n",
              "        }#T_b4b0ee42_9f82_11eb_b733_0242ac1c0002row7_col9{\n",
              "            background-color:  #7295f4;\n",
              "            color:  #000000;\n",
              "        }#T_b4b0ee42_9f82_11eb_b733_0242ac1c0002row7_col10{\n",
              "            background-color:  #5b7ae5;\n",
              "            color:  #000000;\n",
              "        }#T_b4b0ee42_9f82_11eb_b733_0242ac1c0002row7_col16{\n",
              "            background-color:  #506bda;\n",
              "            color:  #000000;\n",
              "        }#T_b4b0ee42_9f82_11eb_b733_0242ac1c0002row8_col3{\n",
              "            background-color:  #e8d6cc;\n",
              "            color:  #000000;\n",
              "        }#T_b4b0ee42_9f82_11eb_b733_0242ac1c0002row8_col5,#T_b4b0ee42_9f82_11eb_b733_0242ac1c0002row12_col14{\n",
              "            background-color:  #5875e1;\n",
              "            color:  #000000;\n",
              "        }#T_b4b0ee42_9f82_11eb_b733_0242ac1c0002row8_col9,#T_b4b0ee42_9f82_11eb_b733_0242ac1c0002row9_col2,#T_b4b0ee42_9f82_11eb_b733_0242ac1c0002row11_col6{\n",
              "            background-color:  #5f7fe8;\n",
              "            color:  #000000;\n",
              "        }#T_b4b0ee42_9f82_11eb_b733_0242ac1c0002row8_col14,#T_b4b0ee42_9f82_11eb_b733_0242ac1c0002row9_col4{\n",
              "            background-color:  #7a9df8;\n",
              "            color:  #000000;\n",
              "        }#T_b4b0ee42_9f82_11eb_b733_0242ac1c0002row8_col15,#T_b4b0ee42_9f82_11eb_b733_0242ac1c0002row13_col10{\n",
              "            background-color:  #adc9fd;\n",
              "            color:  #000000;\n",
              "        }#T_b4b0ee42_9f82_11eb_b733_0242ac1c0002row9_col6{\n",
              "            background-color:  #e36c55;\n",
              "            color:  #000000;\n",
              "        }#T_b4b0ee42_9f82_11eb_b733_0242ac1c0002row9_col13{\n",
              "            background-color:  #96b7ff;\n",
              "            color:  #000000;\n",
              "        }#T_b4b0ee42_9f82_11eb_b733_0242ac1c0002row9_col14,#T_b4b0ee42_9f82_11eb_b733_0242ac1c0002row13_col7,#T_b4b0ee42_9f82_11eb_b733_0242ac1c0002row16_col4{\n",
              "            background-color:  #9dbdff;\n",
              "            color:  #000000;\n",
              "        }#T_b4b0ee42_9f82_11eb_b733_0242ac1c0002row9_col16{\n",
              "            background-color:  #abc8fd;\n",
              "            color:  #000000;\n",
              "        }#T_b4b0ee42_9f82_11eb_b733_0242ac1c0002row10_col3,#T_b4b0ee42_9f82_11eb_b733_0242ac1c0002row11_col2,#T_b4b0ee42_9f82_11eb_b733_0242ac1c0002row12_col16{\n",
              "            background-color:  #4c66d6;\n",
              "            color:  #000000;\n",
              "        }#T_b4b0ee42_9f82_11eb_b733_0242ac1c0002row10_col8,#T_b4b0ee42_9f82_11eb_b733_0242ac1c0002row15_col12{\n",
              "            background-color:  #82a6fb;\n",
              "            color:  #000000;\n",
              "        }#T_b4b0ee42_9f82_11eb_b733_0242ac1c0002row10_col11,#T_b4b0ee42_9f82_11eb_b733_0242ac1c0002row14_col8{\n",
              "            background-color:  #97b8ff;\n",
              "            color:  #000000;\n",
              "        }#T_b4b0ee42_9f82_11eb_b733_0242ac1c0002row10_col13{\n",
              "            background-color:  #bfd3f6;\n",
              "            color:  #000000;\n",
              "        }#T_b4b0ee42_9f82_11eb_b733_0242ac1c0002row10_col14{\n",
              "            background-color:  #c4d5f3;\n",
              "            color:  #000000;\n",
              "        }#T_b4b0ee42_9f82_11eb_b733_0242ac1c0002row10_col16{\n",
              "            background-color:  #688aef;\n",
              "            color:  #000000;\n",
              "        }#T_b4b0ee42_9f82_11eb_b733_0242ac1c0002row11_col4,#T_b4b0ee42_9f82_11eb_b733_0242ac1c0002row13_col6{\n",
              "            background-color:  #bad0f8;\n",
              "            color:  #000000;\n",
              "        }#T_b4b0ee42_9f82_11eb_b733_0242ac1c0002row11_col5{\n",
              "            background-color:  #485fd1;\n",
              "            color:  #f1f1f1;\n",
              "        }#T_b4b0ee42_9f82_11eb_b733_0242ac1c0002row12_col2,#T_b4b0ee42_9f82_11eb_b733_0242ac1c0002row16_col3{\n",
              "            background-color:  #4a63d3;\n",
              "            color:  #f1f1f1;\n",
              "        }#T_b4b0ee42_9f82_11eb_b733_0242ac1c0002row12_col4,#T_b4b0ee42_9f82_11eb_b733_0242ac1c0002row14_col9{\n",
              "            background-color:  #a5c3fe;\n",
              "            color:  #000000;\n",
              "        }#T_b4b0ee42_9f82_11eb_b733_0242ac1c0002row12_col7{\n",
              "            background-color:  #90b2fe;\n",
              "            color:  #000000;\n",
              "        }#T_b4b0ee42_9f82_11eb_b733_0242ac1c0002row12_col8{\n",
              "            background-color:  #8db0fe;\n",
              "            color:  #000000;\n",
              "        }#T_b4b0ee42_9f82_11eb_b733_0242ac1c0002row12_col10{\n",
              "            background-color:  #5d7ce6;\n",
              "            color:  #000000;\n",
              "        }#T_b4b0ee42_9f82_11eb_b733_0242ac1c0002row13_col8{\n",
              "            background-color:  #94b6ff;\n",
              "            color:  #000000;\n",
              "        }#T_b4b0ee42_9f82_11eb_b733_0242ac1c0002row13_col11,#T_b4b0ee42_9f82_11eb_b733_0242ac1c0002row16_col6,#T_b4b0ee42_9f82_11eb_b733_0242ac1c0002row16_col9{\n",
              "            background-color:  #98b9ff;\n",
              "            color:  #000000;\n",
              "        }#T_b4b0ee42_9f82_11eb_b733_0242ac1c0002row13_col14{\n",
              "            background-color:  #e57058;\n",
              "            color:  #000000;\n",
              "        }#T_b4b0ee42_9f82_11eb_b733_0242ac1c0002row14_col0{\n",
              "            background-color:  #455cce;\n",
              "            color:  #f1f1f1;\n",
              "        }#T_b4b0ee42_9f82_11eb_b733_0242ac1c0002row14_col2{\n",
              "            background-color:  #9fbfff;\n",
              "            color:  #000000;\n",
              "        }#T_b4b0ee42_9f82_11eb_b733_0242ac1c0002row14_col6{\n",
              "            background-color:  #d1dae9;\n",
              "            color:  #000000;\n",
              "        }#T_b4b0ee42_9f82_11eb_b733_0242ac1c0002row14_col7{\n",
              "            background-color:  #a7c5fe;\n",
              "            color:  #000000;\n",
              "        }#T_b4b0ee42_9f82_11eb_b733_0242ac1c0002row14_col10{\n",
              "            background-color:  #bbd1f8;\n",
              "            color:  #000000;\n",
              "        }#T_b4b0ee42_9f82_11eb_b733_0242ac1c0002row14_col13{\n",
              "            background-color:  #e46e56;\n",
              "            color:  #000000;\n",
              "        }#T_b4b0ee42_9f82_11eb_b733_0242ac1c0002row15_col4{\n",
              "            background-color:  #c7d7f0;\n",
              "            color:  #000000;\n",
              "        }#T_b4b0ee42_9f82_11eb_b733_0242ac1c0002row16_col5{\n",
              "            background-color:  #ea7b60;\n",
              "            color:  #000000;\n",
              "        }</style><table id=\"T_b4b0ee42_9f82_11eb_b733_0242ac1c0002\" ><thead>    <tr>        <th class=\"blank level0\" ></th>        <th class=\"col_heading level0 col0\" >Store</th>        <th class=\"col_heading level0 col1\" >Dept</th>        <th class=\"col_heading level0 col2\" >Weekly_Sales</th>        <th class=\"col_heading level0 col3\" >IsHoliday</th>        <th class=\"col_heading level0 col4\" >Temperature</th>        <th class=\"col_heading level0 col5\" >Fuel_Price</th>        <th class=\"col_heading level0 col6\" >MarkDown1</th>        <th class=\"col_heading level0 col7\" >MarkDown2</th>        <th class=\"col_heading level0 col8\" >MarkDown3</th>        <th class=\"col_heading level0 col9\" >MarkDown4</th>        <th class=\"col_heading level0 col10\" >MarkDown5</th>        <th class=\"col_heading level0 col11\" >CPI</th>        <th class=\"col_heading level0 col12\" >Unemployment</th>        <th class=\"col_heading level0 col13\" >Type</th>        <th class=\"col_heading level0 col14\" >Size</th>        <th class=\"col_heading level0 col15\" >Week</th>        <th class=\"col_heading level0 col16\" >Year</th>    </tr></thead><tbody>\n",
              "                <tr>\n",
              "                        <th id=\"T_b4b0ee42_9f82_11eb_b733_0242ac1c0002level0_row0\" class=\"row_heading level0 row0\" >Store</th>\n",
              "                        <td id=\"T_b4b0ee42_9f82_11eb_b733_0242ac1c0002row0_col0\" class=\"data row0 col0\" >1.000000</td>\n",
              "                        <td id=\"T_b4b0ee42_9f82_11eb_b733_0242ac1c0002row0_col1\" class=\"data row0 col1\" >0.024004</td>\n",
              "                        <td id=\"T_b4b0ee42_9f82_11eb_b733_0242ac1c0002row0_col2\" class=\"data row0 col2\" >-0.085195</td>\n",
              "                        <td id=\"T_b4b0ee42_9f82_11eb_b733_0242ac1c0002row0_col3\" class=\"data row0 col3\" >-0.000395</td>\n",
              "                        <td id=\"T_b4b0ee42_9f82_11eb_b733_0242ac1c0002row0_col4\" class=\"data row0 col4\" >-0.050097</td>\n",
              "                        <td id=\"T_b4b0ee42_9f82_11eb_b733_0242ac1c0002row0_col5\" class=\"data row0 col5\" >0.065290</td>\n",
              "                        <td id=\"T_b4b0ee42_9f82_11eb_b733_0242ac1c0002row0_col6\" class=\"data row0 col6\" >-0.119588</td>\n",
              "                        <td id=\"T_b4b0ee42_9f82_11eb_b733_0242ac1c0002row0_col7\" class=\"data row0 col7\" >-0.035173</td>\n",
              "                        <td id=\"T_b4b0ee42_9f82_11eb_b733_0242ac1c0002row0_col8\" class=\"data row0 col8\" >-0.031556</td>\n",
              "                        <td id=\"T_b4b0ee42_9f82_11eb_b733_0242ac1c0002row0_col9\" class=\"data row0 col9\" >-0.009941</td>\n",
              "                        <td id=\"T_b4b0ee42_9f82_11eb_b733_0242ac1c0002row0_col10\" class=\"data row0 col10\" >-0.026634</td>\n",
              "                        <td id=\"T_b4b0ee42_9f82_11eb_b733_0242ac1c0002row0_col11\" class=\"data row0 col11\" >-0.211088</td>\n",
              "                        <td id=\"T_b4b0ee42_9f82_11eb_b733_0242ac1c0002row0_col12\" class=\"data row0 col12\" >0.208552</td>\n",
              "                        <td id=\"T_b4b0ee42_9f82_11eb_b733_0242ac1c0002row0_col13\" class=\"data row0 col13\" >-0.226410</td>\n",
              "                        <td id=\"T_b4b0ee42_9f82_11eb_b733_0242ac1c0002row0_col14\" class=\"data row0 col14\" >-0.182881</td>\n",
              "                        <td id=\"T_b4b0ee42_9f82_11eb_b733_0242ac1c0002row0_col15\" class=\"data row0 col15\" >0.001031</td>\n",
              "                        <td id=\"T_b4b0ee42_9f82_11eb_b733_0242ac1c0002row0_col16\" class=\"data row0 col16\" >0.002997</td>\n",
              "            </tr>\n",
              "            <tr>\n",
              "                        <th id=\"T_b4b0ee42_9f82_11eb_b733_0242ac1c0002level0_row1\" class=\"row_heading level0 row1\" >Dept</th>\n",
              "                        <td id=\"T_b4b0ee42_9f82_11eb_b733_0242ac1c0002row1_col0\" class=\"data row1 col0\" >0.024004</td>\n",
              "                        <td id=\"T_b4b0ee42_9f82_11eb_b733_0242ac1c0002row1_col1\" class=\"data row1 col1\" >1.000000</td>\n",
              "                        <td id=\"T_b4b0ee42_9f82_11eb_b733_0242ac1c0002row1_col2\" class=\"data row1 col2\" >0.148032</td>\n",
              "                        <td id=\"T_b4b0ee42_9f82_11eb_b733_0242ac1c0002row1_col3\" class=\"data row1 col3\" >0.000906</td>\n",
              "                        <td id=\"T_b4b0ee42_9f82_11eb_b733_0242ac1c0002row1_col4\" class=\"data row1 col4\" >0.004437</td>\n",
              "                        <td id=\"T_b4b0ee42_9f82_11eb_b733_0242ac1c0002row1_col5\" class=\"data row1 col5\" >0.003572</td>\n",
              "                        <td id=\"T_b4b0ee42_9f82_11eb_b733_0242ac1c0002row1_col6\" class=\"data row1 col6\" >-0.002426</td>\n",
              "                        <td id=\"T_b4b0ee42_9f82_11eb_b733_0242ac1c0002row1_col7\" class=\"data row1 col7\" >0.000290</td>\n",
              "                        <td id=\"T_b4b0ee42_9f82_11eb_b733_0242ac1c0002row1_col8\" class=\"data row1 col8\" >0.001784</td>\n",
              "                        <td id=\"T_b4b0ee42_9f82_11eb_b733_0242ac1c0002row1_col9\" class=\"data row1 col9\" >0.004257</td>\n",
              "                        <td id=\"T_b4b0ee42_9f82_11eb_b733_0242ac1c0002row1_col10\" class=\"data row1 col10\" >0.000109</td>\n",
              "                        <td id=\"T_b4b0ee42_9f82_11eb_b733_0242ac1c0002row1_col11\" class=\"data row1 col11\" >-0.007477</td>\n",
              "                        <td id=\"T_b4b0ee42_9f82_11eb_b733_0242ac1c0002row1_col12\" class=\"data row1 col12\" >0.007837</td>\n",
              "                        <td id=\"T_b4b0ee42_9f82_11eb_b733_0242ac1c0002row1_col13\" class=\"data row1 col13\" >-0.003708</td>\n",
              "                        <td id=\"T_b4b0ee42_9f82_11eb_b733_0242ac1c0002row1_col14\" class=\"data row1 col14\" >-0.002966</td>\n",
              "                        <td id=\"T_b4b0ee42_9f82_11eb_b733_0242ac1c0002row1_col15\" class=\"data row1 col15\" >0.000882</td>\n",
              "                        <td id=\"T_b4b0ee42_9f82_11eb_b733_0242ac1c0002row1_col16\" class=\"data row1 col16\" >0.003738</td>\n",
              "            </tr>\n",
              "            <tr>\n",
              "                        <th id=\"T_b4b0ee42_9f82_11eb_b733_0242ac1c0002level0_row2\" class=\"row_heading level0 row2\" >Weekly_Sales</th>\n",
              "                        <td id=\"T_b4b0ee42_9f82_11eb_b733_0242ac1c0002row2_col0\" class=\"data row2 col0\" >-0.085195</td>\n",
              "                        <td id=\"T_b4b0ee42_9f82_11eb_b733_0242ac1c0002row2_col1\" class=\"data row2 col1\" >0.148032</td>\n",
              "                        <td id=\"T_b4b0ee42_9f82_11eb_b733_0242ac1c0002row2_col2\" class=\"data row2 col2\" >1.000000</td>\n",
              "                        <td id=\"T_b4b0ee42_9f82_11eb_b733_0242ac1c0002row2_col3\" class=\"data row2 col3\" >0.012574</td>\n",
              "                        <td id=\"T_b4b0ee42_9f82_11eb_b733_0242ac1c0002row2_col4\" class=\"data row2 col4\" >-0.002312</td>\n",
              "                        <td id=\"T_b4b0ee42_9f82_11eb_b733_0242ac1c0002row2_col5\" class=\"data row2 col5\" >-0.000120</td>\n",
              "                        <td id=\"T_b4b0ee42_9f82_11eb_b733_0242ac1c0002row2_col6\" class=\"data row2 col6\" >0.085251</td>\n",
              "                        <td id=\"T_b4b0ee42_9f82_11eb_b733_0242ac1c0002row2_col7\" class=\"data row2 col7\" >0.024130</td>\n",
              "                        <td id=\"T_b4b0ee42_9f82_11eb_b733_0242ac1c0002row2_col8\" class=\"data row2 col8\" >0.060385</td>\n",
              "                        <td id=\"T_b4b0ee42_9f82_11eb_b733_0242ac1c0002row2_col9\" class=\"data row2 col9\" >0.045414</td>\n",
              "                        <td id=\"T_b4b0ee42_9f82_11eb_b733_0242ac1c0002row2_col10\" class=\"data row2 col10\" >0.090362</td>\n",
              "                        <td id=\"T_b4b0ee42_9f82_11eb_b733_0242ac1c0002row2_col11\" class=\"data row2 col11\" >-0.020921</td>\n",
              "                        <td id=\"T_b4b0ee42_9f82_11eb_b733_0242ac1c0002row2_col12\" class=\"data row2 col12\" >-0.025864</td>\n",
              "                        <td id=\"T_b4b0ee42_9f82_11eb_b733_0242ac1c0002row2_col13\" class=\"data row2 col13\" >0.182242</td>\n",
              "                        <td id=\"T_b4b0ee42_9f82_11eb_b733_0242ac1c0002row2_col14\" class=\"data row2 col14\" >0.243828</td>\n",
              "                        <td id=\"T_b4b0ee42_9f82_11eb_b733_0242ac1c0002row2_col15\" class=\"data row2 col15\" >0.027673</td>\n",
              "                        <td id=\"T_b4b0ee42_9f82_11eb_b733_0242ac1c0002row2_col16\" class=\"data row2 col16\" >-0.010111</td>\n",
              "            </tr>\n",
              "            <tr>\n",
              "                        <th id=\"T_b4b0ee42_9f82_11eb_b733_0242ac1c0002level0_row3\" class=\"row_heading level0 row3\" >IsHoliday</th>\n",
              "                        <td id=\"T_b4b0ee42_9f82_11eb_b733_0242ac1c0002row3_col0\" class=\"data row3 col0\" >-0.000395</td>\n",
              "                        <td id=\"T_b4b0ee42_9f82_11eb_b733_0242ac1c0002row3_col1\" class=\"data row3 col1\" >0.000906</td>\n",
              "                        <td id=\"T_b4b0ee42_9f82_11eb_b733_0242ac1c0002row3_col2\" class=\"data row3 col2\" >0.012574</td>\n",
              "                        <td id=\"T_b4b0ee42_9f82_11eb_b733_0242ac1c0002row3_col3\" class=\"data row3 col3\" >1.000000</td>\n",
              "                        <td id=\"T_b4b0ee42_9f82_11eb_b733_0242ac1c0002row3_col4\" class=\"data row3 col4\" >-0.145214</td>\n",
              "                        <td id=\"T_b4b0ee42_9f82_11eb_b733_0242ac1c0002row3_col5\" class=\"data row3 col5\" >-0.071144</td>\n",
              "                        <td id=\"T_b4b0ee42_9f82_11eb_b733_0242ac1c0002row3_col6\" class=\"data row3 col6\" >-0.080354</td>\n",
              "                        <td id=\"T_b4b0ee42_9f82_11eb_b733_0242ac1c0002row3_col7\" class=\"data row3 col7\" >0.491347</td>\n",
              "                        <td id=\"T_b4b0ee42_9f82_11eb_b733_0242ac1c0002row3_col8\" class=\"data row3 col8\" >0.479801</td>\n",
              "                        <td id=\"T_b4b0ee42_9f82_11eb_b733_0242ac1c0002row3_col9\" class=\"data row3 col9\" >-0.068367</td>\n",
              "                        <td id=\"T_b4b0ee42_9f82_11eb_b733_0242ac1c0002row3_col10\" class=\"data row3 col10\" >-0.075207</td>\n",
              "                        <td id=\"T_b4b0ee42_9f82_11eb_b733_0242ac1c0002row3_col11\" class=\"data row3 col11\" >-0.001313</td>\n",
              "                        <td id=\"T_b4b0ee42_9f82_11eb_b733_0242ac1c0002row3_col12\" class=\"data row3 col12\" >0.010656</td>\n",
              "                        <td id=\"T_b4b0ee42_9f82_11eb_b733_0242ac1c0002row3_col13\" class=\"data row3 col13\" >0.000580</td>\n",
              "                        <td id=\"T_b4b0ee42_9f82_11eb_b733_0242ac1c0002row3_col14\" class=\"data row3 col14\" >0.000241</td>\n",
              "                        <td id=\"T_b4b0ee42_9f82_11eb_b733_0242ac1c0002row3_col15\" class=\"data row3 col15\" >0.256332</td>\n",
              "                        <td id=\"T_b4b0ee42_9f82_11eb_b733_0242ac1c0002row3_col16\" class=\"data row3 col16\" >-0.083070</td>\n",
              "            </tr>\n",
              "            <tr>\n",
              "                        <th id=\"T_b4b0ee42_9f82_11eb_b733_0242ac1c0002level0_row4\" class=\"row_heading level0 row4\" >Temperature</th>\n",
              "                        <td id=\"T_b4b0ee42_9f82_11eb_b733_0242ac1c0002row4_col0\" class=\"data row4 col0\" >-0.050097</td>\n",
              "                        <td id=\"T_b4b0ee42_9f82_11eb_b733_0242ac1c0002row4_col1\" class=\"data row4 col1\" >0.004437</td>\n",
              "                        <td id=\"T_b4b0ee42_9f82_11eb_b733_0242ac1c0002row4_col2\" class=\"data row4 col2\" >-0.002312</td>\n",
              "                        <td id=\"T_b4b0ee42_9f82_11eb_b733_0242ac1c0002row4_col3\" class=\"data row4 col3\" >-0.145214</td>\n",
              "                        <td id=\"T_b4b0ee42_9f82_11eb_b733_0242ac1c0002row4_col4\" class=\"data row4 col4\" >1.000000</td>\n",
              "                        <td id=\"T_b4b0ee42_9f82_11eb_b733_0242ac1c0002row4_col5\" class=\"data row4 col5\" >0.143859</td>\n",
              "                        <td id=\"T_b4b0ee42_9f82_11eb_b733_0242ac1c0002row4_col6\" class=\"data row4 col6\" >-0.040594</td>\n",
              "                        <td id=\"T_b4b0ee42_9f82_11eb_b733_0242ac1c0002row4_col7\" class=\"data row4 col7\" >-0.323927</td>\n",
              "                        <td id=\"T_b4b0ee42_9f82_11eb_b733_0242ac1c0002row4_col8\" class=\"data row4 col8\" >-0.096880</td>\n",
              "                        <td id=\"T_b4b0ee42_9f82_11eb_b733_0242ac1c0002row4_col9\" class=\"data row4 col9\" >-0.063947</td>\n",
              "                        <td id=\"T_b4b0ee42_9f82_11eb_b733_0242ac1c0002row4_col10\" class=\"data row4 col10\" >-0.017544</td>\n",
              "                        <td id=\"T_b4b0ee42_9f82_11eb_b733_0242ac1c0002row4_col11\" class=\"data row4 col11\" >0.182112</td>\n",
              "                        <td id=\"T_b4b0ee42_9f82_11eb_b733_0242ac1c0002row4_col12\" class=\"data row4 col12\" >0.096730</td>\n",
              "                        <td id=\"T_b4b0ee42_9f82_11eb_b733_0242ac1c0002row4_col13\" class=\"data row4 col13\" >-0.042981</td>\n",
              "                        <td id=\"T_b4b0ee42_9f82_11eb_b733_0242ac1c0002row4_col14\" class=\"data row4 col14\" >-0.058313</td>\n",
              "                        <td id=\"T_b4b0ee42_9f82_11eb_b733_0242ac1c0002row4_col15\" class=\"data row4 col15\" >0.236276</td>\n",
              "                        <td id=\"T_b4b0ee42_9f82_11eb_b733_0242ac1c0002row4_col16\" class=\"data row4 col16\" >0.065814</td>\n",
              "            </tr>\n",
              "            <tr>\n",
              "                        <th id=\"T_b4b0ee42_9f82_11eb_b733_0242ac1c0002level0_row5\" class=\"row_heading level0 row5\" >Fuel_Price</th>\n",
              "                        <td id=\"T_b4b0ee42_9f82_11eb_b733_0242ac1c0002row5_col0\" class=\"data row5 col0\" >0.065290</td>\n",
              "                        <td id=\"T_b4b0ee42_9f82_11eb_b733_0242ac1c0002row5_col1\" class=\"data row5 col1\" >0.003572</td>\n",
              "                        <td id=\"T_b4b0ee42_9f82_11eb_b733_0242ac1c0002row5_col2\" class=\"data row5 col2\" >-0.000120</td>\n",
              "                        <td id=\"T_b4b0ee42_9f82_11eb_b733_0242ac1c0002row5_col3\" class=\"data row5 col3\" >-0.071144</td>\n",
              "                        <td id=\"T_b4b0ee42_9f82_11eb_b733_0242ac1c0002row5_col4\" class=\"data row5 col4\" >0.143859</td>\n",
              "                        <td id=\"T_b4b0ee42_9f82_11eb_b733_0242ac1c0002row5_col5\" class=\"data row5 col5\" >1.000000</td>\n",
              "                        <td id=\"T_b4b0ee42_9f82_11eb_b733_0242ac1c0002row5_col6\" class=\"data row5 col6\" >0.061371</td>\n",
              "                        <td id=\"T_b4b0ee42_9f82_11eb_b733_0242ac1c0002row5_col7\" class=\"data row5 col7\" >-0.220895</td>\n",
              "                        <td id=\"T_b4b0ee42_9f82_11eb_b733_0242ac1c0002row5_col8\" class=\"data row5 col8\" >-0.102092</td>\n",
              "                        <td id=\"T_b4b0ee42_9f82_11eb_b733_0242ac1c0002row5_col9\" class=\"data row5 col9\" >-0.044986</td>\n",
              "                        <td id=\"T_b4b0ee42_9f82_11eb_b733_0242ac1c0002row5_col10\" class=\"data row5 col10\" >-0.128065</td>\n",
              "                        <td id=\"T_b4b0ee42_9f82_11eb_b733_0242ac1c0002row5_col11\" class=\"data row5 col11\" >-0.164210</td>\n",
              "                        <td id=\"T_b4b0ee42_9f82_11eb_b733_0242ac1c0002row5_col12\" class=\"data row5 col12\" >-0.033853</td>\n",
              "                        <td id=\"T_b4b0ee42_9f82_11eb_b733_0242ac1c0002row5_col13\" class=\"data row5 col13\" >-0.029687</td>\n",
              "                        <td id=\"T_b4b0ee42_9f82_11eb_b733_0242ac1c0002row5_col14\" class=\"data row5 col14\" >0.003361</td>\n",
              "                        <td id=\"T_b4b0ee42_9f82_11eb_b733_0242ac1c0002row5_col15\" class=\"data row5 col15\" >-0.031140</td>\n",
              "                        <td id=\"T_b4b0ee42_9f82_11eb_b733_0242ac1c0002row5_col16\" class=\"data row5 col16\" >0.779633</td>\n",
              "            </tr>\n",
              "            <tr>\n",
              "                        <th id=\"T_b4b0ee42_9f82_11eb_b733_0242ac1c0002level0_row6\" class=\"row_heading level0 row6\" >MarkDown1</th>\n",
              "                        <td id=\"T_b4b0ee42_9f82_11eb_b733_0242ac1c0002row6_col0\" class=\"data row6 col0\" >-0.119588</td>\n",
              "                        <td id=\"T_b4b0ee42_9f82_11eb_b733_0242ac1c0002row6_col1\" class=\"data row6 col1\" >-0.002426</td>\n",
              "                        <td id=\"T_b4b0ee42_9f82_11eb_b733_0242ac1c0002row6_col2\" class=\"data row6 col2\" >0.085251</td>\n",
              "                        <td id=\"T_b4b0ee42_9f82_11eb_b733_0242ac1c0002row6_col3\" class=\"data row6 col3\" >-0.080354</td>\n",
              "                        <td id=\"T_b4b0ee42_9f82_11eb_b733_0242ac1c0002row6_col4\" class=\"data row6 col4\" >-0.040594</td>\n",
              "                        <td id=\"T_b4b0ee42_9f82_11eb_b733_0242ac1c0002row6_col5\" class=\"data row6 col5\" >0.061371</td>\n",
              "                        <td id=\"T_b4b0ee42_9f82_11eb_b733_0242ac1c0002row6_col6\" class=\"data row6 col6\" >1.000000</td>\n",
              "                        <td id=\"T_b4b0ee42_9f82_11eb_b733_0242ac1c0002row6_col7\" class=\"data row6 col7\" >0.024486</td>\n",
              "                        <td id=\"T_b4b0ee42_9f82_11eb_b733_0242ac1c0002row6_col8\" class=\"data row6 col8\" >-0.108115</td>\n",
              "                        <td id=\"T_b4b0ee42_9f82_11eb_b733_0242ac1c0002row6_col9\" class=\"data row6 col9\" >0.819238</td>\n",
              "                        <td id=\"T_b4b0ee42_9f82_11eb_b733_0242ac1c0002row6_col10\" class=\"data row6 col10\" >0.160257</td>\n",
              "                        <td id=\"T_b4b0ee42_9f82_11eb_b733_0242ac1c0002row6_col11\" class=\"data row6 col11\" >-0.055558</td>\n",
              "                        <td id=\"T_b4b0ee42_9f82_11eb_b733_0242ac1c0002row6_col12\" class=\"data row6 col12\" >0.050285</td>\n",
              "                        <td id=\"T_b4b0ee42_9f82_11eb_b733_0242ac1c0002row6_col13\" class=\"data row6 col13\" >0.257427</td>\n",
              "                        <td id=\"T_b4b0ee42_9f82_11eb_b733_0242ac1c0002row6_col14\" class=\"data row6 col14\" >0.345673</td>\n",
              "                        <td id=\"T_b4b0ee42_9f82_11eb_b733_0242ac1c0002row6_col15\" class=\"data row6 col15\" >-0.198076</td>\n",
              "                        <td id=\"T_b4b0ee42_9f82_11eb_b733_0242ac1c0002row6_col16\" class=\"data row6 col16\" >0.141332</td>\n",
              "            </tr>\n",
              "            <tr>\n",
              "                        <th id=\"T_b4b0ee42_9f82_11eb_b733_0242ac1c0002level0_row7\" class=\"row_heading level0 row7\" >MarkDown2</th>\n",
              "                        <td id=\"T_b4b0ee42_9f82_11eb_b733_0242ac1c0002row7_col0\" class=\"data row7 col0\" >-0.035173</td>\n",
              "                        <td id=\"T_b4b0ee42_9f82_11eb_b733_0242ac1c0002row7_col1\" class=\"data row7 col1\" >0.000290</td>\n",
              "                        <td id=\"T_b4b0ee42_9f82_11eb_b733_0242ac1c0002row7_col2\" class=\"data row7 col2\" >0.024130</td>\n",
              "                        <td id=\"T_b4b0ee42_9f82_11eb_b733_0242ac1c0002row7_col3\" class=\"data row7 col3\" >0.491347</td>\n",
              "                        <td id=\"T_b4b0ee42_9f82_11eb_b733_0242ac1c0002row7_col4\" class=\"data row7 col4\" >-0.323927</td>\n",
              "                        <td id=\"T_b4b0ee42_9f82_11eb_b733_0242ac1c0002row7_col5\" class=\"data row7 col5\" >-0.220895</td>\n",
              "                        <td id=\"T_b4b0ee42_9f82_11eb_b733_0242ac1c0002row7_col6\" class=\"data row7 col6\" >0.024486</td>\n",
              "                        <td id=\"T_b4b0ee42_9f82_11eb_b733_0242ac1c0002row7_col7\" class=\"data row7 col7\" >1.000000</td>\n",
              "                        <td id=\"T_b4b0ee42_9f82_11eb_b733_0242ac1c0002row7_col8\" class=\"data row7 col8\" >-0.050108</td>\n",
              "                        <td id=\"T_b4b0ee42_9f82_11eb_b733_0242ac1c0002row7_col9\" class=\"data row7 col9\" >-0.007768</td>\n",
              "                        <td id=\"T_b4b0ee42_9f82_11eb_b733_0242ac1c0002row7_col10\" class=\"data row7 col10\" >-0.007440</td>\n",
              "                        <td id=\"T_b4b0ee42_9f82_11eb_b733_0242ac1c0002row7_col11\" class=\"data row7 col11\" >-0.039534</td>\n",
              "                        <td id=\"T_b4b0ee42_9f82_11eb_b733_0242ac1c0002row7_col12\" class=\"data row7 col12\" >0.020940</td>\n",
              "                        <td id=\"T_b4b0ee42_9f82_11eb_b733_0242ac1c0002row7_col13\" class=\"data row7 col13\" >0.067034</td>\n",
              "                        <td id=\"T_b4b0ee42_9f82_11eb_b733_0242ac1c0002row7_col14\" class=\"data row7 col14\" >0.108827</td>\n",
              "                        <td id=\"T_b4b0ee42_9f82_11eb_b733_0242ac1c0002row7_col15\" class=\"data row7 col15\" >-0.000995</td>\n",
              "                        <td id=\"T_b4b0ee42_9f82_11eb_b733_0242ac1c0002row7_col16\" class=\"data row7 col16\" >-0.222109</td>\n",
              "            </tr>\n",
              "            <tr>\n",
              "                        <th id=\"T_b4b0ee42_9f82_11eb_b733_0242ac1c0002level0_row8\" class=\"row_heading level0 row8\" >MarkDown3</th>\n",
              "                        <td id=\"T_b4b0ee42_9f82_11eb_b733_0242ac1c0002row8_col0\" class=\"data row8 col0\" >-0.031556</td>\n",
              "                        <td id=\"T_b4b0ee42_9f82_11eb_b733_0242ac1c0002row8_col1\" class=\"data row8 col1\" >0.001784</td>\n",
              "                        <td id=\"T_b4b0ee42_9f82_11eb_b733_0242ac1c0002row8_col2\" class=\"data row8 col2\" >0.060385</td>\n",
              "                        <td id=\"T_b4b0ee42_9f82_11eb_b733_0242ac1c0002row8_col3\" class=\"data row8 col3\" >0.479801</td>\n",
              "                        <td id=\"T_b4b0ee42_9f82_11eb_b733_0242ac1c0002row8_col4\" class=\"data row8 col4\" >-0.096880</td>\n",
              "                        <td id=\"T_b4b0ee42_9f82_11eb_b733_0242ac1c0002row8_col5\" class=\"data row8 col5\" >-0.102092</td>\n",
              "                        <td id=\"T_b4b0ee42_9f82_11eb_b733_0242ac1c0002row8_col6\" class=\"data row8 col6\" >-0.108115</td>\n",
              "                        <td id=\"T_b4b0ee42_9f82_11eb_b733_0242ac1c0002row8_col7\" class=\"data row8 col7\" >-0.050108</td>\n",
              "                        <td id=\"T_b4b0ee42_9f82_11eb_b733_0242ac1c0002row8_col8\" class=\"data row8 col8\" >1.000000</td>\n",
              "                        <td id=\"T_b4b0ee42_9f82_11eb_b733_0242ac1c0002row8_col9\" class=\"data row8 col9\" >-0.071095</td>\n",
              "                        <td id=\"T_b4b0ee42_9f82_11eb_b733_0242ac1c0002row8_col10\" class=\"data row8 col10\" >-0.026467</td>\n",
              "                        <td id=\"T_b4b0ee42_9f82_11eb_b733_0242ac1c0002row8_col11\" class=\"data row8 col11\" >-0.023590</td>\n",
              "                        <td id=\"T_b4b0ee42_9f82_11eb_b733_0242ac1c0002row8_col12\" class=\"data row8 col12\" >0.012818</td>\n",
              "                        <td id=\"T_b4b0ee42_9f82_11eb_b733_0242ac1c0002row8_col13\" class=\"data row8 col13\" >0.037560</td>\n",
              "                        <td id=\"T_b4b0ee42_9f82_11eb_b733_0242ac1c0002row8_col14\" class=\"data row8 col14\" >0.048913</td>\n",
              "                        <td id=\"T_b4b0ee42_9f82_11eb_b733_0242ac1c0002row8_col15\" class=\"data row8 col15\" >0.196307</td>\n",
              "                        <td id=\"T_b4b0ee42_9f82_11eb_b733_0242ac1c0002row8_col16\" class=\"data row8 col16\" >-0.319162</td>\n",
              "            </tr>\n",
              "            <tr>\n",
              "                        <th id=\"T_b4b0ee42_9f82_11eb_b733_0242ac1c0002level0_row9\" class=\"row_heading level0 row9\" >MarkDown4</th>\n",
              "                        <td id=\"T_b4b0ee42_9f82_11eb_b733_0242ac1c0002row9_col0\" class=\"data row9 col0\" >-0.009941</td>\n",
              "                        <td id=\"T_b4b0ee42_9f82_11eb_b733_0242ac1c0002row9_col1\" class=\"data row9 col1\" >0.004257</td>\n",
              "                        <td id=\"T_b4b0ee42_9f82_11eb_b733_0242ac1c0002row9_col2\" class=\"data row9 col2\" >0.045414</td>\n",
              "                        <td id=\"T_b4b0ee42_9f82_11eb_b733_0242ac1c0002row9_col3\" class=\"data row9 col3\" >-0.068367</td>\n",
              "                        <td id=\"T_b4b0ee42_9f82_11eb_b733_0242ac1c0002row9_col4\" class=\"data row9 col4\" >-0.063947</td>\n",
              "                        <td id=\"T_b4b0ee42_9f82_11eb_b733_0242ac1c0002row9_col5\" class=\"data row9 col5\" >-0.044986</td>\n",
              "                        <td id=\"T_b4b0ee42_9f82_11eb_b733_0242ac1c0002row9_col6\" class=\"data row9 col6\" >0.819238</td>\n",
              "                        <td id=\"T_b4b0ee42_9f82_11eb_b733_0242ac1c0002row9_col7\" class=\"data row9 col7\" >-0.007768</td>\n",
              "                        <td id=\"T_b4b0ee42_9f82_11eb_b733_0242ac1c0002row9_col8\" class=\"data row9 col8\" >-0.071095</td>\n",
              "                        <td id=\"T_b4b0ee42_9f82_11eb_b733_0242ac1c0002row9_col9\" class=\"data row9 col9\" >1.000000</td>\n",
              "                        <td id=\"T_b4b0ee42_9f82_11eb_b733_0242ac1c0002row9_col10\" class=\"data row9 col10\" >0.107792</td>\n",
              "                        <td id=\"T_b4b0ee42_9f82_11eb_b733_0242ac1c0002row9_col11\" class=\"data row9 col11\" >-0.049628</td>\n",
              "                        <td id=\"T_b4b0ee42_9f82_11eb_b733_0242ac1c0002row9_col12\" class=\"data row9 col12\" >0.024963</td>\n",
              "                        <td id=\"T_b4b0ee42_9f82_11eb_b733_0242ac1c0002row9_col13\" class=\"data row9 col13\" >0.108991</td>\n",
              "                        <td id=\"T_b4b0ee42_9f82_11eb_b733_0242ac1c0002row9_col14\" class=\"data row9 col14\" >0.168196</td>\n",
              "                        <td id=\"T_b4b0ee42_9f82_11eb_b733_0242ac1c0002row9_col15\" class=\"data row9 col15\" >-0.218477</td>\n",
              "                        <td id=\"T_b4b0ee42_9f82_11eb_b733_0242ac1c0002row9_col16\" class=\"data row9 col16\" >0.126469</td>\n",
              "            </tr>\n",
              "            <tr>\n",
              "                        <th id=\"T_b4b0ee42_9f82_11eb_b733_0242ac1c0002level0_row10\" class=\"row_heading level0 row10\" >MarkDown5</th>\n",
              "                        <td id=\"T_b4b0ee42_9f82_11eb_b733_0242ac1c0002row10_col0\" class=\"data row10 col0\" >-0.026634</td>\n",
              "                        <td id=\"T_b4b0ee42_9f82_11eb_b733_0242ac1c0002row10_col1\" class=\"data row10 col1\" >0.000109</td>\n",
              "                        <td id=\"T_b4b0ee42_9f82_11eb_b733_0242ac1c0002row10_col2\" class=\"data row10 col2\" >0.090362</td>\n",
              "                        <td id=\"T_b4b0ee42_9f82_11eb_b733_0242ac1c0002row10_col3\" class=\"data row10 col3\" >-0.075207</td>\n",
              "                        <td id=\"T_b4b0ee42_9f82_11eb_b733_0242ac1c0002row10_col4\" class=\"data row10 col4\" >-0.017544</td>\n",
              "                        <td id=\"T_b4b0ee42_9f82_11eb_b733_0242ac1c0002row10_col5\" class=\"data row10 col5\" >-0.128065</td>\n",
              "                        <td id=\"T_b4b0ee42_9f82_11eb_b733_0242ac1c0002row10_col6\" class=\"data row10 col6\" >0.160257</td>\n",
              "                        <td id=\"T_b4b0ee42_9f82_11eb_b733_0242ac1c0002row10_col7\" class=\"data row10 col7\" >-0.007440</td>\n",
              "                        <td id=\"T_b4b0ee42_9f82_11eb_b733_0242ac1c0002row10_col8\" class=\"data row10 col8\" >-0.026467</td>\n",
              "                        <td id=\"T_b4b0ee42_9f82_11eb_b733_0242ac1c0002row10_col9\" class=\"data row10 col9\" >0.107792</td>\n",
              "                        <td id=\"T_b4b0ee42_9f82_11eb_b733_0242ac1c0002row10_col10\" class=\"data row10 col10\" >1.000000</td>\n",
              "                        <td id=\"T_b4b0ee42_9f82_11eb_b733_0242ac1c0002row10_col11\" class=\"data row10 col11\" >0.060630</td>\n",
              "                        <td id=\"T_b4b0ee42_9f82_11eb_b733_0242ac1c0002row10_col12\" class=\"data row10 col12\" >-0.003843</td>\n",
              "                        <td id=\"T_b4b0ee42_9f82_11eb_b733_0242ac1c0002row10_col13\" class=\"data row10 col13\" >0.258835</td>\n",
              "                        <td id=\"T_b4b0ee42_9f82_11eb_b733_0242ac1c0002row10_col14\" class=\"data row10 col14\" >0.304575</td>\n",
              "                        <td id=\"T_b4b0ee42_9f82_11eb_b733_0242ac1c0002row10_col15\" class=\"data row10 col15\" >0.084874</td>\n",
              "                        <td id=\"T_b4b0ee42_9f82_11eb_b733_0242ac1c0002row10_col16\" class=\"data row10 col16\" >-0.128387</td>\n",
              "            </tr>\n",
              "            <tr>\n",
              "                        <th id=\"T_b4b0ee42_9f82_11eb_b733_0242ac1c0002level0_row11\" class=\"row_heading level0 row11\" >CPI</th>\n",
              "                        <td id=\"T_b4b0ee42_9f82_11eb_b733_0242ac1c0002row11_col0\" class=\"data row11 col0\" >-0.211088</td>\n",
              "                        <td id=\"T_b4b0ee42_9f82_11eb_b733_0242ac1c0002row11_col1\" class=\"data row11 col1\" >-0.007477</td>\n",
              "                        <td id=\"T_b4b0ee42_9f82_11eb_b733_0242ac1c0002row11_col2\" class=\"data row11 col2\" >-0.020921</td>\n",
              "                        <td id=\"T_b4b0ee42_9f82_11eb_b733_0242ac1c0002row11_col3\" class=\"data row11 col3\" >-0.001313</td>\n",
              "                        <td id=\"T_b4b0ee42_9f82_11eb_b733_0242ac1c0002row11_col4\" class=\"data row11 col4\" >0.182112</td>\n",
              "                        <td id=\"T_b4b0ee42_9f82_11eb_b733_0242ac1c0002row11_col5\" class=\"data row11 col5\" >-0.164210</td>\n",
              "                        <td id=\"T_b4b0ee42_9f82_11eb_b733_0242ac1c0002row11_col6\" class=\"data row11 col6\" >-0.055558</td>\n",
              "                        <td id=\"T_b4b0ee42_9f82_11eb_b733_0242ac1c0002row11_col7\" class=\"data row11 col7\" >-0.039534</td>\n",
              "                        <td id=\"T_b4b0ee42_9f82_11eb_b733_0242ac1c0002row11_col8\" class=\"data row11 col8\" >-0.023590</td>\n",
              "                        <td id=\"T_b4b0ee42_9f82_11eb_b733_0242ac1c0002row11_col9\" class=\"data row11 col9\" >-0.049628</td>\n",
              "                        <td id=\"T_b4b0ee42_9f82_11eb_b733_0242ac1c0002row11_col10\" class=\"data row11 col10\" >0.060630</td>\n",
              "                        <td id=\"T_b4b0ee42_9f82_11eb_b733_0242ac1c0002row11_col11\" class=\"data row11 col11\" >1.000000</td>\n",
              "                        <td id=\"T_b4b0ee42_9f82_11eb_b733_0242ac1c0002row11_col12\" class=\"data row11 col12\" >-0.299953</td>\n",
              "                        <td id=\"T_b4b0ee42_9f82_11eb_b733_0242ac1c0002row11_col13\" class=\"data row11 col13\" >0.065812</td>\n",
              "                        <td id=\"T_b4b0ee42_9f82_11eb_b733_0242ac1c0002row11_col14\" class=\"data row11 col14\" >-0.003314</td>\n",
              "                        <td id=\"T_b4b0ee42_9f82_11eb_b733_0242ac1c0002row11_col15\" class=\"data row11 col15\" >0.006342</td>\n",
              "                        <td id=\"T_b4b0ee42_9f82_11eb_b733_0242ac1c0002row11_col16\" class=\"data row11 col16\" >0.074544</td>\n",
              "            </tr>\n",
              "            <tr>\n",
              "                        <th id=\"T_b4b0ee42_9f82_11eb_b733_0242ac1c0002level0_row12\" class=\"row_heading level0 row12\" >Unemployment</th>\n",
              "                        <td id=\"T_b4b0ee42_9f82_11eb_b733_0242ac1c0002row12_col0\" class=\"data row12 col0\" >0.208552</td>\n",
              "                        <td id=\"T_b4b0ee42_9f82_11eb_b733_0242ac1c0002row12_col1\" class=\"data row12 col1\" >0.007837</td>\n",
              "                        <td id=\"T_b4b0ee42_9f82_11eb_b733_0242ac1c0002row12_col2\" class=\"data row12 col2\" >-0.025864</td>\n",
              "                        <td id=\"T_b4b0ee42_9f82_11eb_b733_0242ac1c0002row12_col3\" class=\"data row12 col3\" >0.010656</td>\n",
              "                        <td id=\"T_b4b0ee42_9f82_11eb_b733_0242ac1c0002row12_col4\" class=\"data row12 col4\" >0.096730</td>\n",
              "                        <td id=\"T_b4b0ee42_9f82_11eb_b733_0242ac1c0002row12_col5\" class=\"data row12 col5\" >-0.033853</td>\n",
              "                        <td id=\"T_b4b0ee42_9f82_11eb_b733_0242ac1c0002row12_col6\" class=\"data row12 col6\" >0.050285</td>\n",
              "                        <td id=\"T_b4b0ee42_9f82_11eb_b733_0242ac1c0002row12_col7\" class=\"data row12 col7\" >0.020940</td>\n",
              "                        <td id=\"T_b4b0ee42_9f82_11eb_b733_0242ac1c0002row12_col8\" class=\"data row12 col8\" >0.012818</td>\n",
              "                        <td id=\"T_b4b0ee42_9f82_11eb_b733_0242ac1c0002row12_col9\" class=\"data row12 col9\" >0.024963</td>\n",
              "                        <td id=\"T_b4b0ee42_9f82_11eb_b733_0242ac1c0002row12_col10\" class=\"data row12 col10\" >-0.003843</td>\n",
              "                        <td id=\"T_b4b0ee42_9f82_11eb_b733_0242ac1c0002row12_col11\" class=\"data row12 col11\" >-0.299953</td>\n",
              "                        <td id=\"T_b4b0ee42_9f82_11eb_b733_0242ac1c0002row12_col12\" class=\"data row12 col12\" >1.000000</td>\n",
              "                        <td id=\"T_b4b0ee42_9f82_11eb_b733_0242ac1c0002row12_col13\" class=\"data row12 col13\" >-0.148720</td>\n",
              "                        <td id=\"T_b4b0ee42_9f82_11eb_b733_0242ac1c0002row12_col14\" class=\"data row12 col14\" >-0.068238</td>\n",
              "                        <td id=\"T_b4b0ee42_9f82_11eb_b733_0242ac1c0002row12_col15\" class=\"data row12 col15\" >-0.015490</td>\n",
              "                        <td id=\"T_b4b0ee42_9f82_11eb_b733_0242ac1c0002row12_col16\" class=\"data row12 col16\" >-0.237161</td>\n",
              "            </tr>\n",
              "            <tr>\n",
              "                        <th id=\"T_b4b0ee42_9f82_11eb_b733_0242ac1c0002level0_row13\" class=\"row_heading level0 row13\" >Type</th>\n",
              "                        <td id=\"T_b4b0ee42_9f82_11eb_b733_0242ac1c0002row13_col0\" class=\"data row13 col0\" >-0.226410</td>\n",
              "                        <td id=\"T_b4b0ee42_9f82_11eb_b733_0242ac1c0002row13_col1\" class=\"data row13 col1\" >-0.003708</td>\n",
              "                        <td id=\"T_b4b0ee42_9f82_11eb_b733_0242ac1c0002row13_col2\" class=\"data row13 col2\" >0.182242</td>\n",
              "                        <td id=\"T_b4b0ee42_9f82_11eb_b733_0242ac1c0002row13_col3\" class=\"data row13 col3\" >0.000580</td>\n",
              "                        <td id=\"T_b4b0ee42_9f82_11eb_b733_0242ac1c0002row13_col4\" class=\"data row13 col4\" >-0.042981</td>\n",
              "                        <td id=\"T_b4b0ee42_9f82_11eb_b733_0242ac1c0002row13_col5\" class=\"data row13 col5\" >-0.029687</td>\n",
              "                        <td id=\"T_b4b0ee42_9f82_11eb_b733_0242ac1c0002row13_col6\" class=\"data row13 col6\" >0.257427</td>\n",
              "                        <td id=\"T_b4b0ee42_9f82_11eb_b733_0242ac1c0002row13_col7\" class=\"data row13 col7\" >0.067034</td>\n",
              "                        <td id=\"T_b4b0ee42_9f82_11eb_b733_0242ac1c0002row13_col8\" class=\"data row13 col8\" >0.037560</td>\n",
              "                        <td id=\"T_b4b0ee42_9f82_11eb_b733_0242ac1c0002row13_col9\" class=\"data row13 col9\" >0.108991</td>\n",
              "                        <td id=\"T_b4b0ee42_9f82_11eb_b733_0242ac1c0002row13_col10\" class=\"data row13 col10\" >0.258835</td>\n",
              "                        <td id=\"T_b4b0ee42_9f82_11eb_b733_0242ac1c0002row13_col11\" class=\"data row13 col11\" >0.065812</td>\n",
              "                        <td id=\"T_b4b0ee42_9f82_11eb_b733_0242ac1c0002row13_col12\" class=\"data row13 col12\" >-0.148720</td>\n",
              "                        <td id=\"T_b4b0ee42_9f82_11eb_b733_0242ac1c0002row13_col13\" class=\"data row13 col13\" >1.000000</td>\n",
              "                        <td id=\"T_b4b0ee42_9f82_11eb_b733_0242ac1c0002row13_col14\" class=\"data row13 col14\" >0.811593</td>\n",
              "                        <td id=\"T_b4b0ee42_9f82_11eb_b733_0242ac1c0002row13_col15\" class=\"data row13 col15\" >0.000003</td>\n",
              "                        <td id=\"T_b4b0ee42_9f82_11eb_b733_0242ac1c0002row13_col16\" class=\"data row13 col16\" >-0.004208</td>\n",
              "            </tr>\n",
              "            <tr>\n",
              "                        <th id=\"T_b4b0ee42_9f82_11eb_b733_0242ac1c0002level0_row14\" class=\"row_heading level0 row14\" >Size</th>\n",
              "                        <td id=\"T_b4b0ee42_9f82_11eb_b733_0242ac1c0002row14_col0\" class=\"data row14 col0\" >-0.182881</td>\n",
              "                        <td id=\"T_b4b0ee42_9f82_11eb_b733_0242ac1c0002row14_col1\" class=\"data row14 col1\" >-0.002966</td>\n",
              "                        <td id=\"T_b4b0ee42_9f82_11eb_b733_0242ac1c0002row14_col2\" class=\"data row14 col2\" >0.243828</td>\n",
              "                        <td id=\"T_b4b0ee42_9f82_11eb_b733_0242ac1c0002row14_col3\" class=\"data row14 col3\" >0.000241</td>\n",
              "                        <td id=\"T_b4b0ee42_9f82_11eb_b733_0242ac1c0002row14_col4\" class=\"data row14 col4\" >-0.058313</td>\n",
              "                        <td id=\"T_b4b0ee42_9f82_11eb_b733_0242ac1c0002row14_col5\" class=\"data row14 col5\" >0.003361</td>\n",
              "                        <td id=\"T_b4b0ee42_9f82_11eb_b733_0242ac1c0002row14_col6\" class=\"data row14 col6\" >0.345673</td>\n",
              "                        <td id=\"T_b4b0ee42_9f82_11eb_b733_0242ac1c0002row14_col7\" class=\"data row14 col7\" >0.108827</td>\n",
              "                        <td id=\"T_b4b0ee42_9f82_11eb_b733_0242ac1c0002row14_col8\" class=\"data row14 col8\" >0.048913</td>\n",
              "                        <td id=\"T_b4b0ee42_9f82_11eb_b733_0242ac1c0002row14_col9\" class=\"data row14 col9\" >0.168196</td>\n",
              "                        <td id=\"T_b4b0ee42_9f82_11eb_b733_0242ac1c0002row14_col10\" class=\"data row14 col10\" >0.304575</td>\n",
              "                        <td id=\"T_b4b0ee42_9f82_11eb_b733_0242ac1c0002row14_col11\" class=\"data row14 col11\" >-0.003314</td>\n",
              "                        <td id=\"T_b4b0ee42_9f82_11eb_b733_0242ac1c0002row14_col12\" class=\"data row14 col12\" >-0.068238</td>\n",
              "                        <td id=\"T_b4b0ee42_9f82_11eb_b733_0242ac1c0002row14_col13\" class=\"data row14 col13\" >0.811593</td>\n",
              "                        <td id=\"T_b4b0ee42_9f82_11eb_b733_0242ac1c0002row14_col14\" class=\"data row14 col14\" >1.000000</td>\n",
              "                        <td id=\"T_b4b0ee42_9f82_11eb_b733_0242ac1c0002row14_col15\" class=\"data row14 col15\" >-0.001292</td>\n",
              "                        <td id=\"T_b4b0ee42_9f82_11eb_b733_0242ac1c0002row14_col16\" class=\"data row14 col16\" >-0.004975</td>\n",
              "            </tr>\n",
              "            <tr>\n",
              "                        <th id=\"T_b4b0ee42_9f82_11eb_b733_0242ac1c0002level0_row15\" class=\"row_heading level0 row15\" >Week</th>\n",
              "                        <td id=\"T_b4b0ee42_9f82_11eb_b733_0242ac1c0002row15_col0\" class=\"data row15 col0\" >0.001031</td>\n",
              "                        <td id=\"T_b4b0ee42_9f82_11eb_b733_0242ac1c0002row15_col1\" class=\"data row15 col1\" >0.000882</td>\n",
              "                        <td id=\"T_b4b0ee42_9f82_11eb_b733_0242ac1c0002row15_col2\" class=\"data row15 col2\" >0.027673</td>\n",
              "                        <td id=\"T_b4b0ee42_9f82_11eb_b733_0242ac1c0002row15_col3\" class=\"data row15 col3\" >0.256332</td>\n",
              "                        <td id=\"T_b4b0ee42_9f82_11eb_b733_0242ac1c0002row15_col4\" class=\"data row15 col4\" >0.236276</td>\n",
              "                        <td id=\"T_b4b0ee42_9f82_11eb_b733_0242ac1c0002row15_col5\" class=\"data row15 col5\" >-0.031140</td>\n",
              "                        <td id=\"T_b4b0ee42_9f82_11eb_b733_0242ac1c0002row15_col6\" class=\"data row15 col6\" >-0.198076</td>\n",
              "                        <td id=\"T_b4b0ee42_9f82_11eb_b733_0242ac1c0002row15_col7\" class=\"data row15 col7\" >-0.000995</td>\n",
              "                        <td id=\"T_b4b0ee42_9f82_11eb_b733_0242ac1c0002row15_col8\" class=\"data row15 col8\" >0.196307</td>\n",
              "                        <td id=\"T_b4b0ee42_9f82_11eb_b733_0242ac1c0002row15_col9\" class=\"data row15 col9\" >-0.218477</td>\n",
              "                        <td id=\"T_b4b0ee42_9f82_11eb_b733_0242ac1c0002row15_col10\" class=\"data row15 col10\" >0.084874</td>\n",
              "                        <td id=\"T_b4b0ee42_9f82_11eb_b733_0242ac1c0002row15_col11\" class=\"data row15 col11\" >0.006342</td>\n",
              "                        <td id=\"T_b4b0ee42_9f82_11eb_b733_0242ac1c0002row15_col12\" class=\"data row15 col12\" >-0.015490</td>\n",
              "                        <td id=\"T_b4b0ee42_9f82_11eb_b733_0242ac1c0002row15_col13\" class=\"data row15 col13\" >0.000003</td>\n",
              "                        <td id=\"T_b4b0ee42_9f82_11eb_b733_0242ac1c0002row15_col14\" class=\"data row15 col14\" >-0.001292</td>\n",
              "                        <td id=\"T_b4b0ee42_9f82_11eb_b733_0242ac1c0002row15_col15\" class=\"data row15 col15\" >1.000000</td>\n",
              "                        <td id=\"T_b4b0ee42_9f82_11eb_b733_0242ac1c0002row15_col16\" class=\"data row15 col16\" >-0.181797</td>\n",
              "            </tr>\n",
              "            <tr>\n",
              "                        <th id=\"T_b4b0ee42_9f82_11eb_b733_0242ac1c0002level0_row16\" class=\"row_heading level0 row16\" >Year</th>\n",
              "                        <td id=\"T_b4b0ee42_9f82_11eb_b733_0242ac1c0002row16_col0\" class=\"data row16 col0\" >0.002997</td>\n",
              "                        <td id=\"T_b4b0ee42_9f82_11eb_b733_0242ac1c0002row16_col1\" class=\"data row16 col1\" >0.003738</td>\n",
              "                        <td id=\"T_b4b0ee42_9f82_11eb_b733_0242ac1c0002row16_col2\" class=\"data row16 col2\" >-0.010111</td>\n",
              "                        <td id=\"T_b4b0ee42_9f82_11eb_b733_0242ac1c0002row16_col3\" class=\"data row16 col3\" >-0.083070</td>\n",
              "                        <td id=\"T_b4b0ee42_9f82_11eb_b733_0242ac1c0002row16_col4\" class=\"data row16 col4\" >0.065814</td>\n",
              "                        <td id=\"T_b4b0ee42_9f82_11eb_b733_0242ac1c0002row16_col5\" class=\"data row16 col5\" >0.779633</td>\n",
              "                        <td id=\"T_b4b0ee42_9f82_11eb_b733_0242ac1c0002row16_col6\" class=\"data row16 col6\" >0.141332</td>\n",
              "                        <td id=\"T_b4b0ee42_9f82_11eb_b733_0242ac1c0002row16_col7\" class=\"data row16 col7\" >-0.222109</td>\n",
              "                        <td id=\"T_b4b0ee42_9f82_11eb_b733_0242ac1c0002row16_col8\" class=\"data row16 col8\" >-0.319162</td>\n",
              "                        <td id=\"T_b4b0ee42_9f82_11eb_b733_0242ac1c0002row16_col9\" class=\"data row16 col9\" >0.126469</td>\n",
              "                        <td id=\"T_b4b0ee42_9f82_11eb_b733_0242ac1c0002row16_col10\" class=\"data row16 col10\" >-0.128387</td>\n",
              "                        <td id=\"T_b4b0ee42_9f82_11eb_b733_0242ac1c0002row16_col11\" class=\"data row16 col11\" >0.074544</td>\n",
              "                        <td id=\"T_b4b0ee42_9f82_11eb_b733_0242ac1c0002row16_col12\" class=\"data row16 col12\" >-0.237161</td>\n",
              "                        <td id=\"T_b4b0ee42_9f82_11eb_b733_0242ac1c0002row16_col13\" class=\"data row16 col13\" >-0.004208</td>\n",
              "                        <td id=\"T_b4b0ee42_9f82_11eb_b733_0242ac1c0002row16_col14\" class=\"data row16 col14\" >-0.004975</td>\n",
              "                        <td id=\"T_b4b0ee42_9f82_11eb_b733_0242ac1c0002row16_col15\" class=\"data row16 col15\" >-0.181797</td>\n",
              "                        <td id=\"T_b4b0ee42_9f82_11eb_b733_0242ac1c0002row16_col16\" class=\"data row16 col16\" >1.000000</td>\n",
              "            </tr>\n",
              "    </tbody></table>"
            ],
            "text/plain": [
              "<pandas.io.formats.style.Styler at 0x7f76f4370610>"
            ]
          },
          "metadata": {
            "tags": []
          },
          "execution_count": 89
        }
      ]
    },
    {
      "cell_type": "markdown",
      "metadata": {
        "id": "WImeDIxV6wir"
      },
      "source": [
        "We can observe the following correlations in the above matrix:\n",
        "1. Fuel_Price with Year - Strong correlation\n",
        "2. MarkDown2 and MarkDown3 with  IsHoliday - Moderate correlations\n",
        "3. MarkDown1 with MarkDown4 - Strong correlation\n",
        "4. Type with Size - Strong correlation\n",
        "\n",
        "We can see that Weekly Sales has a weak correlation with other features and it has highest correlation with Dept, Type and Size.\n",
        "\n",
        "But we have already established that MarkDown 1 to 5 columns have more than missing values present so we are not looking at the relationships between them.\n",
        "\n",
        "We shall be performing Multivariate Imputation for the following reasons:\n",
        "1. A considerable amount of data is missing from multiple variables.\n",
        "2. Features are not highly correlated and missing data is most probably not MCAR, so univariate imputation was ruled out."
      ]
    },
    {
      "cell_type": "code",
      "metadata": {
        "id": "HlKnuAtk9fpm",
        "colab": {
          "base_uri": "https://localhost:8080/"
        },
        "outputId": "6b3acef5-419d-4576-f24d-9b9bb968f474"
      },
      "source": [
        "#multivariate imputation of training data\n",
        "from sklearn.experimental import enable_iterative_imputer\n",
        "from sklearn.impute import IterativeImputer\n",
        "\n",
        "df_y = train.copy(deep=True)\n",
        "df_y['Date'] = pd.to_numeric(pd.to_datetime(df_y['Date']))\n",
        "\n",
        "imp = IterativeImputer(max_iter=100, sample_posterior=True,tol=0.000001)\n",
        "imp.fit(df_y)\n",
        "\n",
        "y_res=imp.transform(df_y)\n",
        "\n",
        "print(y_res)"
      ],
      "execution_count": null,
      "outputs": [
        {
          "output_type": "stream",
          "text": [
            "[[1.0000000e+00 1.0000000e+00 1.2653280e+18 ... 5.0000000e+00\n",
            "  2.0000000e+00 2.0100000e+03]\n",
            " [1.0000000e+00 2.0000000e+00 1.2653280e+18 ... 5.0000000e+00\n",
            "  2.0000000e+00 2.0100000e+03]\n",
            " [1.0000000e+00 3.0000000e+00 1.2653280e+18 ... 5.0000000e+00\n",
            "  2.0000000e+00 2.0100000e+03]\n",
            " ...\n",
            " [4.5000000e+01 9.5000000e+01 1.3512096e+18 ... 4.3000000e+01\n",
            "  1.0000000e+01 2.0120000e+03]\n",
            " [4.5000000e+01 9.7000000e+01 1.3512096e+18 ... 4.3000000e+01\n",
            "  1.0000000e+01 2.0120000e+03]\n",
            " [4.5000000e+01 9.8000000e+01 1.3512096e+18 ... 4.3000000e+01\n",
            "  1.0000000e+01 2.0120000e+03]]\n"
          ],
          "name": "stdout"
        }
      ]
    },
    {
      "cell_type": "code",
      "metadata": {
        "id": "Zg-1W519BSNQ"
      },
      "source": [
        "#write the imputed dataframe to csv\n",
        "import os\n",
        "os.chdir('/content/drive/MyDrive/Assignment_DM')\n",
        "#features_modified = pd.read_csv('/content/drive/My Drive/Assignment_DM/train_modified.csv', sep=',')\n",
        "features_modified = pd.DataFrame(y_res,columns=['Store', 'Dept', 'Date', 'Weekly_Sales', 'IsHoliday', 'Temperature', 'Fuel_Price', 'MarkDown1', 'MarkDown2', 'MarkDown3', 'MarkDown4', 'MarkDown5', 'CPI', 'Unemployment', 'Type', 'Size', 'Week', 'Month', 'Year'])\n",
        "# features_modified[2] = pd.to_datetime(features_modified[2])\n",
        "features_modified['Date'] = pd.to_datetime(features_modified['Date'])\n",
        "features_modified.to_csv('train_modified.csv', index = False, header = ['Store', 'Dept', 'Date', 'Weekly_Sales', 'IsHoliday', 'Temperature', 'Fuel_Price', 'MarkDown1', 'MarkDown2', 'MarkDown3', 'MarkDown4', 'MarkDown5', 'CPI', 'Unemployment', 'Type', 'Size', 'Week', 'Month', 'Year'])"
      ],
      "execution_count": null,
      "outputs": []
    },
    {
      "cell_type": "code",
      "metadata": {
        "colab": {
          "base_uri": "https://localhost:8080/",
          "height": 309
        },
        "id": "-FJhTXguP-Iw",
        "outputId": "8b0d0895-c370-4cfe-e6a2-350a1cd056cc"
      },
      "source": [
        "# features_modified[2] = pd.to_datetime(features_modified[2])\n",
        "features_modified['Date'] = pd.to_datetime(features_modified['Date'])\n",
        "features_modified.head()"
      ],
      "execution_count": null,
      "outputs": [
        {
          "output_type": "execute_result",
          "data": {
            "text/html": [
              "<div>\n",
              "<style scoped>\n",
              "    .dataframe tbody tr th:only-of-type {\n",
              "        vertical-align: middle;\n",
              "    }\n",
              "\n",
              "    .dataframe tbody tr th {\n",
              "        vertical-align: top;\n",
              "    }\n",
              "\n",
              "    .dataframe thead th {\n",
              "        text-align: right;\n",
              "    }\n",
              "</style>\n",
              "<table border=\"1\" class=\"dataframe\">\n",
              "  <thead>\n",
              "    <tr style=\"text-align: right;\">\n",
              "      <th></th>\n",
              "      <th>Store</th>\n",
              "      <th>Dept</th>\n",
              "      <th>Date</th>\n",
              "      <th>Weekly_Sales</th>\n",
              "      <th>IsHoliday</th>\n",
              "      <th>Temperature</th>\n",
              "      <th>Fuel_Price</th>\n",
              "      <th>MarkDown1</th>\n",
              "      <th>MarkDown2</th>\n",
              "      <th>MarkDown3</th>\n",
              "      <th>MarkDown4</th>\n",
              "      <th>MarkDown5</th>\n",
              "      <th>CPI</th>\n",
              "      <th>Unemployment</th>\n",
              "      <th>Type</th>\n",
              "      <th>Size</th>\n",
              "      <th>Week</th>\n",
              "      <th>Month</th>\n",
              "      <th>Year</th>\n",
              "    </tr>\n",
              "  </thead>\n",
              "  <tbody>\n",
              "    <tr>\n",
              "      <th>0</th>\n",
              "      <td>1.0</td>\n",
              "      <td>1.0</td>\n",
              "      <td>2010-02-05</td>\n",
              "      <td>24924.50</td>\n",
              "      <td>0.0</td>\n",
              "      <td>42.31</td>\n",
              "      <td>2.572</td>\n",
              "      <td>-3.779052e+04</td>\n",
              "      <td>1.548470e+06</td>\n",
              "      <td>2.860881e+06</td>\n",
              "      <td>9.726897e+05</td>\n",
              "      <td>-8.048164e+05</td>\n",
              "      <td>211.096358</td>\n",
              "      <td>8.106</td>\n",
              "      <td>3.0</td>\n",
              "      <td>151315.0</td>\n",
              "      <td>5.0</td>\n",
              "      <td>2.0</td>\n",
              "      <td>2010.0</td>\n",
              "    </tr>\n",
              "    <tr>\n",
              "      <th>1</th>\n",
              "      <td>1.0</td>\n",
              "      <td>2.0</td>\n",
              "      <td>2010-02-05</td>\n",
              "      <td>50605.27</td>\n",
              "      <td>0.0</td>\n",
              "      <td>42.31</td>\n",
              "      <td>2.572</td>\n",
              "      <td>-1.171117e+06</td>\n",
              "      <td>-1.289255e+06</td>\n",
              "      <td>-6.664306e+05</td>\n",
              "      <td>6.771782e+05</td>\n",
              "      <td>2.900822e+06</td>\n",
              "      <td>211.096358</td>\n",
              "      <td>8.106</td>\n",
              "      <td>3.0</td>\n",
              "      <td>151315.0</td>\n",
              "      <td>5.0</td>\n",
              "      <td>2.0</td>\n",
              "      <td>2010.0</td>\n",
              "    </tr>\n",
              "    <tr>\n",
              "      <th>2</th>\n",
              "      <td>1.0</td>\n",
              "      <td>3.0</td>\n",
              "      <td>2010-02-05</td>\n",
              "      <td>13740.12</td>\n",
              "      <td>0.0</td>\n",
              "      <td>42.31</td>\n",
              "      <td>2.572</td>\n",
              "      <td>5.165332e+06</td>\n",
              "      <td>-1.144698e+06</td>\n",
              "      <td>-1.033715e+06</td>\n",
              "      <td>1.664580e+06</td>\n",
              "      <td>-1.823560e+06</td>\n",
              "      <td>211.096358</td>\n",
              "      <td>8.106</td>\n",
              "      <td>3.0</td>\n",
              "      <td>151315.0</td>\n",
              "      <td>5.0</td>\n",
              "      <td>2.0</td>\n",
              "      <td>2010.0</td>\n",
              "    </tr>\n",
              "    <tr>\n",
              "      <th>3</th>\n",
              "      <td>1.0</td>\n",
              "      <td>4.0</td>\n",
              "      <td>2010-02-05</td>\n",
              "      <td>39954.04</td>\n",
              "      <td>0.0</td>\n",
              "      <td>42.31</td>\n",
              "      <td>2.572</td>\n",
              "      <td>1.782528e+06</td>\n",
              "      <td>-3.304684e+06</td>\n",
              "      <td>1.429181e+06</td>\n",
              "      <td>4.357675e+06</td>\n",
              "      <td>1.335146e+06</td>\n",
              "      <td>211.096358</td>\n",
              "      <td>8.106</td>\n",
              "      <td>3.0</td>\n",
              "      <td>151315.0</td>\n",
              "      <td>5.0</td>\n",
              "      <td>2.0</td>\n",
              "      <td>2010.0</td>\n",
              "    </tr>\n",
              "    <tr>\n",
              "      <th>4</th>\n",
              "      <td>1.0</td>\n",
              "      <td>5.0</td>\n",
              "      <td>2010-02-05</td>\n",
              "      <td>32229.38</td>\n",
              "      <td>0.0</td>\n",
              "      <td>42.31</td>\n",
              "      <td>2.572</td>\n",
              "      <td>-2.628623e+06</td>\n",
              "      <td>2.212122e+06</td>\n",
              "      <td>8.136702e+06</td>\n",
              "      <td>-5.625980e+06</td>\n",
              "      <td>2.117590e+06</td>\n",
              "      <td>211.096358</td>\n",
              "      <td>8.106</td>\n",
              "      <td>3.0</td>\n",
              "      <td>151315.0</td>\n",
              "      <td>5.0</td>\n",
              "      <td>2.0</td>\n",
              "      <td>2010.0</td>\n",
              "    </tr>\n",
              "  </tbody>\n",
              "</table>\n",
              "</div>"
            ],
            "text/plain": [
              "   Store  Dept       Date  Weekly_Sales  ...      Size  Week  Month    Year\n",
              "0    1.0   1.0 2010-02-05      24924.50  ...  151315.0   5.0    2.0  2010.0\n",
              "1    1.0   2.0 2010-02-05      50605.27  ...  151315.0   5.0    2.0  2010.0\n",
              "2    1.0   3.0 2010-02-05      13740.12  ...  151315.0   5.0    2.0  2010.0\n",
              "3    1.0   4.0 2010-02-05      39954.04  ...  151315.0   5.0    2.0  2010.0\n",
              "4    1.0   5.0 2010-02-05      32229.38  ...  151315.0   5.0    2.0  2010.0\n",
              "\n",
              "[5 rows x 19 columns]"
            ]
          },
          "metadata": {
            "tags": []
          },
          "execution_count": 93
        }
      ]
    },
    {
      "cell_type": "markdown",
      "metadata": {
        "id": "9lkbm3nICdUB"
      },
      "source": [
        "Similarly, we shall impute the test data using Multivariate Imputation so that we can predict values based on a model that we design upon the training data that we imputed above."
      ]
    },
    {
      "cell_type": "code",
      "metadata": {
        "id": "uWo7rFxYFIZq",
        "colab": {
          "base_uri": "https://localhost:8080/"
        },
        "outputId": "9c0068ba-f8a1-4b3b-bb7b-700f0bfdce3d"
      },
      "source": [
        "df_test = test.copy(deep=True)\n",
        "df_test['Date'] = pd.to_numeric(pd.to_datetime(df_test['Date']))\n",
        "\n",
        "imp = IterativeImputer(max_iter=100, sample_posterior=True,tol=0.000001)\n",
        "imp.fit(df_test)\n",
        "\n",
        "y_imp=imp.transform(df_test)\n",
        "\n",
        "print(y_imp)"
      ],
      "execution_count": null,
      "outputs": [
        {
          "output_type": "stream",
          "text": [
            "[[1.0000000e+00 1.0000000e+00 1.3518144e+18 ... 4.4000000e+01\n",
            "  1.1000000e+01 2.0120000e+03]\n",
            " [1.0000000e+00 2.0000000e+00 1.3518144e+18 ... 4.4000000e+01\n",
            "  1.1000000e+01 2.0120000e+03]\n",
            " [1.0000000e+00 3.0000000e+00 1.3518144e+18 ... 4.4000000e+01\n",
            "  1.1000000e+01 2.0120000e+03]\n",
            " ...\n",
            " [4.5000000e+01 9.5000000e+01 1.3747968e+18 ... 3.0000000e+01\n",
            "  7.0000000e+00 2.0130000e+03]\n",
            " [4.5000000e+01 9.7000000e+01 1.3747968e+18 ... 3.0000000e+01\n",
            "  7.0000000e+00 2.0130000e+03]\n",
            " [4.5000000e+01 9.8000000e+01 1.3747968e+18 ... 3.0000000e+01\n",
            "  7.0000000e+00 2.0130000e+03]]\n"
          ],
          "name": "stdout"
        }
      ]
    },
    {
      "cell_type": "code",
      "metadata": {
        "colab": {
          "base_uri": "https://localhost:8080/",
          "height": 309
        },
        "id": "YPnBhHhsGLRZ",
        "outputId": "fecaf132-f711-46fd-8f94-2fd00407cab4"
      },
      "source": [
        "#write the imputed dataframe to csv\n",
        "import os\n",
        "os.chdir('/content/drive/MyDrive/Assignment_DM')\n",
        "#test_modified = pd.read_csv('/content/drive/My Drive/Assignment_DM/test_modified.csv', sep=',')\n",
        "test_modified = pd.DataFrame(y_imp,columns=['Store', 'Dept', 'Date', 'IsHoliday', 'Temperature', 'Fuel_Price', 'MarkDown1', 'MarkDown2', 'MarkDown3', 'MarkDown4', 'MarkDown5', 'CPI', 'Unemployment', 'Type', 'Size', 'Week', 'Month', 'Year'])\n",
        "\n",
        "test_modified['Date'] = pd.to_datetime(test_modified['Date'])\n",
        "test_modified.to_csv('test_modified.csv', index = False, header = ['Store', 'Dept', 'Date', 'IsHoliday', 'Temperature', 'Fuel_Price', 'MarkDown1', 'MarkDown2', 'MarkDown3', 'MarkDown4', 'MarkDown5', 'CPI', 'Unemployment', 'Type', 'Size', 'Week', 'Month', 'Year'])\n",
        "\n",
        "test_modified['Date'] = pd.to_datetime(test_modified['Date'])\n",
        "test_modified.head()"
      ],
      "execution_count": null,
      "outputs": [
        {
          "output_type": "execute_result",
          "data": {
            "text/html": [
              "<div>\n",
              "<style scoped>\n",
              "    .dataframe tbody tr th:only-of-type {\n",
              "        vertical-align: middle;\n",
              "    }\n",
              "\n",
              "    .dataframe tbody tr th {\n",
              "        vertical-align: top;\n",
              "    }\n",
              "\n",
              "    .dataframe thead th {\n",
              "        text-align: right;\n",
              "    }\n",
              "</style>\n",
              "<table border=\"1\" class=\"dataframe\">\n",
              "  <thead>\n",
              "    <tr style=\"text-align: right;\">\n",
              "      <th></th>\n",
              "      <th>Store</th>\n",
              "      <th>Dept</th>\n",
              "      <th>Date</th>\n",
              "      <th>IsHoliday</th>\n",
              "      <th>Temperature</th>\n",
              "      <th>Fuel_Price</th>\n",
              "      <th>MarkDown1</th>\n",
              "      <th>MarkDown2</th>\n",
              "      <th>MarkDown3</th>\n",
              "      <th>MarkDown4</th>\n",
              "      <th>MarkDown5</th>\n",
              "      <th>CPI</th>\n",
              "      <th>Unemployment</th>\n",
              "      <th>Type</th>\n",
              "      <th>Size</th>\n",
              "      <th>Week</th>\n",
              "      <th>Month</th>\n",
              "      <th>Year</th>\n",
              "    </tr>\n",
              "  </thead>\n",
              "  <tbody>\n",
              "    <tr>\n",
              "      <th>0</th>\n",
              "      <td>1.0</td>\n",
              "      <td>1.0</td>\n",
              "      <td>2012-11-02</td>\n",
              "      <td>0.0</td>\n",
              "      <td>55.32</td>\n",
              "      <td>3.386</td>\n",
              "      <td>6766.44</td>\n",
              "      <td>5147.7</td>\n",
              "      <td>50.82</td>\n",
              "      <td>3639.9</td>\n",
              "      <td>2737.42</td>\n",
              "      <td>223.462779</td>\n",
              "      <td>6.573</td>\n",
              "      <td>3.0</td>\n",
              "      <td>151315.0</td>\n",
              "      <td>44.0</td>\n",
              "      <td>11.0</td>\n",
              "      <td>2012.0</td>\n",
              "    </tr>\n",
              "    <tr>\n",
              "      <th>1</th>\n",
              "      <td>1.0</td>\n",
              "      <td>2.0</td>\n",
              "      <td>2012-11-02</td>\n",
              "      <td>0.0</td>\n",
              "      <td>55.32</td>\n",
              "      <td>3.386</td>\n",
              "      <td>6766.44</td>\n",
              "      <td>5147.7</td>\n",
              "      <td>50.82</td>\n",
              "      <td>3639.9</td>\n",
              "      <td>2737.42</td>\n",
              "      <td>223.462779</td>\n",
              "      <td>6.573</td>\n",
              "      <td>3.0</td>\n",
              "      <td>151315.0</td>\n",
              "      <td>44.0</td>\n",
              "      <td>11.0</td>\n",
              "      <td>2012.0</td>\n",
              "    </tr>\n",
              "    <tr>\n",
              "      <th>2</th>\n",
              "      <td>1.0</td>\n",
              "      <td>3.0</td>\n",
              "      <td>2012-11-02</td>\n",
              "      <td>0.0</td>\n",
              "      <td>55.32</td>\n",
              "      <td>3.386</td>\n",
              "      <td>6766.44</td>\n",
              "      <td>5147.7</td>\n",
              "      <td>50.82</td>\n",
              "      <td>3639.9</td>\n",
              "      <td>2737.42</td>\n",
              "      <td>223.462779</td>\n",
              "      <td>6.573</td>\n",
              "      <td>3.0</td>\n",
              "      <td>151315.0</td>\n",
              "      <td>44.0</td>\n",
              "      <td>11.0</td>\n",
              "      <td>2012.0</td>\n",
              "    </tr>\n",
              "    <tr>\n",
              "      <th>3</th>\n",
              "      <td>1.0</td>\n",
              "      <td>4.0</td>\n",
              "      <td>2012-11-02</td>\n",
              "      <td>0.0</td>\n",
              "      <td>55.32</td>\n",
              "      <td>3.386</td>\n",
              "      <td>6766.44</td>\n",
              "      <td>5147.7</td>\n",
              "      <td>50.82</td>\n",
              "      <td>3639.9</td>\n",
              "      <td>2737.42</td>\n",
              "      <td>223.462779</td>\n",
              "      <td>6.573</td>\n",
              "      <td>3.0</td>\n",
              "      <td>151315.0</td>\n",
              "      <td>44.0</td>\n",
              "      <td>11.0</td>\n",
              "      <td>2012.0</td>\n",
              "    </tr>\n",
              "    <tr>\n",
              "      <th>4</th>\n",
              "      <td>1.0</td>\n",
              "      <td>5.0</td>\n",
              "      <td>2012-11-02</td>\n",
              "      <td>0.0</td>\n",
              "      <td>55.32</td>\n",
              "      <td>3.386</td>\n",
              "      <td>6766.44</td>\n",
              "      <td>5147.7</td>\n",
              "      <td>50.82</td>\n",
              "      <td>3639.9</td>\n",
              "      <td>2737.42</td>\n",
              "      <td>223.462779</td>\n",
              "      <td>6.573</td>\n",
              "      <td>3.0</td>\n",
              "      <td>151315.0</td>\n",
              "      <td>44.0</td>\n",
              "      <td>11.0</td>\n",
              "      <td>2012.0</td>\n",
              "    </tr>\n",
              "  </tbody>\n",
              "</table>\n",
              "</div>"
            ],
            "text/plain": [
              "   Store  Dept       Date  IsHoliday  ...      Size  Week  Month    Year\n",
              "0    1.0   1.0 2012-11-02        0.0  ...  151315.0  44.0   11.0  2012.0\n",
              "1    1.0   2.0 2012-11-02        0.0  ...  151315.0  44.0   11.0  2012.0\n",
              "2    1.0   3.0 2012-11-02        0.0  ...  151315.0  44.0   11.0  2012.0\n",
              "3    1.0   4.0 2012-11-02        0.0  ...  151315.0  44.0   11.0  2012.0\n",
              "4    1.0   5.0 2012-11-02        0.0  ...  151315.0  44.0   11.0  2012.0\n",
              "\n",
              "[5 rows x 18 columns]"
            ]
          },
          "metadata": {
            "tags": []
          },
          "execution_count": 136
        }
      ]
    },
    {
      "cell_type": "code",
      "metadata": {
        "id": "tIfrNEc6zY27"
      },
      "source": [
        "# plt.style.use(\"seaborn-colorblind\")\n",
        "# plt.figure(figsize = (20,10))\n",
        "\n",
        "# plt.xlim = (features_modified.index[0], features_modified.index[-1])\n",
        "# plt.ylim = ((features_modified['Weekly_Sales'].min()-1))\n",
        "# # features_modified.plot(x='Date', y='Weekly_Sales')\n",
        "# x = features_modified['Date']\n",
        "# y = features_modified['Weekly_Sales']\n",
        "# plt.plot(x, y, linewidth = '2')\n",
        "# # plt.gcf().autofmt_xdate()\n",
        "# # plt.plot(features_modified['Weekly_Sales'], data=features_modified, linewidth = 2)\n",
        "\n",
        "# plt.show()"
      ],
      "execution_count": null,
      "outputs": []
    },
    {
      "cell_type": "markdown",
      "metadata": {
        "id": "8bfVySQkiHJo"
      },
      "source": [
        "Lets see how each of the features in our dataset varies with time"
      ]
    },
    {
      "cell_type": "code",
      "metadata": {
        "colab": {
          "base_uri": "https://localhost:8080/",
          "height": 817
        },
        "id": "dvQFRsgnh7-P",
        "outputId": "fe8e3f84-a2b1-4deb-a629-74b41367723a"
      },
      "source": [
        "features_modified[['Date', 'Temperature', 'Fuel_Price', 'CPI', 'Unemployment', 'MarkDown1', 'MarkDown2', 'MarkDown3', 'MarkDown4', 'MarkDown5']].plot(x='Date', subplots=True, figsize=(20,15))\n",
        "\n",
        "plt.show()"
      ],
      "execution_count": null,
      "outputs": [
        {
          "output_type": "display_data",
          "data": {
            "image/png": "[encoded data removed]",
            "text/plain": [
              "<Figure size 1440x1080 with 9 Axes>"
            ]
          },
          "metadata": {
            "tags": [],
            "needs_background": "light"
          }
        }
      ]
    },
    {
      "cell_type": "markdown",
      "metadata": {
        "id": "dbYS7uhZFdI7"
      },
      "source": [
        "Plotting details for Store and weekly sales here..."
      ]
    },
    {
      "cell_type": "code",
      "metadata": {
        "colab": {
          "base_uri": "https://localhost:8080/",
          "height": 488
        },
        "id": "3gr6bOsXDKGr",
        "outputId": "1d037989-15a4-4ac8-d129-30ff32a9b49d"
      },
      "source": [
        "stores_data = features_modified.groupby(['Store']).agg({'Weekly_Sales': ['mean']})\n",
        "\n",
        "plt.figure(figsize=(25, 10))\n",
        "plt.bar(stores_data.index,stores_data['Weekly_Sales']['mean'])\n",
        "\n",
        "plt.xticks(np.arange(1, 46, step=1))\n",
        "\n",
        "plt.ylabel('Weekly Sales', fontsize=18)\n",
        "plt.xlabel('Store ID', fontsize=18)\n",
        "\n",
        "plt.show()"
      ],
      "execution_count": null,
      "outputs": [
        {
          "output_type": "display_data",
          "data": {
            "image/png": "[encoded data removed]",
            "text/plain": [
              "<Figure size 1800x720 with 1 Axes>"
            ]
          },
          "metadata": {
            "tags": [],
            "needs_background": "light"
          }
        }
      ]
    },
    {
      "cell_type": "markdown",
      "metadata": {
        "id": "6J9dGajiGwBw"
      },
      "source": [
        "Plotting details for Department wise weekly sales...."
      ]
    },
    {
      "cell_type": "code",
      "metadata": {
        "colab": {
          "base_uri": "https://localhost:8080/",
          "height": 488
        },
        "id": "siHtrwzhFgnz",
        "outputId": "2c5a5aaf-8fde-4edc-d396-55180a2784b1"
      },
      "source": [
        "dep_data = features_modified.groupby(['Dept']).agg({'Weekly_Sales': ['mean', 'median']})\n",
        "\n",
        "plt.figure(figsize=(25, 10))\n",
        "plt.bar(dep_data.index,dep_data['Weekly_Sales']['mean'])\n",
        "\n",
        "plt.xticks(np.arange(1, 100, step=2))\n",
        "\n",
        "plt.ylabel('Weekly Sales', fontsize=18)\n",
        "plt.xlabel('Departament ID', fontsize=18)\n",
        "\n",
        "plt.show()"
      ],
      "execution_count": null,
      "outputs": [
        {
          "output_type": "display_data",
          "data": {
            "image/png": "[encoded data removed]",
            "text/plain": [
              "<Figure size 1800x720 with 1 Axes>"
            ]
          },
          "metadata": {
            "tags": [],
            "needs_background": "light"
          }
        }
      ]
    },
    {
      "cell_type": "markdown",
      "metadata": {
        "id": "s83S1HL6NiXV"
      },
      "source": [
        "Plotting details of Type and Weekly Sales...."
      ]
    },
    {
      "cell_type": "code",
      "metadata": {
        "id": "lWw6gi-aGZXX",
        "colab": {
          "base_uri": "https://localhost:8080/",
          "height": 285
        },
        "outputId": "8b1b7da5-9be3-43a1-8820-21eb1ae9e9c8"
      },
      "source": [
        "# plt.figure(figsize=(25, 10))\n",
        "# plt.boxplot(x = features_modified['Type'], y = features_modified['Weekly_Sales'])\n",
        "sns.set_theme(style=\"whitegrid\")\n",
        "# data = sns.load_dataset(\"features_modified\")\n",
        "# ax = sns.boxplot(x=\"Type\", y=\"Weekly_Sales\", data=features_modified)\n",
        "ax = sns.boxplot(x=\"Weekly_Sales\", y=\"Type\", data=features_modified, orient=\"h\")\n"
      ],
      "execution_count": null,
      "outputs": [
        {
          "output_type": "display_data",
          "data": {
            "image/png": "[encoded data removed]",
            "text/plain": [
              "<Figure size 432x288 with 1 Axes>"
            ]
          },
          "metadata": {
            "tags": []
          }
        }
      ]
    },
    {
      "cell_type": "markdown",
      "metadata": {
        "id": "JErfzMG42n_-"
      },
      "source": [
        "The weekly sales data are grouped by week and year in order to identify the average and median sales per week over the years. <br>\n",
        "The mean values are well above the median, which indicates a high dispersion and variation in sales by stores and departments in a week.<br>\n",
        "There is a certain pattern over the years, with high seasonality at the end of the year which can be seen in the graph below."
      ]
    },
    {
      "cell_type": "code",
      "metadata": {
        "colab": {
          "base_uri": "https://localhost:8080/",
          "height": 352
        },
        "id": "CqxKoEU11bex",
        "outputId": "683c166d-9a3f-4495-c195-b86035d443eb"
      },
      "source": [
        "weekly_sales = features_modified.groupby(['Year','Week']).agg({'Weekly_Sales': ['mean', 'median']})\n",
        "weekly_sales2010 = features_modified.loc[train['Year']==2010].groupby(['Week']).agg({'Weekly_Sales': ['mean', 'median']})\n",
        "weekly_sales2011 = features_modified.loc[train['Year']==2011].groupby(['Week']).agg({'Weekly_Sales': ['mean', 'median']})\n",
        "weekly_sales2012 = features_modified.loc[train['Year']==2012].groupby(['Week']).agg({'Weekly_Sales': ['mean', 'median']})\n",
        "weekly_sales.plot(figsize=(20,5))"
      ],
      "execution_count": null,
      "outputs": [
        {
          "output_type": "execute_result",
          "data": {
            "text/plain": [
              "<matplotlib.axes._subplots.AxesSubplot at 0x7f76ee901310>"
            ]
          },
          "metadata": {
            "tags": []
          },
          "execution_count": 102
        },
        {
          "output_type": "display_data",
          "data": {
            "image/png": "[encoded data removed]",
            "text/plain": [
              "<Figure size 1440x360 with 1 Axes>"
            ]
          },
          "metadata": {
            "tags": []
          }
        }
      ]
    },
    {
      "cell_type": "markdown",
      "metadata": {
        "id": "0EZC75u93xJn"
      },
      "source": [
        "The data is grouped by week but separately for each year, in order to identify patterns in weekly sales over the years. As a result, a similar pattern can be seen over the years, with a significant increase in sales in weeks 51 and 47 (Christmas and Thanksgiving). The Superbowl (week 6) and LaborDay holidays (week 36) however have a little impact on increased sales volume."
      ]
    },
    {
      "cell_type": "code",
      "metadata": {
        "colab": {
          "base_uri": "https://localhost:8080/",
          "height": 568
        },
        "id": "VSq_QpMU4HjJ",
        "outputId": "d33573c2-b299-4d60-85e1-cd7218395d91"
      },
      "source": [
        "plt.figure(figsize=(20, 7))\n",
        "\n",
        "sns.lineplot(weekly_sales2010['Weekly_Sales']['mean'].index, weekly_sales2010['Weekly_Sales']['mean'].values)\n",
        "sns.lineplot(weekly_sales2011['Weekly_Sales']['mean'].index, weekly_sales2011['Weekly_Sales']['mean'].values)\n",
        "sns.lineplot(weekly_sales2012['Weekly_Sales']['mean'].index, weekly_sales2012['Weekly_Sales']['mean'].values)\n",
        "\n",
        "plt.grid()\n",
        "plt.xticks(np.arange(1, 53, step=1))\n",
        "plt.legend(['2010', '2011', '2012'])\n",
        "plt.show()"
      ],
      "execution_count": null,
      "outputs": [
        {
          "output_type": "stream",
          "text": [
            "/usr/local/lib/python3.7/dist-packages/seaborn/_decorators.py:43: FutureWarning: Pass the following variables as keyword args: x, y. From version 0.12, the only valid positional argument will be `data`, and passing other arguments without an explicit keyword will result in an error or misinterpretation.\n",
            "  FutureWarning\n",
            "/usr/local/lib/python3.7/dist-packages/seaborn/_decorators.py:43: FutureWarning: Pass the following variables as keyword args: x, y. From version 0.12, the only valid positional argument will be `data`, and passing other arguments without an explicit keyword will result in an error or misinterpretation.\n",
            "  FutureWarning\n",
            "/usr/local/lib/python3.7/dist-packages/seaborn/_decorators.py:43: FutureWarning: Pass the following variables as keyword args: x, y. From version 0.12, the only valid positional argument will be `data`, and passing other arguments without an explicit keyword will result in an error or misinterpretation.\n",
            "  FutureWarning\n"
          ],
          "name": "stderr"
        },
        {
          "output_type": "display_data",
          "data": {
            "image/png": "[encoded data removed]",
            "text/plain": [
              "<Figure size 1440x504 with 1 Axes>"
            ]
          },
          "metadata": {
            "tags": []
          }
        }
      ]
    },
    {
      "cell_type": "markdown",
      "metadata": {
        "id": "hg6YEjB7JBKG"
      },
      "source": [
        "### Start coding Model below:"
      ]
    },
    {
      "cell_type": "markdown",
      "metadata": {
        "id": "t78AuUNFyBl9"
      },
      "source": [
        "# Modelling"
      ]
    },
    {
      "cell_type": "code",
      "metadata": {
        "colab": {
          "base_uri": "https://localhost:8080/",
          "height": 435
        },
        "id": "COUaU395yEer",
        "outputId": "90bc405b-a7a8-499c-b40d-617dc9d82b7c"
      },
      "source": [
        "train_data_all = features_modified.drop(['Date'],axis=1)\n",
        "train_data_all"
      ],
      "execution_count": null,
      "outputs": [
        {
          "output_type": "execute_result",
          "data": {
            "text/html": [
              "<div>\n",
              "<style scoped>\n",
              "    .dataframe tbody tr th:only-of-type {\n",
              "        vertical-align: middle;\n",
              "    }\n",
              "\n",
              "    .dataframe tbody tr th {\n",
              "        vertical-align: top;\n",
              "    }\n",
              "\n",
              "    .dataframe thead th {\n",
              "        text-align: right;\n",
              "    }\n",
              "</style>\n",
              "<table border=\"1\" class=\"dataframe\">\n",
              "  <thead>\n",
              "    <tr style=\"text-align: right;\">\n",
              "      <th></th>\n",
              "      <th>Store</th>\n",
              "      <th>Dept</th>\n",
              "      <th>Weekly_Sales</th>\n",
              "      <th>IsHoliday</th>\n",
              "      <th>Temperature</th>\n",
              "      <th>Fuel_Price</th>\n",
              "      <th>MarkDown1</th>\n",
              "      <th>MarkDown2</th>\n",
              "      <th>MarkDown3</th>\n",
              "      <th>MarkDown4</th>\n",
              "      <th>MarkDown5</th>\n",
              "      <th>CPI</th>\n",
              "      <th>Unemployment</th>\n",
              "      <th>Type</th>\n",
              "      <th>Size</th>\n",
              "      <th>Week</th>\n",
              "      <th>Month</th>\n",
              "      <th>Year</th>\n",
              "    </tr>\n",
              "  </thead>\n",
              "  <tbody>\n",
              "    <tr>\n",
              "      <th>0</th>\n",
              "      <td>1.0</td>\n",
              "      <td>1.0</td>\n",
              "      <td>24924.50</td>\n",
              "      <td>0.0</td>\n",
              "      <td>42.31</td>\n",
              "      <td>2.572</td>\n",
              "      <td>-3.779052e+04</td>\n",
              "      <td>1.548470e+06</td>\n",
              "      <td>2.860881e+06</td>\n",
              "      <td>9.726897e+05</td>\n",
              "      <td>-8.048164e+05</td>\n",
              "      <td>211.096358</td>\n",
              "      <td>8.106</td>\n",
              "      <td>3.0</td>\n",
              "      <td>151315.0</td>\n",
              "      <td>5.0</td>\n",
              "      <td>2.0</td>\n",
              "      <td>2010.0</td>\n",
              "    </tr>\n",
              "    <tr>\n",
              "      <th>1</th>\n",
              "      <td>1.0</td>\n",
              "      <td>2.0</td>\n",
              "      <td>50605.27</td>\n",
              "      <td>0.0</td>\n",
              "      <td>42.31</td>\n",
              "      <td>2.572</td>\n",
              "      <td>-1.171117e+06</td>\n",
              "      <td>-1.289255e+06</td>\n",
              "      <td>-6.664306e+05</td>\n",
              "      <td>6.771782e+05</td>\n",
              "      <td>2.900822e+06</td>\n",
              "      <td>211.096358</td>\n",
              "      <td>8.106</td>\n",
              "      <td>3.0</td>\n",
              "      <td>151315.0</td>\n",
              "      <td>5.0</td>\n",
              "      <td>2.0</td>\n",
              "      <td>2010.0</td>\n",
              "    </tr>\n",
              "    <tr>\n",
              "      <th>2</th>\n",
              "      <td>1.0</td>\n",
              "      <td>3.0</td>\n",
              "      <td>13740.12</td>\n",
              "      <td>0.0</td>\n",
              "      <td>42.31</td>\n",
              "      <td>2.572</td>\n",
              "      <td>5.165332e+06</td>\n",
              "      <td>-1.144698e+06</td>\n",
              "      <td>-1.033715e+06</td>\n",
              "      <td>1.664580e+06</td>\n",
              "      <td>-1.823560e+06</td>\n",
              "      <td>211.096358</td>\n",
              "      <td>8.106</td>\n",
              "      <td>3.0</td>\n",
              "      <td>151315.0</td>\n",
              "      <td>5.0</td>\n",
              "      <td>2.0</td>\n",
              "      <td>2010.0</td>\n",
              "    </tr>\n",
              "    <tr>\n",
              "      <th>3</th>\n",
              "      <td>1.0</td>\n",
              "      <td>4.0</td>\n",
              "      <td>39954.04</td>\n",
              "      <td>0.0</td>\n",
              "      <td>42.31</td>\n",
              "      <td>2.572</td>\n",
              "      <td>1.782528e+06</td>\n",
              "      <td>-3.304684e+06</td>\n",
              "      <td>1.429181e+06</td>\n",
              "      <td>4.357675e+06</td>\n",
              "      <td>1.335146e+06</td>\n",
              "      <td>211.096358</td>\n",
              "      <td>8.106</td>\n",
              "      <td>3.0</td>\n",
              "      <td>151315.0</td>\n",
              "      <td>5.0</td>\n",
              "      <td>2.0</td>\n",
              "      <td>2010.0</td>\n",
              "    </tr>\n",
              "    <tr>\n",
              "      <th>4</th>\n",
              "      <td>1.0</td>\n",
              "      <td>5.0</td>\n",
              "      <td>32229.38</td>\n",
              "      <td>0.0</td>\n",
              "      <td>42.31</td>\n",
              "      <td>2.572</td>\n",
              "      <td>-2.628623e+06</td>\n",
              "      <td>2.212122e+06</td>\n",
              "      <td>8.136702e+06</td>\n",
              "      <td>-5.625980e+06</td>\n",
              "      <td>2.117590e+06</td>\n",
              "      <td>211.096358</td>\n",
              "      <td>8.106</td>\n",
              "      <td>3.0</td>\n",
              "      <td>151315.0</td>\n",
              "      <td>5.0</td>\n",
              "      <td>2.0</td>\n",
              "      <td>2010.0</td>\n",
              "    </tr>\n",
              "    <tr>\n",
              "      <th>...</th>\n",
              "      <td>...</td>\n",
              "      <td>...</td>\n",
              "      <td>...</td>\n",
              "      <td>...</td>\n",
              "      <td>...</td>\n",
              "      <td>...</td>\n",
              "      <td>...</td>\n",
              "      <td>...</td>\n",
              "      <td>...</td>\n",
              "      <td>...</td>\n",
              "      <td>...</td>\n",
              "      <td>...</td>\n",
              "      <td>...</td>\n",
              "      <td>...</td>\n",
              "      <td>...</td>\n",
              "      <td>...</td>\n",
              "      <td>...</td>\n",
              "      <td>...</td>\n",
              "    </tr>\n",
              "    <tr>\n",
              "      <th>421565</th>\n",
              "      <td>45.0</td>\n",
              "      <td>93.0</td>\n",
              "      <td>2487.80</td>\n",
              "      <td>0.0</td>\n",
              "      <td>58.85</td>\n",
              "      <td>3.882</td>\n",
              "      <td>4.018910e+03</td>\n",
              "      <td>5.808000e+01</td>\n",
              "      <td>1.000000e+02</td>\n",
              "      <td>2.119400e+02</td>\n",
              "      <td>8.583300e+02</td>\n",
              "      <td>192.308899</td>\n",
              "      <td>8.667</td>\n",
              "      <td>2.0</td>\n",
              "      <td>118221.0</td>\n",
              "      <td>43.0</td>\n",
              "      <td>10.0</td>\n",
              "      <td>2012.0</td>\n",
              "    </tr>\n",
              "    <tr>\n",
              "      <th>421566</th>\n",
              "      <td>45.0</td>\n",
              "      <td>94.0</td>\n",
              "      <td>5203.31</td>\n",
              "      <td>0.0</td>\n",
              "      <td>58.85</td>\n",
              "      <td>3.882</td>\n",
              "      <td>4.018910e+03</td>\n",
              "      <td>5.808000e+01</td>\n",
              "      <td>1.000000e+02</td>\n",
              "      <td>2.119400e+02</td>\n",
              "      <td>8.583300e+02</td>\n",
              "      <td>192.308899</td>\n",
              "      <td>8.667</td>\n",
              "      <td>2.0</td>\n",
              "      <td>118221.0</td>\n",
              "      <td>43.0</td>\n",
              "      <td>10.0</td>\n",
              "      <td>2012.0</td>\n",
              "    </tr>\n",
              "    <tr>\n",
              "      <th>421567</th>\n",
              "      <td>45.0</td>\n",
              "      <td>95.0</td>\n",
              "      <td>56017.47</td>\n",
              "      <td>0.0</td>\n",
              "      <td>58.85</td>\n",
              "      <td>3.882</td>\n",
              "      <td>4.018910e+03</td>\n",
              "      <td>5.808000e+01</td>\n",
              "      <td>1.000000e+02</td>\n",
              "      <td>2.119400e+02</td>\n",
              "      <td>8.583300e+02</td>\n",
              "      <td>192.308899</td>\n",
              "      <td>8.667</td>\n",
              "      <td>2.0</td>\n",
              "      <td>118221.0</td>\n",
              "      <td>43.0</td>\n",
              "      <td>10.0</td>\n",
              "      <td>2012.0</td>\n",
              "    </tr>\n",
              "    <tr>\n",
              "      <th>421568</th>\n",
              "      <td>45.0</td>\n",
              "      <td>97.0</td>\n",
              "      <td>6817.48</td>\n",
              "      <td>0.0</td>\n",
              "      <td>58.85</td>\n",
              "      <td>3.882</td>\n",
              "      <td>4.018910e+03</td>\n",
              "      <td>5.808000e+01</td>\n",
              "      <td>1.000000e+02</td>\n",
              "      <td>2.119400e+02</td>\n",
              "      <td>8.583300e+02</td>\n",
              "      <td>192.308899</td>\n",
              "      <td>8.667</td>\n",
              "      <td>2.0</td>\n",
              "      <td>118221.0</td>\n",
              "      <td>43.0</td>\n",
              "      <td>10.0</td>\n",
              "      <td>2012.0</td>\n",
              "    </tr>\n",
              "    <tr>\n",
              "      <th>421569</th>\n",
              "      <td>45.0</td>\n",
              "      <td>98.0</td>\n",
              "      <td>1076.80</td>\n",
              "      <td>0.0</td>\n",
              "      <td>58.85</td>\n",
              "      <td>3.882</td>\n",
              "      <td>4.018910e+03</td>\n",
              "      <td>5.808000e+01</td>\n",
              "      <td>1.000000e+02</td>\n",
              "      <td>2.119400e+02</td>\n",
              "      <td>8.583300e+02</td>\n",
              "      <td>192.308899</td>\n",
              "      <td>8.667</td>\n",
              "      <td>2.0</td>\n",
              "      <td>118221.0</td>\n",
              "      <td>43.0</td>\n",
              "      <td>10.0</td>\n",
              "      <td>2012.0</td>\n",
              "    </tr>\n",
              "  </tbody>\n",
              "</table>\n",
              "<p>421570 rows × 18 columns</p>\n",
              "</div>"
            ],
            "text/plain": [
              "        Store  Dept  Weekly_Sales  IsHoliday  ...      Size  Week  Month    Year\n",
              "0         1.0   1.0      24924.50        0.0  ...  151315.0   5.0    2.0  2010.0\n",
              "1         1.0   2.0      50605.27        0.0  ...  151315.0   5.0    2.0  2010.0\n",
              "2         1.0   3.0      13740.12        0.0  ...  151315.0   5.0    2.0  2010.0\n",
              "3         1.0   4.0      39954.04        0.0  ...  151315.0   5.0    2.0  2010.0\n",
              "4         1.0   5.0      32229.38        0.0  ...  151315.0   5.0    2.0  2010.0\n",
              "...       ...   ...           ...        ...  ...       ...   ...    ...     ...\n",
              "421565   45.0  93.0       2487.80        0.0  ...  118221.0  43.0   10.0  2012.0\n",
              "421566   45.0  94.0       5203.31        0.0  ...  118221.0  43.0   10.0  2012.0\n",
              "421567   45.0  95.0      56017.47        0.0  ...  118221.0  43.0   10.0  2012.0\n",
              "421568   45.0  97.0       6817.48        0.0  ...  118221.0  43.0   10.0  2012.0\n",
              "421569   45.0  98.0       1076.80        0.0  ...  118221.0  43.0   10.0  2012.0\n",
              "\n",
              "[421570 rows x 18 columns]"
            ]
          },
          "metadata": {
            "tags": []
          },
          "execution_count": 104
        }
      ]
    },
    {
      "cell_type": "code",
      "metadata": {
        "colab": {
          "base_uri": "https://localhost:8080/"
        },
        "id": "DbqcDIacjoqi",
        "outputId": "d10d3948-5b3c-4adb-a49d-4419f2012b68"
      },
      "source": [
        "from sklearn.model_selection import train_test_split\n",
        "train_all_y = train_data_all.loc[:, ['Weekly_Sales']]\n",
        "train_all_x = train_data_all.drop(['Weekly_Sales'], axis=1)\n",
        "x_train, x_test, y_train, y_test = train_test_split(train_all_x, train_all_y, test_size=0.2, random_state=0)\n",
        "\n",
        "print(x_train.shape)\n",
        "print(x_test.shape)"
      ],
      "execution_count": null,
      "outputs": [
        {
          "output_type": "stream",
          "text": [
            "(337256, 17)\n",
            "(84314, 17)\n"
          ],
          "name": "stdout"
        }
      ]
    },
    {
      "cell_type": "code",
      "metadata": {
        "id": "PKUtq8tMkNpY"
      },
      "source": [
        "from sklearn.linear_model import LinearRegression\n",
        "from sklearn.neighbors import KNeighborsRegressor\n",
        "from sklearn.linear_model import Ridge\n",
        "from sklearn.linear_model import Lasso\n",
        "from sklearn.tree import DecisionTreeRegressor\n",
        "from sklearn.ensemble import RandomForestRegressor\n",
        "from sklearn.ensemble import ExtraTreesRegressor\n",
        "from xgboost import XGBRegressor\n",
        "import sklearn.metrics as metrics\n",
        "from sklearn.metrics import mean_squared_error, mean_absolute_error, r2_score"
      ],
      "execution_count": null,
      "outputs": []
    },
    {
      "cell_type": "markdown",
      "metadata": {
        "id": "EpKBkFuDlMC2"
      },
      "source": [
        "<h2>Linear Regression</h2>"
      ]
    },
    {
      "cell_type": "code",
      "metadata": {
        "id": "50cvTSQPkP_O"
      },
      "source": [
        "reg = LinearRegression()\n",
        "reg.fit(x_train, y_train)\n",
        "y_pred = reg.predict(x_test)"
      ],
      "execution_count": null,
      "outputs": []
    },
    {
      "cell_type": "code",
      "metadata": {
        "colab": {
          "base_uri": "https://localhost:8080/"
        },
        "id": "0EosEtKvkpcG",
        "outputId": "a6580a17-e447-4f05-a669-f5cb52739fd2"
      },
      "source": [
        "# Print out the MAE, MSE & RMSE\n",
        "print(\"MAE: \", metrics.mean_absolute_error(y_test, y_pred)) #MAE\n",
        "print(\"MSE: \", metrics.mean_squared_error(y_test, y_pred)) #MSE\n",
        "print(\"RMSE: \", np.sqrt(metrics.mean_squared_error(y_test, y_pred))) #RMSE\n",
        "score = r2_score(y_test, y_pred)\n",
        "print(\"R^2:\", score)"
      ],
      "execution_count": null,
      "outputs": [
        {
          "output_type": "stream",
          "text": [
            "MAE:  14580.244582560386\n",
            "MSE:  479314233.1627902\n",
            "RMSE:  21893.2462911006\n",
            "R^2: 0.08460632412404667\n"
          ],
          "name": "stdout"
        }
      ]
    },
    {
      "cell_type": "markdown",
      "metadata": {
        "id": "BHsxxBTqlUQT"
      },
      "source": [
        "<h2>KNN</h2>"
      ]
    },
    {
      "cell_type": "code",
      "metadata": {
        "id": "0_n7CQ1ilAQq"
      },
      "source": [
        "knn = KNeighborsRegressor(n_neighbors=5)\n",
        "knn.fit(x_train, y_train)\n",
        "y_pred = knn.predict(x_test)"
      ],
      "execution_count": null,
      "outputs": []
    },
    {
      "cell_type": "code",
      "metadata": {
        "colab": {
          "base_uri": "https://localhost:8080/"
        },
        "id": "sUbLfbKalZkz",
        "outputId": "3f3d18f5-8af9-4a14-a4f7-373a59a67f82"
      },
      "source": [
        "from sklearn import metrics\n",
        "\n",
        "# Print out the MAE, MSE & RMSE\n",
        "print(\"MAE: \", metrics.mean_absolute_error(y_test, y_pred)) #MAE\n",
        "print(\"MSE: \", metrics.mean_squared_error(y_test, y_pred)) #MSE\n",
        "print(\"RMSE: \", np.sqrt(metrics.mean_squared_error(y_test, y_pred))) #RMSE\n",
        "# rSquared\n",
        "score = r2_score(y_test, y_pred)\n",
        "print(\"R^2:\", score)"
      ],
      "execution_count": null,
      "outputs": [
        {
          "output_type": "stream",
          "text": [
            "MAE:  15456.492374409943\n",
            "MSE:  559652000.6083946\n",
            "RMSE:  23656.965160569405\n",
            "R^2: -0.06882263576399117\n"
          ],
          "name": "stdout"
        }
      ]
    },
    {
      "cell_type": "markdown",
      "metadata": {
        "id": "ttkIoRKzlgne"
      },
      "source": [
        "<h2>Decision Tree Regressor</h2>"
      ]
    },
    {
      "cell_type": "code",
      "metadata": {
        "id": "2jjPexhLlnqT"
      },
      "source": [
        "dt = DecisionTreeRegressor()\n",
        "dt.fit(x_train, y_train)\n",
        "y_pred = dt.predict(x_test)"
      ],
      "execution_count": null,
      "outputs": []
    },
    {
      "cell_type": "code",
      "metadata": {
        "colab": {
          "base_uri": "https://localhost:8080/"
        },
        "id": "wfI-yc0qltDP",
        "outputId": "a23c0496-3247-4cd4-ec95-c2894b99b2cb"
      },
      "source": [
        "# Print out the MAE, MSE & RMSE\n",
        "print(\"MAE: \", metrics.mean_absolute_error(y_test, y_pred)) #MAE\n",
        "print(\"MSE: \", metrics.mean_squared_error(y_test, y_pred)) #MSE\n",
        "print(\"RMSE: \", np.sqrt(metrics.mean_squared_error(y_test, y_pred))) #RMSE\n",
        "# rSquared\n",
        "score = r2_score(y_test, y_pred)\n",
        "print(\"R^2:\", score)"
      ],
      "execution_count": null,
      "outputs": [
        {
          "output_type": "stream",
          "text": [
            "MAE:  2023.3573688829856\n",
            "MSE:  31704632.696291383\n",
            "RMSE:  5630.686698466839\n",
            "R^2: 0.9394505352477228\n"
          ],
          "name": "stdout"
        }
      ]
    },
    {
      "cell_type": "markdown",
      "metadata": {
        "id": "p1NZg0HBl0OO"
      },
      "source": [
        "<h2>Random Forest Regressor</h2>"
      ]
    },
    {
      "cell_type": "code",
      "metadata": {
        "colab": {
          "base_uri": "https://localhost:8080/"
        },
        "id": "M-J9UoSUl8ZM",
        "outputId": "245d82c5-5c96-44b2-9242-d26105c1730e"
      },
      "source": [
        "rf = RandomForestRegressor(n_estimators=100)\n",
        "rf.fit(x_train, y_train)\n",
        "y_pred = rf.predict(x_test)"
      ],
      "execution_count": null,
      "outputs": [
        {
          "output_type": "stream",
          "text": [
            "/usr/local/lib/python3.7/dist-packages/ipykernel_launcher.py:2: DataConversionWarning: A column-vector y was passed when a 1d array was expected. Please change the shape of y to (n_samples,), for example using ravel().\n",
            "  \n"
          ],
          "name": "stderr"
        }
      ]
    },
    {
      "cell_type": "code",
      "metadata": {
        "colab": {
          "base_uri": "https://localhost:8080/"
        },
        "id": "4V-0TssmmB8y",
        "outputId": "9128a3c3-a62c-4b4a-cdba-f4df1ea0d3cd"
      },
      "source": [
        "# Print out the MAE, MSE & RMSE\n",
        "print(\"MAE: \", metrics.mean_absolute_error(y_test, y_pred)) #MAE\n",
        "print(\"MSE: \", metrics.mean_squared_error(y_test, y_pred)) #MSE\n",
        "print(\"RMSE: \", np.sqrt(metrics.mean_squared_error(y_test, y_pred))) #RMSE\n",
        "# rSquared\n",
        "score = r2_score(y_test, y_pred)\n",
        "print(\"R^2:\", score)"
      ],
      "execution_count": null,
      "outputs": [
        {
          "output_type": "stream",
          "text": [
            "MAE:  1494.4698422776764\n",
            "MSE:  15030961.534401089\n",
            "RMSE:  3876.978402622471\n",
            "R^2: 0.971293889939103\n"
          ],
          "name": "stdout"
        }
      ]
    },
    {
      "cell_type": "markdown",
      "metadata": {
        "id": "XE-rGcZzmNvW"
      },
      "source": [
        "<h2>Extra Trees Regressor</h2>"
      ]
    },
    {
      "cell_type": "code",
      "metadata": {
        "colab": {
          "base_uri": "https://localhost:8080/"
        },
        "id": "YwMHem82mUed",
        "outputId": "1a22a343-6c73-4bd6-daef-28aaf8b2e400"
      },
      "source": [
        "etr_random_best = ExtraTreesRegressor(bootstrap=False, criterion=\"mse\", max_depth=None,\n",
        "                                      max_features=\"auto\", max_leaf_nodes=None,\n",
        "                                      min_impurity_decrease=0.0, min_impurity_split=None,\n",
        "                                      min_samples_leaf=2, min_samples_split=5,\n",
        "                                      min_weight_fraction_leaf=0.0, n_estimators=100, n_jobs=30,\n",
        "                                      oob_score=False, random_state=None, warm_start=False)\n",
        "etr_random_best.fit(x_train, y_train)\n",
        "y_pred = etr_random_best.predict(x_test)"
      ],
      "execution_count": null,
      "outputs": [
        {
          "output_type": "stream",
          "text": [
            "/usr/local/lib/python3.7/dist-packages/ipykernel_launcher.py:7: DataConversionWarning: A column-vector y was passed when a 1d array was expected. Please change the shape of y to (n_samples,), for example using ravel().\n",
            "  import sys\n"
          ],
          "name": "stderr"
        }
      ]
    },
    {
      "cell_type": "code",
      "metadata": {
        "colab": {
          "base_uri": "https://localhost:8080/"
        },
        "id": "fjmp1tkpmgU_",
        "outputId": "aadc5458-2855-4537-e7a8-70ee41d551d9"
      },
      "source": [
        "# Print out the MAE, MSE & RMSE\n",
        "print(\"MAE: \", metrics.mean_absolute_error(y_test, y_pred)) #MAE\n",
        "print(\"MSE: \", metrics.mean_squared_error(y_test, y_pred)) #MSE\n",
        "print(\"RMSE: \", np.sqrt(metrics.mean_squared_error(y_test, y_pred))) #RMSE\n",
        "\n",
        "# rSquared\n",
        "score = r2_score(y_test, y_pred)\n",
        "print(\"R^2:\", score)"
      ],
      "execution_count": null,
      "outputs": [
        {
          "output_type": "stream",
          "text": [
            "MAE:  1458.1956399993423\n",
            "MSE:  16007887.169331798\n",
            "RMSE:  4000.9857746975053\n",
            "R^2: 0.9694281586794329\n"
          ],
          "name": "stdout"
        }
      ]
    },
    {
      "cell_type": "markdown",
      "metadata": {
        "id": "0I_MaFj2mqpJ"
      },
      "source": [
        "<h2>XGBoost</h2>"
      ]
    },
    {
      "cell_type": "code",
      "metadata": {
        "colab": {
          "base_uri": "https://localhost:8080/"
        },
        "id": "jXng4eURmo8W",
        "outputId": "170a5b43-a7fe-4047-9fcf-c229d5b62d79"
      },
      "source": [
        "xg = XGBRegressor()\n",
        "xg.fit(x_train, y_train)\n",
        "y_pred = xg.predict(x_test)"
      ],
      "execution_count": null,
      "outputs": [
        {
          "output_type": "stream",
          "text": [
            "[15:10:46] WARNING: /workspace/src/objective/regression_obj.cu:152: reg:linear is now deprecated in favor of reg:squarederror.\n"
          ],
          "name": "stdout"
        }
      ]
    },
    {
      "cell_type": "code",
      "metadata": {
        "colab": {
          "base_uri": "https://localhost:8080/"
        },
        "id": "YeVOrqFWm1Vm",
        "outputId": "21a1c229-7e36-4e05-a640-8e74444e4846"
      },
      "source": [
        "# Print out the MAE, MSE & RMSE\n",
        "print(\"MAE: \", metrics.mean_absolute_error(y_test, y_pred)) #MAE\n",
        "print(\"MSE: \", metrics.mean_squared_error(y_test, y_pred)) #MSE\n",
        "print(\"RMSE: \", np.sqrt(metrics.mean_squared_error(y_test, y_pred))) #RMSE\n",
        "\n",
        "# rSquared\n",
        "score = r2_score(y_test, y_pred)\n",
        "print(\"R^2:\", score)"
      ],
      "execution_count": null,
      "outputs": [
        {
          "output_type": "stream",
          "text": [
            "MAE:  6885.182538032777\n",
            "MSE:  138284138.1091024\n",
            "RMSE:  11759.427626764085\n",
            "R^2: 0.7359051395913019\n"
          ],
          "name": "stdout"
        }
      ]
    },
    {
      "cell_type": "markdown",
      "metadata": {
        "id": "xdqOhfmKm7Cp"
      },
      "source": [
        "<h2>Ridge</h2>"
      ]
    },
    {
      "cell_type": "code",
      "metadata": {
        "id": "zL510gC1nAys"
      },
      "source": [
        "rid = Ridge()\n",
        "rid.fit(x_train, y_train)\n",
        "y_pred = rid.predict(x_test)"
      ],
      "execution_count": null,
      "outputs": []
    },
    {
      "cell_type": "code",
      "metadata": {
        "colab": {
          "base_uri": "https://localhost:8080/"
        },
        "id": "gf_WzNDknHtF",
        "outputId": "ca248b3e-f0aa-4ba6-9f0c-3b4c9b53f620"
      },
      "source": [
        "# Print out the MAE, MSE & RMSE\n",
        "print(\"MAE: \", metrics.mean_absolute_error(y_test, y_pred)) #MAE\n",
        "print(\"MSE: \", metrics.mean_squared_error(y_test, y_pred)) #MSE\n",
        "print(\"RMSE: \", np.sqrt(metrics.mean_squared_error(y_test, y_pred))) #RMSE\n",
        "\n",
        "# rSquared\n",
        "score = r2_score(y_test, y_pred)\n",
        "print(\"R^2:\", score)"
      ],
      "execution_count": null,
      "outputs": [
        {
          "output_type": "stream",
          "text": [
            "MAE:  14580.244040257217\n",
            "MSE:  479314232.4667148\n",
            "RMSE:  21893.246275203564\n",
            "R^2: 0.0846063254534104\n"
          ],
          "name": "stdout"
        }
      ]
    },
    {
      "cell_type": "markdown",
      "metadata": {
        "id": "54IjYT4_nItf"
      },
      "source": [
        "<h2>Lasso</h2>"
      ]
    },
    {
      "cell_type": "code",
      "metadata": {
        "id": "zquAztzOnLqM",
        "colab": {
          "base_uri": "https://localhost:8080/"
        },
        "outputId": "12331886-d93d-4d8b-9b55-156be336e386"
      },
      "source": [
        "las = Lasso()\n",
        "las.fit(x_train, y_train)\n",
        "y_pred = las.predict(x_test)"
      ],
      "execution_count": null,
      "outputs": [
        {
          "output_type": "stream",
          "text": [
            "/usr/local/lib/python3.7/dist-packages/sklearn/linear_model/_coordinate_descent.py:476: ConvergenceWarning: Objective did not converge. You might want to increase the number of iterations. Duality gap: 52260406358761.31, tolerance: 17329587939.550426\n",
            "  positive)\n"
          ],
          "name": "stderr"
        }
      ]
    },
    {
      "cell_type": "code",
      "metadata": {
        "colab": {
          "base_uri": "https://localhost:8080/"
        },
        "id": "Oz0dpJHXnQlF",
        "outputId": "c724b217-ed72-4242-a3c7-9298d6887fa3"
      },
      "source": [
        "# Print out the MAE, MSE & RMSE\n",
        "print(\"MAE: \", metrics.mean_absolute_error(y_test, y_pred)) #MAE\n",
        "print(\"MSE: \", metrics.mean_squared_error(y_test, y_pred)) #MSE\n",
        "print(\"RMSE: \", np.sqrt(metrics.mean_squared_error(y_test, y_pred))) #RMSE\n",
        "\n",
        "# rSquared\n",
        "score = r2_score(y_test, y_pred)\n",
        "print(\"R^2:\", score)"
      ],
      "execution_count": null,
      "outputs": [
        {
          "output_type": "stream",
          "text": [
            "MAE:  14580.119994306218\n",
            "MSE:  479312983.0741442\n",
            "RMSE:  21893.217741440938\n",
            "R^2: 0.08460871154165639\n"
          ],
          "name": "stdout"
        }
      ]
    },
    {
      "cell_type": "code",
      "metadata": {
        "colab": {
          "base_uri": "https://localhost:8080/",
          "height": 141
        },
        "id": "l-EnMDb2bpo2",
        "outputId": "1da25168-ba8a-4a0a-c995-ccf5a8d5e39c"
      },
      "source": [
        "y_pred = etr_random_best.predict(test_modified)\n",
        "pred = pd.DataFrame(y_pred.astype(str))\n",
        "pred[\"Weekly_Sales\"] = pd.DataFrame(y_pred.astype(str))\n",
        "pred.head(3)"
      ],
      "execution_count": null,
      "outputs": [
        {
          "output_type": "execute_result",
          "data": {
            "text/html": [
              "<div>\n",
              "<style scoped>\n",
              "    .dataframe tbody tr th:only-of-type {\n",
              "        vertical-align: middle;\n",
              "    }\n",
              "\n",
              "    .dataframe tbody tr th {\n",
              "        vertical-align: top;\n",
              "    }\n",
              "\n",
              "    .dataframe thead th {\n",
              "        text-align: right;\n",
              "    }\n",
              "</style>\n",
              "<table border=\"1\" class=\"dataframe\">\n",
              "  <thead>\n",
              "    <tr style=\"text-align: right;\">\n",
              "      <th></th>\n",
              "      <th>0</th>\n",
              "      <th>Weekly_Sales</th>\n",
              "    </tr>\n",
              "  </thead>\n",
              "  <tbody>\n",
              "    <tr>\n",
              "      <th>0</th>\n",
              "      <td>30181.21138333333</td>\n",
              "      <td>30181.21138333333</td>\n",
              "    </tr>\n",
              "    <tr>\n",
              "      <th>1</th>\n",
              "      <td>45131.705908333315</td>\n",
              "      <td>45131.705908333315</td>\n",
              "    </tr>\n",
              "    <tr>\n",
              "      <th>2</th>\n",
              "      <td>10994.77314</td>\n",
              "      <td>10994.77314</td>\n",
              "    </tr>\n",
              "  </tbody>\n",
              "</table>\n",
              "</div>"
            ],
            "text/plain": [
              "                    0        Weekly_Sales\n",
              "0   30181.21138333333   30181.21138333333\n",
              "1  45131.705908333315  45131.705908333315\n",
              "2         10994.77314         10994.77314"
            ]
          },
          "metadata": {
            "tags": []
          },
          "execution_count": 149
        }
      ]
    },
    {
      "cell_type": "code",
      "metadata": {
        "id": "o2WEqzVvXYJk",
        "colab": {
          "base_uri": "https://localhost:8080/",
          "height": 141
        },
        "outputId": "aed9d08d-b7b6-457e-e45f-c9801f643ddc"
      },
      "source": [
        "Id = pd.DataFrame(df_test[[\"Store\", \"Dept\",\"Date\"]])\n",
        "Id.head(3)"
      ],
      "execution_count": null,
      "outputs": [
        {
          "output_type": "execute_result",
          "data": {
            "text/html": [
              "<div>\n",
              "<style scoped>\n",
              "    .dataframe tbody tr th:only-of-type {\n",
              "        vertical-align: middle;\n",
              "    }\n",
              "\n",
              "    .dataframe tbody tr th {\n",
              "        vertical-align: top;\n",
              "    }\n",
              "\n",
              "    .dataframe thead th {\n",
              "        text-align: right;\n",
              "    }\n",
              "</style>\n",
              "<table border=\"1\" class=\"dataframe\">\n",
              "  <thead>\n",
              "    <tr style=\"text-align: right;\">\n",
              "      <th></th>\n",
              "      <th>Store</th>\n",
              "      <th>Dept</th>\n",
              "      <th>Date</th>\n",
              "    </tr>\n",
              "  </thead>\n",
              "  <tbody>\n",
              "    <tr>\n",
              "      <th>0</th>\n",
              "      <td>1</td>\n",
              "      <td>1</td>\n",
              "      <td>1351814400000000000</td>\n",
              "    </tr>\n",
              "    <tr>\n",
              "      <th>1</th>\n",
              "      <td>1</td>\n",
              "      <td>2</td>\n",
              "      <td>1351814400000000000</td>\n",
              "    </tr>\n",
              "    <tr>\n",
              "      <th>2</th>\n",
              "      <td>1</td>\n",
              "      <td>3</td>\n",
              "      <td>1351814400000000000</td>\n",
              "    </tr>\n",
              "  </tbody>\n",
              "</table>\n",
              "</div>"
            ],
            "text/plain": [
              "   Store  Dept                 Date\n",
              "0      1     1  1351814400000000000\n",
              "1      1     2  1351814400000000000\n",
              "2      1     3  1351814400000000000"
            ]
          },
          "metadata": {
            "tags": []
          },
          "execution_count": 150
        }
      ]
    },
    {
      "cell_type": "code",
      "metadata": {
        "id": "StrjegdLXbCq",
        "colab": {
          "base_uri": "https://localhost:8080/",
          "height": 141
        },
        "outputId": "77de3819-d3cb-42e0-a6a8-0c648fe07b70"
      },
      "source": [
        "Id[\"Id\"] = Id[\"Store\"].astype(str) + \"_\" + Id[\"Dept\"].astype(str) + \"_\" + Id[\"Date\"].astype(str)\n",
        "Id.head(3)"
      ],
      "execution_count": null,
      "outputs": [
        {
          "output_type": "execute_result",
          "data": {
            "text/html": [
              "<div>\n",
              "<style scoped>\n",
              "    .dataframe tbody tr th:only-of-type {\n",
              "        vertical-align: middle;\n",
              "    }\n",
              "\n",
              "    .dataframe tbody tr th {\n",
              "        vertical-align: top;\n",
              "    }\n",
              "\n",
              "    .dataframe thead th {\n",
              "        text-align: right;\n",
              "    }\n",
              "</style>\n",
              "<table border=\"1\" class=\"dataframe\">\n",
              "  <thead>\n",
              "    <tr style=\"text-align: right;\">\n",
              "      <th></th>\n",
              "      <th>Store</th>\n",
              "      <th>Dept</th>\n",
              "      <th>Date</th>\n",
              "      <th>Id</th>\n",
              "    </tr>\n",
              "  </thead>\n",
              "  <tbody>\n",
              "    <tr>\n",
              "      <th>0</th>\n",
              "      <td>1</td>\n",
              "      <td>1</td>\n",
              "      <td>1351814400000000000</td>\n",
              "      <td>1_1_1351814400000000000</td>\n",
              "    </tr>\n",
              "    <tr>\n",
              "      <th>1</th>\n",
              "      <td>1</td>\n",
              "      <td>2</td>\n",
              "      <td>1351814400000000000</td>\n",
              "      <td>1_2_1351814400000000000</td>\n",
              "    </tr>\n",
              "    <tr>\n",
              "      <th>2</th>\n",
              "      <td>1</td>\n",
              "      <td>3</td>\n",
              "      <td>1351814400000000000</td>\n",
              "      <td>1_3_1351814400000000000</td>\n",
              "    </tr>\n",
              "  </tbody>\n",
              "</table>\n",
              "</div>"
            ],
            "text/plain": [
              "   Store  Dept                 Date                       Id\n",
              "0      1     1  1351814400000000000  1_1_1351814400000000000\n",
              "1      1     2  1351814400000000000  1_2_1351814400000000000\n",
              "2      1     3  1351814400000000000  1_3_1351814400000000000"
            ]
          },
          "metadata": {
            "tags": []
          },
          "execution_count": 151
        }
      ]
    },
    {
      "cell_type": "code",
      "metadata": {
        "id": "PRkdWyLsXgJF",
        "colab": {
          "base_uri": "https://localhost:8080/",
          "height": 141
        },
        "outputId": "43a6602f-c080-4883-a157-3b8a7269b428"
      },
      "source": [
        "Id = pd.DataFrame(Id[\"Id\"])\n",
        "Id.head(3)"
      ],
      "execution_count": null,
      "outputs": [
        {
          "output_type": "execute_result",
          "data": {
            "text/html": [
              "<div>\n",
              "<style scoped>\n",
              "    .dataframe tbody tr th:only-of-type {\n",
              "        vertical-align: middle;\n",
              "    }\n",
              "\n",
              "    .dataframe tbody tr th {\n",
              "        vertical-align: top;\n",
              "    }\n",
              "\n",
              "    .dataframe thead th {\n",
              "        text-align: right;\n",
              "    }\n",
              "</style>\n",
              "<table border=\"1\" class=\"dataframe\">\n",
              "  <thead>\n",
              "    <tr style=\"text-align: right;\">\n",
              "      <th></th>\n",
              "      <th>Id</th>\n",
              "    </tr>\n",
              "  </thead>\n",
              "  <tbody>\n",
              "    <tr>\n",
              "      <th>0</th>\n",
              "      <td>1_1_1351814400000000000</td>\n",
              "    </tr>\n",
              "    <tr>\n",
              "      <th>1</th>\n",
              "      <td>1_2_1351814400000000000</td>\n",
              "    </tr>\n",
              "    <tr>\n",
              "      <th>2</th>\n",
              "      <td>1_3_1351814400000000000</td>\n",
              "    </tr>\n",
              "  </tbody>\n",
              "</table>\n",
              "</div>"
            ],
            "text/plain": [
              "                        Id\n",
              "0  1_1_1351814400000000000\n",
              "1  1_2_1351814400000000000\n",
              "2  1_3_1351814400000000000"
            ]
          },
          "metadata": {
            "tags": []
          },
          "execution_count": 152
        }
      ]
    },
    {
      "cell_type": "code",
      "metadata": {
        "id": "5RDfEwRlXmDG"
      },
      "source": [
        "predictions = pd.concat([Id,pred[\"Weekly_Sales\"]], axis = 1)"
      ],
      "execution_count": null,
      "outputs": []
    },
    {
      "cell_type": "code",
      "metadata": {
        "id": "oNnLkplmXoXQ",
        "colab": {
          "base_uri": "https://localhost:8080/"
        },
        "outputId": "c7c56725-5438-4183-89f9-70565cd7a0fa"
      },
      "source": [
        "predictions.head(3)\n",
        "predictions.shape"
      ],
      "execution_count": null,
      "outputs": [
        {
          "output_type": "execute_result",
          "data": {
            "text/plain": [
              "(115064, 2)"
            ]
          },
          "metadata": {
            "tags": []
          },
          "execution_count": 154
        }
      ]
    },
    {
      "cell_type": "code",
      "metadata": {
        "id": "ynRe83JvXx-c"
      },
      "source": [
        "import os\n",
        "os.chdir('/content/drive/MyDrive/Assignment_DM')\n",
        "predictions.to_csv(\"Weekly_Sales_Prediction.csv\", index=False)"
      ],
      "execution_count": null,
      "outputs": []
    }
  ]
}